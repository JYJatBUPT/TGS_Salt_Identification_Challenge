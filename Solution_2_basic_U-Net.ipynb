{
 "cells": [
  {
   "cell_type": "markdown",
   "metadata": {},
   "source": [
    "ref: https://www.kaggle.com/erikistre/pytorch-basic-u-net"
   ]
  },
  {
   "cell_type": "markdown",
   "metadata": {},
   "source": [
    "# 比赛名次---Fight!!! 思路最重要"
   ]
  },
  {
   "cell_type": "markdown",
   "metadata": {},
   "source": [
    "![](http://op4a94iq8.bkt.clouddn.com/18-8-28/35876898.jpg)\n",
    "### basic u-net 严重过拟合  没有测试时平均 0.835阈值\n",
    "![](http://op4a94iq8.bkt.clouddn.com/18-8-29/4992953.jpg)\n",
    "![](http://op4a94iq8.bkt.clouddn.com/18-8-29/39579386.jpg)\n",
    "![](http://op4a94iq8.bkt.clouddn.com/18-8-29/87840458.jpg)"
   ]
  },
  {
   "cell_type": "code",
   "execution_count": null,
   "metadata": {
    "collapsed": true
   },
   "outputs": [],
   "source": []
  },
  {
   "cell_type": "markdown",
   "metadata": {},
   "source": [
    "# FAQ:"
   ]
  },
  {
   "cell_type": "markdown",
   "metadata": {},
   "source": [
    "<font size=4.5 color=bblue> 若使用U-Net系列网络，因为一般是下采样5次，故要求输入图片的宽和高是32的倍数，我们的原始数据的101x101的，所以resize到离101最近的32的倍数，也就是128x128, 不过在后续还可以尝试使用padding的方式填充到128，而不用缩放"
   ]
  },
  {
   "cell_type": "markdown",
   "metadata": {},
   "source": [
    "<font size=4.5 color=bblue>改进的切入点:  (务必保证模块化替换，代码简单逻辑清晰便于修改) \n",
    "* 数据处理环节\n",
    "    * 如果使用预训练模型 那么对图片的归一化处理必须与其一致   \n",
    "    \n",
    "    * 使用0填充形式的resize，使用左右水平翻转增广数据，在测试阶段使用左右水平翻转平均预测  \n",
    "    ``` python\n",
    "    # resize image (101,101) -> (128,128)\n",
    "    def image_in(img):    \n",
    "        out = np.zeros((128,128), dtype=np.uint8)    \n",
    "        ih = img[:, ::-1] \n",
    "        iv = img[::-1, :]\n",
    "        ihv= ih[::-1, :] \n",
    "        out[13:114, 13:114] = img    \n",
    "        out[0:13,0:13] = ihv[-13:,-13:]\n",
    "        out[0:13,13:114] = iv[-13:,:]\n",
    "        out[0:13, -14:] = ihv[-13:, 0:14]\n",
    "        out[13:114, 0:13] = ih[:,-13:]\n",
    "        out[-14:, 0:13] = ihv[0:14:,-13:]\n",
    "        out[-14:,13:114] = iv[0:14,:]\n",
    "        out[-14:,-14:] = ihv[0:14,0:14]\n",
    "        out[13:114,-14:]  =ih[:,0:14]\n",
    "        return(out)\n",
    "     \n",
    "    # go back to original size (128,128) -> (101,101) \n",
    "    def image_out(img):\n",
    "        return img[13:114,13:114]   # for 4 dims use [:,13:114,13:114,:]\n",
    "        \n",
    "    # instead using heavy augmentations, \n",
    "    # flip left-right is simple and maybe is the only method allowed\n",
    "    def flip():\n",
    "        X_aug = X_train[:,:,::-1,:]\n",
    "        y_aug = y_train[:,:,::-1,:]    \n",
    "        \n",
    "    # this is tricky\n",
    "    # having pyotrch model trained, even with augmented left-right data, \n",
    "    # try predict with normal and mirrored X_test and take the average\n",
    "    def dummy_prediction():\n",
    "        # ...\n",
    "        y_preds = model.predict(X_test, verbose=0)\n",
    "        if mirror==True:\n",
    "            m_preds = model.predict(X_test[:,:,::-1,:], verbose=0)\n",
    "            y_preds = 0.5 * (y_preds + m_preds[:,:,::-1,:])\n",
    "    \n",
    "    ```\n",
    "    \n",
    "   \n",
    "* 网络架构设计环节\n",
    "    * 这个可以查Kaggle、谷歌学术相关比赛论文(这些论文一般5-6页)、github上找开源Pytorch代码\n",
    "    \n",
    "* 对logits解码和ground truth的loss计算环节\n",
    "    * 设计多任务Loss函数\n",
    "     \n",
    "* 优化器设置 学习步长设置环节\n",
    "    * Fast.ai 出品的加速收敛的工具包\n",
    "    * 多阶段学习率\n",
    "    * 各种优化器 \n",
    "    * Added dropout to the model which seems to improve performance.\n",
    "    * 训练方法: 先freeze encoder参数，训练decoder参数，最后整体微调    \n",
    "    \n",
    "* 保存和加载参数、记录信息、给训练和测试阶段加点计时代码"
   ]
  },
  {
   "cell_type": "markdown",
   "metadata": {},
   "source": [
    "# Load Libraries"
   ]
  },
  {
   "cell_type": "code",
   "execution_count": 1,
   "metadata": {
    "collapsed": true
   },
   "outputs": [],
   "source": [
    "import pandas as pd\n",
    "import numpy as np\n",
    "import matplotlib.pyplot as plt\n",
    "%matplotlib inline\n",
    "\n",
    "import os\n",
    "from glob import glob\n",
    "import sys\n",
    "import random\n",
    "\n",
    "from tqdm import tqdm_notebook  # 在jupyter-notebook中展示精度条时，只能使用 tqdm_notebook\n",
    "from skimage.io import imread, imshow\n",
    "from skimage.transform import resize\n",
    "from sklearn.metrics import jaccard_similarity_score\n",
    "\n",
    "import torch\n",
    "import torch.nn as nn\n",
    "import torch.nn.functional as F\n",
    "import torchvision.datasets as dsets\n",
    "from torch.autograd import Variable"
   ]
  },
  {
   "cell_type": "markdown",
   "metadata": {},
   "source": [
    "# Image Preparation"
   ]
  },
  {
   "cell_type": "code",
   "execution_count": 2,
   "metadata": {
    "collapsed": true
   },
   "outputs": [],
   "source": [
    "# Set some parameters# Set s \n",
    "im_width = 128\n",
    "im_height = 128\n",
    "im_chan = 3  # 通道数是1？？？？\n",
    "path_train = 'TrainData'\n",
    "path_test = 'TestData'\n",
    "\n",
    "train_path_images = os.path.abspath(path_train + \"/images/\")\n",
    "train_path_masks = os.path.abspath(path_train + \"/masks/\")\n",
    "\n",
    "test_path_images = os.path.abspath(path_test + \"/images/\")\n",
    "test_path_masks = os.path.abspath(path_test + \"/masks/\")"
   ]
  },
  {
   "cell_type": "code",
   "execution_count": 3,
   "metadata": {
    "collapsed": true
   },
   "outputs": [],
   "source": [
    "train_path_images_list = glob(os.path.join(train_path_images, \"*.png\"))\n",
    "train_path_masks_list = glob(os.path.join(train_path_masks, \"*.png\"))\n",
    "test_path_images_list = glob(os.path.join(test_path_images, \"*.png\"))\n",
    "test_path_masks_list = glob(os.path.join(test_path_masks, \"*.png\"))"
   ]
  },
  {
   "cell_type": "code",
   "execution_count": 4,
   "metadata": {},
   "outputs": [
    {
     "name": "stdout",
     "output_type": "stream",
     "text": [
      "(101, 101, 3)\n",
      "(101, 101)\n",
      "(101, 101, 3)\n",
      "(101, 101)\n",
      "(101, 101, 3)\n",
      "(101, 101)\n",
      "(101, 101, 3)\n",
      "(101, 101)\n",
      "(101, 101, 3)\n",
      "(101, 101)\n"
     ]
    },
    {
     "data": {
      "image/png": "[encoded data removed]",
      "text/plain": [
       "<Figure size 1440x720 with 10 Axes>"
      ]
     },
     "metadata": {},
     "output_type": "display_data"
    },
    {
     "name": "stdout",
     "output_type": "stream",
     "text": [
      "[[[117 117 117]\n",
      "  [118 118 118]\n",
      "  [119 119 119]\n",
      "  ...\n",
      "  [110 110 110]\n",
      "  [107 107 107]\n",
      "  [107 107 107]]\n",
      "\n",
      " [[119 119 119]\n",
      "  [118 118 118]\n",
      "  [117 117 117]\n",
      "  ...\n",
      "  [ 96  96  96]\n",
      "  [ 96  96  96]\n",
      "  [ 98  98  98]]\n",
      "\n",
      " [[114 114 114]\n",
      "  [114 114 114]\n",
      "  [114 114 114]\n",
      "  ...\n",
      "  [105 105 105]\n",
      "  [105 105 105]\n",
      "  [104 104 104]]\n",
      "\n",
      " ...\n",
      "\n",
      " [[112 112 112]\n",
      "  [113 113 113]\n",
      "  [112 112 112]\n",
      "  ...\n",
      "  [116 116 116]\n",
      "  [121 121 121]\n",
      "  [117 117 117]]\n",
      "\n",
      " [[125 125 125]\n",
      "  [119 119 119]\n",
      "  [113 113 113]\n",
      "  ...\n",
      "  [120 120 120]\n",
      "  [123 123 123]\n",
      "  [127 127 127]]\n",
      "\n",
      " [[126 126 126]\n",
      "  [119 119 119]\n",
      "  [117 117 117]\n",
      "  ...\n",
      "  [104 104 104]\n",
      "  [101 101 101]\n",
      "  [112 112 112]]]\n"
     ]
    }
   ],
   "source": [
    "# 展示训练集中的几张图片\n",
    "ids= ['1f1cc6b3a4','5b7c160d0d','6c40978ddf','7dfdf6eeb8','7e5a6e5013']\n",
    "plt.figure(figsize=(20,10))\n",
    "for j, img_name in enumerate(ids):\n",
    "    q = j+1\n",
    "    img = imread(train_path_images + \"/\" + img_name + '.png')\n",
    "    print(img.shape)\n",
    "    img_mask = imread(train_path_masks + \"/\" + img_name + '.png')\n",
    "    print(img_mask.shape)\n",
    "    plt.subplot(1,2*(1+len(ids)),q*2-1)\n",
    "    plt.imshow(img)\n",
    "    plt.subplot(1,2*(1+len(ids)),q*2)\n",
    "    plt.imshow(img_mask)\n",
    "plt.show()\n",
    "print(img) # 颜色数组中的RGB上对应的位置都相同 故可以只保存1个通道 压缩保存"
   ]
  },
  {
   "cell_type": "code",
   "execution_count": 5,
   "metadata": {},
   "outputs": [
    {
     "name": "stdout",
     "output_type": "stream",
     "text": [
      "4000\n",
      "18000\n"
     ]
    }
   ],
   "source": [
    "train_ids = next(os.walk(train_path_images))[2]\n",
    "test_ids = next(os.walk(test_path_images))[2]\n",
    "print(len(list(train_ids))) #生成器类型  生成字符串 \"xxxxxxxxx.png\"\n",
    "print(len(list(test_ids)))  # 同上"
   ]
  },
  {
   "cell_type": "code",
   "execution_count": 6,
   "metadata": {},
   "outputs": [
    {
     "name": "stdout",
     "output_type": "stream",
     "text": [
      "Getting and resizing train images and masks ... \n"
     ]
    },
    {
     "data": {
      "application/vnd.jupyter.widget-view+json": {
       "model_id": "3171947ef8124722ba62242d25658f84",
       "version_major": 2,
       "version_minor": 0
      },
      "text/plain": [
       "A Jupyter Widget"
      ]
     },
     "metadata": {},
     "output_type": "display_data"
    },
    {
     "name": "stdout",
     "output_type": "stream",
     "text": [
      "raw img shape: (101, 101, 3)\n",
      "\n",
      "Done!\n",
      "X_train： (4000, 128, 128, 3)\n",
      "Y_train： (4000, 128, 128, 1)\n"
     ]
    }
   ],
   "source": [
    "#---------------  Get Training Images and resize train images and masks ------------------------------\n",
    "X_train = np.zeros((len(train_ids), im_height, im_width, im_chan), dtype=np.uint8)\n",
    "Y_train = np.zeros((len(train_ids), im_height, im_width, 1), dtype=np.bool_)\n",
    "print('Getting and resizing train images and masks ... ')\n",
    "sys.stdout.flush()\n",
    "for n, id_ in tqdm_notebook(enumerate(train_ids), total=len(train_ids)):\n",
    "    img = imread(path_train + '/images/' + id_)\n",
    "    if n==1: \n",
    "        print(\"raw img shape:\",img.shape)  # 打印其中的1张图片的原始shape   # 由于颜色数组中的RGB上对应的位置都相同 故可以只保存1个通道 压缩保存\n",
    "    x = resize(img, (128, 128, 3), mode='constant', preserve_range=True)  # 缩放至128x128x1 \n",
    "    X_train[n] = x\n",
    "    mask = imread(path_train + '/masks/' + id_)\n",
    "    Y_train[n] = resize(mask, (128, 128, 1), \n",
    "                        mode='constant', \n",
    "                        preserve_range=True)\n",
    "\n",
    "print('Done!')\n",
    "print('X_train：',X_train.shape)\n",
    "print(\"Y_train：\",Y_train.shape)"
   ]
  },
  {
   "cell_type": "code",
   "execution_count": 14,
   "metadata": {},
   "outputs": [
    {
     "name": "stdout",
     "output_type": "stream",
     "text": [
      "(128, 128, 3)\n"
     ]
    },
    {
     "data": {
      "image/png": "[encoded data removed]",
      "text/plain": [
       "<Figure size 432x288 with 1 Axes>"
      ]
     },
     "metadata": {},
     "output_type": "display_data"
    },
    {
     "name": "stdout",
     "output_type": "stream",
     "text": [
      "mask: [[0. 0. 0. ... 0. 0. 0.]\n",
      " [0. 0. 0. ... 1. 1. 0.]\n",
      " [0. 0. 0. ... 1. 1. 0.]\n",
      " ...\n",
      " [0. 0. 0. ... 1. 1. 0.]\n",
      " [0. 0. 0. ... 1. 1. 0.]\n",
      " [0. 0. 0. ... 0. 0. 0.]]\n",
      "(128, 128, 3)\n"
     ]
    },
    {
     "data": {
      "image/png": "[encoded data removed]",
      "text/plain": [
       "<Figure size 432x288 with 1 Axes>"
      ]
     },
     "metadata": {},
     "output_type": "display_data"
    },
    {
     "name": "stdout",
     "output_type": "stream",
     "text": [
      "(128, 128, 3)\n"
     ]
    },
    {
     "data": {
      "image/png": "[encoded data removed]",
      "text/plain": [
       "<Figure size 432x288 with 1 Axes>"
      ]
     },
     "metadata": {},
     "output_type": "display_data"
    },
    {
     "name": "stdout",
     "output_type": "stream",
     "text": [
      "(128, 128, 3)\n"
     ]
    },
    {
     "data": {
      "image/png": "[encoded data removed]",
      "text/plain": [
       "<Figure size 432x288 with 1 Axes>"
      ]
     },
     "metadata": {},
     "output_type": "display_data"
    }
   ],
   "source": [
    "# Check if training data looks all right\n",
    "ix =random.randint(0, len(train_ids))\n",
    "print((X_train[ix].shape))\n",
    "bb=X_train[ix].copy()\n",
    "plt.imshow(bb) # X_train是1通道压缩保存，stack到3通道才能正常展示图片\n",
    "plt.show()\n",
    "\n",
    "tmp = np.squeeze(Y_train[ix]).astype(np.float32)\n",
    "print(\"mask:\",tmp)\n",
    "cc=np.dstack((tmp,tmp,tmp))\n",
    "print(cc.shape)\n",
    "plt.imshow(cc)\n",
    "plt.show()\n",
    "\n",
    "bb=bb.transpose(2,0,1)\n",
    "cc=cc.transpose(2,0,1)\n",
    "\n",
    "# instead using heavy augmentations, \n",
    "# flip left-right is simple and maybe is the only method allowed\n",
    "def flip():\n",
    "#     X_aug = bb[:,::-1,:]\n",
    "#     y_aug = cc[:,::-1,:]  \n",
    "    X_aug = bb[:,:,::-1]\n",
    "    y_aug = cc[:,:,::-1]  \n",
    "    return X_aug,y_aug\n",
    "\n",
    "X_aug,y_aug=flip() #[c,h,w]\n",
    "X_aug=X_aug.transpose(1,2,0)\n",
    "y_aug=y_aug.transpose(1,2,0)\n",
    "\n",
    "print((X_aug.shape))\n",
    "plt.imshow(X_aug) # X_train是1通道压缩保存，stack到3通道才能正常展示图片\n",
    "plt.show()\n",
    "\n",
    "\n",
    "print(y_aug.shape)\n",
    "plt.imshow(y_aug)\n",
    "plt.show()\n",
    "    "
   ]
  },
  {
   "cell_type": "markdown",
   "metadata": {},
   "source": [
    "# Prepare Images for Pytorch"
   ]
  },
  {
   "cell_type": "code",
   "execution_count": 15,
   "metadata": {
    "collapsed": true
   },
   "outputs": [],
   "source": [
    "# 自定义一个Pytorch的数据加载器,必须继承自torch.utils.data.Dataset\n",
    "# https://stackoverflow.com/questions/50052295/how-do-you-load-images-into-pytorch-dataloader\n",
    "\n",
    "class saltIDDataset(torch.utils.data.Dataset):\n",
    "\n",
    "    def __init__(self,preprocessed_images,train=True, preprocessed_masks=None):\n",
    "        \"\"\"\n",
    "        Args:\n",
    "            text_file(string): path to text file\n",
    "            root_dir(string): directory with all train images\n",
    "        \"\"\"\n",
    "        self.train = train\n",
    "        self.images = preprocessed_images\n",
    "        if self.train:\n",
    "            self.masks = preprocessed_masks\n",
    "\n",
    "    def __len__(self):\n",
    "        return len(self.images)\n",
    "\n",
    "    def __getitem__(self, idx):\n",
    "        image = self.images[idx]\n",
    "        mask = None\n",
    "        if self.train:\n",
    "            mask = self.masks[idx]\n",
    "        return (image, mask)"
   ]
  },
  {
   "cell_type": "markdown",
   "metadata": {},
   "source": [
    "### <font color=bblue>输入归一化 注意如果使用预训练的模型 则输入的归一化方法就不是下面这种（负责效果很差） 而要使用标准处理代码"
   ]
  },
  {
   "cell_type": "code",
   "execution_count": 16,
   "metadata": {
    "collapsed": true
   },
   "outputs": [],
   "source": [
    "from torchvision.transforms import ToTensor, Normalize, Compose\n",
    "\n",
    "device = torch.device(\"cuda:0\" if torch.cuda.is_available() else \"cpu\")\n",
    "\n",
    "# img_transform = Compose([\n",
    "#     ToTensor(),\n",
    "#     Normalize(mean=[0.485,], std=[0.229,])\n",
    "# ])\n",
    "\n",
    "img_transform = Compose([\n",
    "    ToTensor(),\n",
    "    Normalize(mean=[0.485, 0.456, 0.406], std=[0.229, 0.224, 0.225])\n",
    "])"
   ]
  },
  {
   "cell_type": "code",
   "execution_count": 17,
   "metadata": {
    "collapsed": true
   },
   "outputs": [],
   "source": [
    "X_train_shaped = X_train.copy().reshape(-1, 3, 128, 128)/255.0  # 线性归一化 (0,1)区间\n",
    "Y_train_shaped = Y_train.copy().reshape(-1, 1, 128, 128)\n",
    "\n",
    "X_train_shaped = X_train_shaped.astype(np.float32)\n",
    "Y_train_shaped = Y_train_shaped.astype(np.float32)"
   ]
  },
  {
   "cell_type": "code",
   "execution_count": 18,
   "metadata": {},
   "outputs": [
    {
     "data": {
      "text/plain": [
       "(4000, 3, 128, 128)"
      ]
     },
     "execution_count": 18,
     "metadata": {},
     "output_type": "execute_result"
    }
   ],
   "source": [
    "X_train_shaped.shape"
   ]
  },
  {
   "cell_type": "code",
   "execution_count": 19,
   "metadata": {},
   "outputs": [
    {
     "name": "stdout",
     "output_type": "stream",
     "text": [
      "Before: (4000, 128, 128, 3)\n"
     ]
    }
   ],
   "source": [
    "X_train_shaped=X_train_shaped.transpose(0,2,3,1)\n",
    "Y_train_shaped=Y_train_shaped.transpose(0,2,3,1)\n",
    "print(\"Before:\",X_train_shaped.shape)"
   ]
  },
  {
   "cell_type": "code",
   "execution_count": 20,
   "metadata": {},
   "outputs": [
    {
     "data": {
      "application/vnd.jupyter.widget-view+json": {
       "model_id": "8d30eb62cf58451f9c1fc7644b926e56",
       "version_major": 2,
       "version_minor": 0
      },
      "text/plain": [
       "A Jupyter Widget"
      ]
     },
     "metadata": {},
     "output_type": "display_data"
    },
    {
     "name": "stdout",
     "output_type": "stream",
     "text": [
      "torch.Size([3, 128, 128])\n",
      "\n"
     ]
    },
    {
     "data": {
      "application/vnd.jupyter.widget-view+json": {
       "model_id": "11e5477ef8bd460e8c5ff466100e8e12",
       "version_major": 2,
       "version_minor": 0
      },
      "text/plain": [
       "A Jupyter Widget"
      ]
     },
     "metadata": {},
     "output_type": "display_data"
    },
    {
     "name": "stdout",
     "output_type": "stream",
     "text": [
      "\n",
      "(4000, 3, 128, 128)\n",
      "[[[-0.9876702  -0.9876702  -0.9876702  ... -0.42255333 -0.4739276\n",
      "   -0.4739276 ]\n",
      "  [-0.4739276  -0.5081771  -0.5081771  ... -0.5081771  -0.5081771\n",
      "   -0.6280504 ]\n",
      "  [-0.6280504  -0.6280504  -0.69654936 ... -1.0219197  -1.0219197\n",
      "   -1.0219197 ]\n",
      "  ...\n",
      "  [-0.5253019  -0.5253019  -0.43967807 ... -1.141793   -1.141793\n",
      "   -1.141793  ]\n",
      "  [-0.57667613 -0.57667613 -0.57667613 ... -0.42255333 -0.30268008\n",
      "   -0.30268008]\n",
      "  [-0.30268008 -0.26843056 -0.26843056 ... -0.16568205 -0.16568205\n",
      "   -0.38830382]]\n",
      "\n",
      " [[-0.26750696 -0.26750696 -0.28501397 ... -0.705182   -0.705182\n",
      "   -0.705182  ]\n",
      "  [-0.30252096 -0.30252096 -0.30252096 ... -0.33753496 -0.23249297\n",
      "   -0.23249297]\n",
      "  [-0.23249297 -0.17997196 -0.17997196 ...  0.45028022  0.45028022\n",
      "    0.29271722]\n",
      "  ...\n",
      "  [-0.460084   -0.44257697 -0.44257697 ... -0.19747896 -0.19747896\n",
      "   -0.14495796]\n",
      "  [-0.14495796 -0.14495796 -0.12745096 ... -0.897759   -0.897759\n",
      "   -0.897759  ]\n",
      "  [-0.862745   -0.862745   -0.862745   ... -0.84523803 -0.705182\n",
      "   -0.705182  ]]\n",
      "\n",
      " [[-0.47982562 -0.34039208 -0.34039208 ... -0.02666659 -0.02666659\n",
      "    0.06047938]\n",
      "  [ 0.06047938  0.06047938  0.09533776 ... -0.74126357 -0.74126357\n",
      "   -0.74126357]\n",
      "  [-0.63668835 -0.63668835 -0.63668835 ... -0.8109804  -0.7064052\n",
      "   -0.7064052 ]\n",
      "  ...\n",
      "  [-0.91555554 -0.91555554 -0.91555554 ... -0.44496724 -0.47982562\n",
      "   -0.47982562]\n",
      "  [-0.47982562 -0.47982562 -0.47982562 ... -0.8458387  -0.8458387\n",
      "   -0.88069713]\n",
      "  [-0.88069713 -0.88069713 -0.88069713 ...  0.51363856  0.51363856\n",
      "    0.51363856]]]\n",
      "(4000, 1, 128, 128)\n",
      "[[[0. 0. 0. ... 0. 0. 0.]\n",
      "  [0. 0. 0. ... 0. 0. 0.]\n",
      "  [0. 0. 0. ... 0. 0. 0.]\n",
      "  ...\n",
      "  [0. 1. 1. ... 0. 0. 0.]\n",
      "  [0. 1. 1. ... 0. 0. 0.]\n",
      "  [0. 0. 0. ... 0. 0. 0.]]]\n"
     ]
    }
   ],
   "source": [
    "X_train_shaped_1=np.zeros((X_train_shaped.shape[0],X_train_shaped.shape[3],X_train_shaped.shape[1],X_train_shaped.shape[2]),dtype=np.float32)\n",
    "Y_train_shaped_1=np.zeros((Y_train_shaped.shape[0],Y_train_shaped.shape[3],Y_train_shaped.shape[1],Y_train_shaped.shape[2]),dtype=np.float32)\n",
    "\n",
    "for idx,sample in tqdm_notebook(enumerate(X_train_shaped),total=len(X_train_shaped)):\n",
    "    if idx==0:\n",
    "        print(img_transform(sample).shape)  # 输入图片是【H,W,C】 转换结果是【C,H,W】\n",
    "    #X_train_shaped_1[idx]=img_transform(sample)\n",
    "    X_train_shaped_1[idx]= sample.transpose(2,0,1)\n",
    "    \n",
    "for idx,sample in tqdm_notebook(enumerate(Y_train_shaped),total=len(Y_train_shaped)):\n",
    "    Y_train_shaped_1[idx]= sample.transpose(2,0,1)  # 不要对y进行标准归一化处理\n",
    "    \n",
    "print(X_train_shaped_1.shape)\n",
    "print(X_train_shaped_1[0])\n",
    "print(Y_train_shaped_1.shape)\n",
    "print(Y_train_shaped_1[0])"
   ]
  },
  {
   "cell_type": "markdown",
   "metadata": {},
   "source": [
    "# Data Augmention"
   ]
  },
  {
   "cell_type": "code",
   "execution_count": 21,
   "metadata": {},
   "outputs": [
    {
     "name": "stdout",
     "output_type": "stream",
     "text": [
      "False\n",
      "False\n"
     ]
    }
   ],
   "source": [
    "X_train_shaped_2 =X_train_shaped_1.copy()\n",
    "Y_train_shaped_2=Y_train_shaped_1.copy()\n",
    "print(X_train_shaped_2 is X_train_shaped_1)\n",
    "print(Y_train_shaped_2 is Y_train_shaped_1)"
   ]
  },
  {
   "cell_type": "code",
   "execution_count": 22,
   "metadata": {},
   "outputs": [],
   "source": [
    "def Flip(X,Y):\n",
    "#     X_aug = bb[:,::-1,:]\n",
    "#     y_aug = cc[:,::-1,:]  \n",
    "    X_aug = X[:,:,:,::-1]\n",
    "    y_aug = Y[:,:,:,::-1]  \n",
    "    return X_aug,y_aug\n",
    "\n",
    "X_train_shaped_2,Y_train_shaped_2=Flip(X_train_shaped_2,Y_train_shaped_2)"
   ]
  },
  {
   "cell_type": "code",
   "execution_count": 23,
   "metadata": {},
   "outputs": [
    {
     "name": "stdout",
     "output_type": "stream",
     "text": [
      "(8000, 3, 128, 128)\n",
      "(8000, 1, 128, 128)\n"
     ]
    }
   ],
   "source": [
    "X_train_shaped_3=np.concatenate([X_train_shaped_1,X_train_shaped_2],axis=0)\n",
    "Y_train_shaped_3=np.concatenate([Y_train_shaped_1,Y_train_shaped_2],axis=0)\n",
    "print(X_train_shaped_3.shape)\n",
    "print(Y_train_shaped_3.shape)"
   ]
  },
  {
   "cell_type": "markdown",
   "metadata": {},
   "source": [
    "### 设置全局固定随机种子方便复现"
   ]
  },
  {
   "cell_type": "code",
   "execution_count": 24,
   "metadata": {
    "collapsed": true
   },
   "outputs": [],
   "source": [
    "torch.cuda.manual_seed_all(4200)\n",
    "np.random.seed(133700)"
   ]
  },
  {
   "cell_type": "code",
   "execution_count": 25,
   "metadata": {},
   "outputs": [
    {
     "name": "stdout",
     "output_type": "stream",
     "text": [
      "How many samples are used as validation set: 800\n"
     ]
    }
   ],
   "source": [
    "indices = list(range(len(X_train_shaped_3)))\n",
    "np.random.shuffle(indices)  # 打乱样本索引\n",
    "\n",
    "val_size = 1/10  # 取训练数据的1/10样本作为验证集样本\n",
    "split = np.int_(np.floor(val_size * len(X_train_shaped_3)))\n",
    "print(\"How many samples are used as validation set:\",split)\n",
    "\n",
    "train_idxs = indices[split:]\n",
    "val_idxs = indices[:split]"
   ]
  },
  {
   "cell_type": "markdown",
   "metadata": {},
   "source": [
    "### 构造数据载入器"
   ]
  },
  {
   "cell_type": "code",
   "execution_count": 26,
   "metadata": {},
   "outputs": [
    {
     "data": {
      "text/plain": [
       "(7200, 3, 128, 128)"
      ]
     },
     "execution_count": 26,
     "metadata": {},
     "output_type": "execute_result"
    }
   ],
   "source": [
    "X_train_shaped_3[train_idxs].shape\n"
   ]
  },
  {
   "cell_type": "code",
   "execution_count": 27,
   "metadata": {},
   "outputs": [
    {
     "data": {
      "text/plain": [
       "(7200, 1, 128, 128)"
      ]
     },
     "execution_count": 27,
     "metadata": {},
     "output_type": "execute_result"
    }
   ],
   "source": [
    "Y_train_shaped_3[train_idxs].shape"
   ]
  },
  {
   "cell_type": "code",
   "execution_count": 28,
   "metadata": {
    "collapsed": true
   },
   "outputs": [],
   "source": [
    "salt_ID_dataset_train = saltIDDataset(X_train_shaped_3[train_idxs], \n",
    "                                      train=True, \n",
    "                                      preprocessed_masks=Y_train_shaped_3[train_idxs])\n",
    "\n",
    "salt_ID_dataset_val = saltIDDataset(X_train_shaped_3[val_idxs], \n",
    "                                      train=True, \n",
    "                                      preprocessed_masks=Y_train_shaped_3[val_idxs])\n",
    "\n",
    "\n",
    "batch_size = 64\n",
    "\n",
    "train_loader = torch.utils.data.DataLoader(dataset=salt_ID_dataset_train, \n",
    "                                           batch_size=batch_size, \n",
    "                                           shuffle=True)\n",
    "\n",
    "val_loader = torch.utils.data.DataLoader(dataset=salt_ID_dataset_val, \n",
    "                                           batch_size=batch_size, \n",
    "                                           shuffle=False)\n",
    "\n"
   ]
  },
  {
   "cell_type": "markdown",
   "metadata": {},
   "source": [
    "# 定义模型 ----------------------- core "
   ]
  },
  {
   "cell_type": "markdown",
   "metadata": {},
   "source": [
    "### 模型1：标准u-net"
   ]
  },
  {
   "cell_type": "code",
   "execution_count": 29,
   "metadata": {
    "collapsed": true
   },
   "outputs": [],
   "source": [
    "class double_conv(nn.Module):\n",
    "    def __init__(self, in_channels, out_channels, kernel_size=3, stride=1, padding=1):\n",
    "        super(double_conv, self).__init__()\n",
    "        self.conv = nn.Sequential(\n",
    "                    nn.Conv2d(in_channels, out_channels, kernel_size=kernel_size,\n",
    "                              stride=stride, padding=padding),\n",
    "                    nn.BatchNorm2d(out_channels),\n",
    "                    nn.ReLU(inplace=True), \n",
    "            \n",
    "                    nn.Conv2d(out_channels, out_channels, kernel_size=kernel_size,\n",
    "                              stride=stride, padding=padding),\n",
    "                    nn.BatchNorm2d(out_channels),\n",
    "                    nn.ReLU(inplace=True))\n",
    "        \n",
    "    def forward(self, x):\n",
    "        x = self.conv(x)\n",
    "        return x\n",
    "        \n",
    "start_fm = 16 # 这样的好处是，调节它控制各层通道数，也就是宽度\n",
    "\n",
    "class Unet(nn.Module):\n",
    "    \n",
    "    def __init__(self):\n",
    "        super(Unet, self).__init__()\n",
    "        \n",
    "        # Input 128x128x1\n",
    "        \n",
    "        #Contracting Path\n",
    "        \n",
    "        #(Double) Convolution 1        \n",
    "        self.double_conv1 = double_conv(3, start_fm, 3, 1, 1)\n",
    "        #Max Pooling 1\n",
    "        self.maxpool1 = nn.MaxPool2d(kernel_size=2)\n",
    "        \n",
    "        #Convolution 2\n",
    "        self.double_conv2 = double_conv(start_fm, start_fm * 2, 3, 1, 1)\n",
    "        #Max Pooling 2\n",
    "        self.maxpool2 = nn.MaxPool2d(kernel_size=2)\n",
    "        \n",
    "        #Convolution 3\n",
    "        self.double_conv3 = double_conv(start_fm * 2, start_fm * 4, 3, 1, 1)\n",
    "        #Max Pooling 3\n",
    "        self.maxpool3 = nn.MaxPool2d(kernel_size=2)\n",
    "        \n",
    "        #Convolution 4\n",
    "        self.double_conv4 = double_conv(start_fm * 4, start_fm * 8, 3, 1, 1)\n",
    "        #Max Pooling 4\n",
    "        self.maxpool4 = nn.MaxPool2d(kernel_size=2)\n",
    "        \n",
    "        #Convolution 5\n",
    "        self.double_conv5 = double_conv(start_fm * 8, start_fm * 16, 3, 1, 1)\n",
    "        \n",
    "        #Transposed Convolution 4\n",
    "        self.t_conv4 = nn.ConvTranspose2d(start_fm * 16, start_fm * 8, 2, 2)\n",
    "        # Expanding Path Convolution 4 \n",
    "        self.ex_double_conv4 = double_conv(start_fm * 16, start_fm * 8, 3, 1, 1)\n",
    "        \n",
    "        #Transposed Convolution 3\n",
    "        self.t_conv3 = nn.ConvTranspose2d(start_fm * 8, start_fm * 4, 2, 2)\n",
    "        #Convolution 3\n",
    "        self.ex_double_conv3 = double_conv(start_fm * 8, start_fm * 4, 3, 1, 1)\n",
    "        \n",
    "        #Transposed Convolution 2\n",
    "        self.t_conv2 = nn.ConvTranspose2d(start_fm * 4, start_fm * 2, 2, 2)\n",
    "        #Convolution 2\n",
    "        self.ex_double_conv2 = double_conv(start_fm * 4, start_fm * 2, 3, 1, 1)\n",
    "        \n",
    "        #Transposed Convolution 1\n",
    "        self.t_conv1 = nn.ConvTranspose2d(start_fm * 2, start_fm, 2, 2)\n",
    "        #Convolution 1\n",
    "        self.ex_double_conv1 = double_conv(start_fm * 2, start_fm, 3, 1, 1)\n",
    "        \n",
    "        # One by One Conv\n",
    "        self.one_by_one = nn.Conv2d(start_fm, 1, 1, 1, 0)\n",
    "        #self.final_act = nn.Sigmoid()\n",
    "        \n",
    "        \n",
    "    def forward(self, inputs):\n",
    "        # Contracting Path\n",
    "        conv1 = self.double_conv1(inputs)\n",
    "        maxpool1 = self.maxpool1(conv1)\n",
    "\n",
    "        conv2 = self.double_conv2(maxpool1)\n",
    "        maxpool2 = self.maxpool2(conv2)\n",
    "\n",
    "        conv3 = self.double_conv3(maxpool2)\n",
    "        maxpool3 = self.maxpool3(conv3)\n",
    "\n",
    "        conv4 = self.double_conv4(maxpool3)\n",
    "        maxpool4 = self.maxpool4(conv4)\n",
    "            \n",
    "        # Bottom\n",
    "        conv5 = self.double_conv5(maxpool4)\n",
    "        \n",
    "        # Expanding Path\n",
    "        t_conv4 = self.t_conv4(conv5)\n",
    "        cat4 = torch.cat([conv4 ,t_conv4], 1)\n",
    "        ex_conv4 = self.ex_double_conv4(cat4)\n",
    "        \n",
    "        t_conv3 = self.t_conv3(ex_conv4)\n",
    "        cat3 = torch.cat([conv3 ,t_conv3], 1)\n",
    "        ex_conv3 = self.ex_double_conv3(cat3)\n",
    "\n",
    "        t_conv2 = self.t_conv2(ex_conv3)\n",
    "        cat2 = torch.cat([conv2 ,t_conv2], 1)\n",
    "        ex_conv2 = self.ex_double_conv2(cat2)\n",
    "        \n",
    "        t_conv1 = self.t_conv1(ex_conv2)\n",
    "        cat1 = torch.cat([conv1 ,t_conv1], 1)\n",
    "        ex_conv1 = self.ex_double_conv1(cat1)\n",
    "        \n",
    "        one_by_one = self.one_by_one(ex_conv1)\n",
    "        \n",
    "        return one_by_one"
   ]
  },
  {
   "cell_type": "markdown",
   "metadata": {},
   "source": [
    "### 模型2：变种u-net   支持预训练权重"
   ]
  },
  {
   "cell_type": "code",
   "execution_count": 31,
   "metadata": {
    "collapsed": true
   },
   "outputs": [],
   "source": [
    "# #############################################\n",
    "# ##  网络架构及Pytorch版本的Fine-tune手法   ##\n",
    "# #############################################\n",
    "\n",
    "\n",
    "# from torch import nn\n",
    "# from torch.nn import functional as F\n",
    "# import torch\n",
    "# from torchvision import models\n",
    "# import torchvision\n",
    "\n",
    "\n",
    "# def conv3x3(in_, out):\n",
    "#     return nn.Conv2d(in_, out, 3, padding=1)\n",
    "\n",
    "\n",
    "# class ConvRelu(nn.Module):\n",
    "#     def __init__(self, in_, out):\n",
    "#         super().__init__()\n",
    "#         self.conv = conv3x3(in_, out)\n",
    "#         self.activation = nn.ReLU(inplace=True)\n",
    "\n",
    "#     def forward(self, x):\n",
    "#         x = self.conv(x)\n",
    "#         x = self.activation(x)\n",
    "#         return x\n",
    "\n",
    "\n",
    "# class DecoderBlock(nn.Module):\n",
    "#     def __init__(self, in_channels, middle_channels, out_channels):\n",
    "#         super().__init__()\n",
    "\n",
    "#         self.block = nn.Sequential(\n",
    "#             ConvRelu(in_channels, middle_channels),\n",
    "#             nn.ConvTranspose2d(middle_channels, out_channels, kernel_size=3, stride=2, padding=1, output_padding=1),\n",
    "#             nn.ReLU(inplace=True)\n",
    "#         )\n",
    "\n",
    "#     def forward(self, x):\n",
    "#         return self.block(x)\n",
    "\n",
    "\n",
    "# class UNet11(nn.Module):\n",
    "#     def __init__(self, num_filters=32, pretrained=False):\n",
    "#         \"\"\"\n",
    "#         :param num_classes:\n",
    "#         :param num_filters:\n",
    "#         :param pretrained:\n",
    "#             False - no pre-trained network is used\n",
    "#             True  - encoder is pre-trained with VGG11\n",
    "#         \"\"\"\n",
    "#         super().__init__()\n",
    "#         self.pool = nn.MaxPool2d(2, 2)\n",
    "\n",
    "#         self.encoder = models.vgg11(pretrained=pretrained).features\n",
    "\n",
    "#         self.relu = self.encoder[1]\n",
    "#         #print(self.relu)   # output ==> RELU(inplace)\n",
    "#         self.conv1 = self.encoder[0]\n",
    "#         self.conv2 = self.encoder[3]\n",
    "#         self.conv3s = self.encoder[6]\n",
    "#         self.conv3 = self.encoder[8]\n",
    "#         self.conv4s = self.encoder[11]\n",
    "#         self.conv4 = self.encoder[13]\n",
    "#         self.conv5s = self.encoder[16]\n",
    "#         self.conv5 = self.encoder[18]\n",
    "\n",
    "#         self.center = DecoderBlock(num_filters * 8 * 2, num_filters * 8 * 2, num_filters * 8)\n",
    "#         self.dec5 = DecoderBlock(num_filters * (16 + 8), num_filters * 8 * 2, num_filters * 8)\n",
    "#         self.dec4 = DecoderBlock(num_filters * (16 + 8), num_filters * 8 * 2, num_filters * 4)\n",
    "#         self.dec3 = DecoderBlock(num_filters * (8 + 4), num_filters * 4 * 2, num_filters * 2)\n",
    "#         self.dec2 = DecoderBlock(num_filters * (4 + 2), num_filters * 2 * 2, num_filters)\n",
    "#         self.dec1 = ConvRelu(num_filters * (2 + 1), num_filters)\n",
    "\n",
    "#         self.final = nn.Conv2d(num_filters, 1, kernel_size=1)  # 1x1卷积 输出是1通道\n",
    "\n",
    "#     def forward(self, x):\n",
    "#         conv1 = self.relu(self.conv1(x))\n",
    "#         conv2 = self.relu(self.conv2(self.pool(conv1)))\n",
    "#         conv3s = self.relu(self.conv3s(self.pool(conv2)))\n",
    "#         conv3 = self.relu(self.conv3(conv3s))\n",
    "#         conv4s = self.relu(self.conv4s(self.pool(conv3)))\n",
    "#         conv4 = self.relu(self.conv4(conv4s))\n",
    "#         conv5s = self.relu(self.conv5s(self.pool(conv4)))\n",
    "#         conv5 = self.relu(self.conv5(conv5s))\n",
    "\n",
    "#         center = self.center(self.pool(conv5))\n",
    "\n",
    "#         dec5 = self.dec5(torch.cat([center, conv5], 1))\n",
    "#         dec4 = self.dec4(torch.cat([dec5, conv4], 1))\n",
    "#         dec3 = self.dec3(torch.cat([dec4, conv3], 1))\n",
    "#         dec2 = self.dec2(torch.cat([dec3, conv2], 1))\n",
    "#         dec1 = self.dec1(torch.cat([dec2, conv1], 1))\n",
    "#         return self.final(dec1)\n",
    "\n",
    "\n",
    "# def unet11(pretrained=False, **kwargs):\n",
    "#     \"\"\"\n",
    "#     pretrained:\n",
    "#             False - no pre-trained network is used\n",
    "#             True  - encoder is pre-trained with VGG11\n",
    "#             carvana - all weights are pre-trained on\n",
    "#                 Kaggle: Carvana dataset https://www.kaggle.com/c/carvana-image-masking-challenge\n",
    "#     \"\"\"\n",
    "#     if pretrained== True:\n",
    "#         model = UNet11(pretrained=pretrained, **kwargs)\n",
    "#     else:\n",
    "#         model= UNet11(pretrained=False, **kwargs)\n",
    "    \n",
    "#     #  根据 pretrained 加载 'carvana'数据集上训练好的网络全部权重\n",
    "#     if pretrained == 'carvana':\n",
    "#         state = torch.load('TernausNet.pt',map_location={'cuda:0': 'cpu'})  #\n",
    "#         model.load_state_dict(state['model']) #,map_location='cpu'\n",
    "        \n",
    "#     return model\n",
    "\n",
    "\n",
    "# class DecoderBlockV2(nn.Module):\n",
    "#     def __init__(self, in_channels, middle_channels, out_channels, is_deconv=True):\n",
    "#         super(DecoderBlockV2, self).__init__()\n",
    "#         self.in_channels = in_channels\n",
    "\n",
    "#         if is_deconv:\n",
    "#             \"\"\"\n",
    "#                 Paramaters for Deconvolution were chosen to avoid artifacts, following\n",
    "#                 link https://distill.pub/2016/deconv-checkerboard/\n",
    "#             \"\"\"\n",
    "\n",
    "#             self.block = nn.Sequential(\n",
    "#                 ConvRelu(in_channels, middle_channels),\n",
    "#                 nn.ConvTranspose2d(middle_channels, out_channels, kernel_size=4, stride=2,\n",
    "#                                    padding=1),\n",
    "#                 nn.ReLU(inplace=True)\n",
    "#             )\n",
    "#         else:\n",
    "#             self.block = nn.Sequential(\n",
    "#                 nn.Upsample(scale_factor=2, mode='bilinear'),\n",
    "#                 ConvRelu(in_channels, middle_channels),\n",
    "#                 ConvRelu(middle_channels, out_channels),\n",
    "#             )\n",
    "\n",
    "#     def forward(self, x):\n",
    "#         return self.block(x)\n",
    "\n",
    "\n",
    "# class AlbuNet(nn.Module):\n",
    "#     \"\"\"\n",
    "#         UNet (https://arxiv.org/abs/1505.04597) with Resnet34(https://arxiv.org/abs/1512.03385) encoder\n",
    "\n",
    "#         Proposed by Alexander Buslaev: https://www.linkedin.com/in/al-buslaev/\n",
    "\n",
    "#         \"\"\"\n",
    "\n",
    "#     def __init__(self, num_classes=1, num_filters=32, pretrained=False, is_deconv=False):\n",
    "#         \"\"\"\n",
    "#         :param num_classes:\n",
    "#         :param num_filters:\n",
    "#         :param pretrained:\n",
    "#             False - no pre-trained network is used\n",
    "#             True  - encoder is pre-trained with resnet34\n",
    "#         :is_deconv:\n",
    "#             False: bilinear interpolation is used in decoder\n",
    "#             True: deconvolution is used in decoder\n",
    "#         \"\"\"\n",
    "#         super().__init__()\n",
    "#         self.num_classes = num_classes\n",
    "\n",
    "#         self.pool = nn.MaxPool2d(2, 2)\n",
    "\n",
    "#         self.encoder = torchvision.models.resnet34(pretrained=pretrained)\n",
    "\n",
    "#         self.relu = nn.ReLU(inplace=True)\n",
    "\n",
    "#         self.conv1 = nn.Sequential(self.encoder.conv1,\n",
    "#                                    self.encoder.bn1,\n",
    "#                                    self.encoder.relu,\n",
    "#                                    self.pool)\n",
    "\n",
    "#         self.conv2 = self.encoder.layer1\n",
    "\n",
    "#         self.conv3 = self.encoder.layer2\n",
    "\n",
    "#         self.conv4 = self.encoder.layer3\n",
    "\n",
    "#         self.conv5 = self.encoder.layer4\n",
    "\n",
    "#         self.center = DecoderBlockV2(512, num_filters * 8 * 2, num_filters * 8, is_deconv)\n",
    "\n",
    "#         self.dec5 = DecoderBlockV2(512 + num_filters * 8, num_filters * 8 * 2, num_filters * 8, is_deconv)\n",
    "#         self.dec4 = DecoderBlockV2(256 + num_filters * 8, num_filters * 8 * 2, num_filters * 8, is_deconv)\n",
    "#         self.dec3 = DecoderBlockV2(128 + num_filters * 8, num_filters * 4 * 2, num_filters * 2, is_deconv)\n",
    "#         self.dec2 = DecoderBlockV2(64 + num_filters * 2, num_filters * 2 * 2, num_filters * 2 * 2, is_deconv)\n",
    "#         self.dec1 = DecoderBlockV2(num_filters * 2 * 2, num_filters * 2 * 2, num_filters, is_deconv)\n",
    "#         self.dec0 = ConvRelu(num_filters, num_filters)\n",
    "#         self.final = nn.Conv2d(num_filters, num_classes, kernel_size=1)\n",
    "\n",
    "#     def forward(self, x):\n",
    "#         conv1 = self.conv1(x)\n",
    "#         conv2 = self.conv2(conv1)\n",
    "#         conv3 = self.conv3(conv2)\n",
    "#         conv4 = self.conv4(conv3)\n",
    "#         conv5 = self.conv5(conv4)\n",
    "\n",
    "#         center = self.center(self.pool(conv5))\n",
    "\n",
    "#         dec5 = self.dec5(torch.cat([center, conv5], 1))\n",
    "\n",
    "#         dec4 = self.dec4(torch.cat([dec5, conv4], 1))\n",
    "#         dec3 = self.dec3(torch.cat([dec4, conv3], 1))\n",
    "#         dec2 = self.dec2(torch.cat([dec3, conv2], 1))\n",
    "#         dec1 = self.dec1(dec2)\n",
    "#         dec0 = self.dec0(dec1)\n",
    "\n",
    "#         if self.num_classes > 1:\n",
    "#             x_out = F.log_softmax(self.final(dec0), dim=1)\n",
    "#         else:\n",
    "#             x_out = self.final(dec0)\n",
    "\n",
    "#         return x_out\n",
    "\n",
    "\n",
    "# class UNet16(nn.Module):\n",
    "#     def __init__(self, num_classes=1, num_filters=32, pretrained=False, is_deconv=False):\n",
    "#         \"\"\"\n",
    "#         :param num_classes:\n",
    "#         :param num_filters:\n",
    "#         :param pretrained:\n",
    "#             False - no pre-trained network used\n",
    "#             True - encoder pre-trained with VGG16\n",
    "#         :is_deconv:\n",
    "#             False: bilinear interpolation is used in decoder\n",
    "#             True: deconvolution is used in decoder\n",
    "#         \"\"\"\n",
    "#         super().__init__()\n",
    "#         self.num_classes = num_classes\n",
    "\n",
    "#         self.pool = nn.MaxPool2d(2, 2)\n",
    "\n",
    "#         self.encoder = torchvision.models.vgg16(pretrained=pretrained).features\n",
    "\n",
    "#         self.relu = nn.ReLU(inplace=True)\n",
    "\n",
    "#         self.conv1 = nn.Sequential(self.encoder[0],\n",
    "#                                    self.relu,\n",
    "#                                    self.encoder[2],\n",
    "#                                    self.relu)\n",
    "\n",
    "#         self.conv2 = nn.Sequential(self.encoder[5],\n",
    "#                                    self.relu,\n",
    "#                                    self.encoder[7],\n",
    "#                                    self.relu)\n",
    "\n",
    "#         self.conv3 = nn.Sequential(self.encoder[10],\n",
    "#                                    self.relu,\n",
    "#                                    self.encoder[12],\n",
    "#                                    self.relu,\n",
    "#                                    self.encoder[14],\n",
    "#                                    self.relu)\n",
    "\n",
    "#         self.conv4 = nn.Sequential(self.encoder[17],\n",
    "#                                    self.relu,\n",
    "#                                    self.encoder[19],\n",
    "#                                    self.relu,\n",
    "#                                    self.encoder[21],\n",
    "#                                    self.relu)\n",
    "\n",
    "#         self.conv5 = nn.Sequential(self.encoder[24],\n",
    "#                                    self.relu,\n",
    "#                                    self.encoder[26],\n",
    "#                                    self.relu,\n",
    "#                                    self.encoder[28],\n",
    "#                                    self.relu)\n",
    "\n",
    "#         self.center = DecoderBlockV2(512, num_filters * 8 * 2, num_filters * 8, is_deconv)\n",
    "\n",
    "#         self.dec5 = DecoderBlockV2(512 + num_filters * 8, num_filters * 8 * 2, num_filters * 8, is_deconv)\n",
    "#         self.dec4 = DecoderBlockV2(512 + num_filters * 8, num_filters * 8 * 2, num_filters * 8, is_deconv)\n",
    "#         self.dec3 = DecoderBlockV2(256 + num_filters * 8, num_filters * 4 * 2, num_filters * 2, is_deconv)\n",
    "#         self.dec2 = DecoderBlockV2(128 + num_filters * 2, num_filters * 2 * 2, num_filters, is_deconv)\n",
    "#         self.dec1 = ConvRelu(64 + num_filters, num_filters)\n",
    "#         self.final = nn.Conv2d(num_filters, num_classes, kernel_size=1)\n",
    "\n",
    "#     def forward(self, x):\n",
    "#         conv1 = self.conv1(x)\n",
    "#         conv2 = self.conv2(self.pool(conv1))\n",
    "#         conv3 = self.conv3(self.pool(conv2))\n",
    "#         conv4 = self.conv4(self.pool(conv3))\n",
    "#         conv5 = self.conv5(self.pool(conv4))\n",
    "\n",
    "#         center = self.center(self.pool(conv5))\n",
    "\n",
    "#         dec5 = self.dec5(torch.cat([center, conv5], 1))\n",
    "\n",
    "#         dec4 = self.dec4(torch.cat([dec5, conv4], 1))\n",
    "#         dec3 = self.dec3(torch.cat([dec4, conv3], 1))\n",
    "#         dec2 = self.dec2(torch.cat([dec3, conv2], 1))\n",
    "#         dec1 = self.dec1(torch.cat([dec2, conv1], 1))\n",
    "\n",
    "#         if self.num_classes > 1:\n",
    "#             x_out = F.log_softmax(self.final(dec1), dim=1)\n",
    "#         else:\n",
    "#             x_out = self.final(dec1)\n",
    "\n",
    "#         return x_out\n"
   ]
  },
  {
   "cell_type": "code",
   "execution_count": null,
   "metadata": {
    "collapsed": true
   },
   "outputs": [],
   "source": []
  },
  {
   "cell_type": "markdown",
   "metadata": {},
   "source": [
    "# Loss定义  此处可以好好设计  \n",
    "### We define a BCEWithLogitsLoss since we're comparing pixel by pixel. In addition, we didn't include a final sigmoid activation as this loss function includes a sigmoid for us."
   ]
  },
  {
   "cell_type": "code",
   "execution_count": 24,
   "metadata": {
    "collapsed": true
   },
   "outputs": [],
   "source": [
    "def get_model():\n",
    "    #model = unet11(pretrained='carvana')\n",
    "    model = unet11(pretrained=True)\n",
    "    model.eval()\n",
    "    return model.to(device)"
   ]
  },
  {
   "cell_type": "code",
   "execution_count": 31,
   "metadata": {
    "collapsed": true
   },
   "outputs": [],
   "source": [
    "# 加载好模型 \n",
    "# if torch.cuda.is_available():\n",
    "#     model=get_model().cuda()\n",
    "# else:\n",
    "#     model=get_model()\n",
    "\n",
    "model = Unet().cuda()\n",
    "\n",
    "\n",
    "\n",
    "#optimizer = torch.optim.Adam(model.parameters(), lr=0.001)\n",
    "optimizer = torch.optim.SGD(model.parameters(), lr=0.01, momentum=0.9, weight_decay=5e-4)\n",
    "\n",
    "\n",
    "scheduler = torch.optim.lr_scheduler.MultiStepLR(optimizer, milestones=[10,13,14], gamma=0.1)\n",
    "\n",
    "\n",
    "#criterion = nn.CrossEntropyLoss()\n",
    "criterion = nn.BCEWithLogitsLoss() # 这么简单???????????????????????"
   ]
  },
  {
   "cell_type": "markdown",
   "metadata": {},
   "source": [
    "# 开始训练并保存多个比较好的模型参数(保存代码没写)"
   ]
  },
  {
   "cell_type": "code",
   "execution_count": 32,
   "metadata": {
    "scrolled": false
   },
   "outputs": [
    {
     "name": "stdout",
     "output_type": "stream",
     "text": [
      "+20%\n",
      "Epoch: 1. Train Loss: 0.5629849433898926. Val Loss: 0.5188544988632202\n",
      "+20%\n",
      "Epoch: 2. Train Loss: 0.5105397701263428. Val Loss: 0.4985957145690918\n",
      "+20%\n",
      "Epoch: 3. Train Loss: 0.479385107755661. Val Loss: 0.4538874328136444\n",
      "+20%\n",
      "Epoch: 4. Train Loss: 0.4306584298610687. Val Loss: 0.4141905605792999\n",
      "+20%\n",
      "Epoch: 5. Train Loss: 0.3976493179798126. Val Loss: 0.40441033244132996\n",
      "+20%\n",
      "Epoch: 6. Train Loss: 0.3861732482910156. Val Loss: 0.39106255769729614\n",
      "+20%\n",
      "Epoch: 7. Train Loss: 0.37797415256500244. Val Loss: 0.3793518841266632\n",
      "+20%\n",
      "Epoch: 8. Train Loss: 0.358248233795166. Val Loss: 0.3644149899482727\n",
      "+20%\n",
      "Epoch: 9. Train Loss: 0.35964009165763855. Val Loss: 0.35760703682899475\n",
      "+20%\n",
      "Epoch: 10. Train Loss: 0.34439343214035034. Val Loss: 0.3479984700679779\n",
      "+20%\n",
      "Epoch: 11. Train Loss: 0.3354228138923645. Val Loss: 0.3454585671424866\n",
      "+20%\n",
      "Epoch: 12. Train Loss: 0.32341617345809937. Val Loss: 0.3461719751358032\n",
      "+20%\n",
      "Epoch: 13. Train Loss: 0.32726481556892395. Val Loss: 0.3375156819820404\n",
      "+20%\n",
      "Epoch: 14. Train Loss: 0.3064272105693817. Val Loss: 0.3604443669319153\n",
      "+20%\n",
      "Epoch: 15. Train Loss: 0.3010289669036865. Val Loss: 0.33074522018432617\n",
      "Train Done!!!\n",
      "Save model Done!!!\n"
     ]
    }
   ],
   "source": [
    "mean_train_losses = []\n",
    "mean_val_losses = []\n",
    "\n",
    "MaxEpochs=15\n",
    "for epoch in range(MaxEpochs):\n",
    "    train_losses = []\n",
    "    val_losses = []\n",
    "    count=1\n",
    "    \n",
    "    for images, masks in train_loader:      \n",
    "        count=count+1\n",
    "        if count%100==0:\n",
    "            print(\"+20%\")\n",
    "        images = Variable(images.cuda())\n",
    "        masks = Variable(masks.cuda())\n",
    "#         images = Variable(images)\n",
    "#         masks = Variable(masks)\n",
    "        \n",
    "        outputs = model(images)        \n",
    "        \n",
    "        loss = criterion(outputs, masks)\n",
    "        train_losses.append(loss.data)\n",
    "\n",
    "        optimizer.zero_grad()\n",
    "        loss.backward()\n",
    "        optimizer.step()\n",
    "\n",
    "    for images, masks in val_loader:\n",
    "        images = Variable(images.cuda())\n",
    "        masks = Variable(masks.cuda())\n",
    "#         images = Variable(images)\n",
    "#         masks = Variable(masks)\n",
    "        \n",
    "        outputs = model(images)\n",
    "        loss = criterion(outputs, masks)\n",
    "        val_losses.append(loss.data)\n",
    "    \n",
    "    mean_train_losses.append(np.mean(train_losses))\n",
    "    mean_val_losses.append(np.mean(val_losses))\n",
    "    # Print Loss\n",
    "    print('Epoch: {}. Train Loss: {}. Val Loss: {}'.format(epoch+1, np.mean(train_losses), np.mean(val_losses)))\n",
    "\n",
    "\n",
    "print(\"Train Done!!!\")\n",
    "torch.save(model.state_dict(), 'saved_Gpu_model_state.pt')\n",
    "print(\"Save model Done!!!\")"
   ]
  },
  {
   "cell_type": "markdown",
   "metadata": {
    "collapsed": true
   },
   "source": [
    "start time: 11:24:10  end time: 11:28:00  15epoch"
   ]
  },
  {
   "cell_type": "code",
   "execution_count": 13,
   "metadata": {
    "collapsed": true
   },
   "outputs": [],
   "source": [
    "\n",
    "state = torch.load('saved_model_state.pt',map_location={'cuda:0': 'cpu'})  #\n",
    "model.load_state_dict(state) #,map_location='cpu'"
   ]
  },
  {
   "cell_type": "markdown",
   "metadata": {},
   "source": [
    "# 观察训练信息"
   ]
  },
  {
   "cell_type": "code",
   "execution_count": 33,
   "metadata": {},
   "outputs": [
    {
     "data": {
      "text/plain": [
       "[0.56298494,\n",
       " 0.51053977,\n",
       " 0.4793851,\n",
       " 0.43065843,\n",
       " 0.39764932,\n",
       " 0.38617325,\n",
       " 0.37797415,\n",
       " 0.35824823,\n",
       " 0.3596401,\n",
       " 0.34439343,\n",
       " 0.3354228,\n",
       " 0.32341617,\n",
       " 0.32726482,\n",
       " 0.3064272,\n",
       " 0.30102897]"
      ]
     },
     "execution_count": 33,
     "metadata": {},
     "output_type": "execute_result"
    }
   ],
   "source": [
    "mean_train_losses"
   ]
  },
  {
   "cell_type": "code",
   "execution_count": 34,
   "metadata": {},
   "outputs": [
    {
     "data": {
      "text/plain": [
       "[0.5188545,\n",
       " 0.4985957,\n",
       " 0.45388743,\n",
       " 0.41419056,\n",
       " 0.40441033,\n",
       " 0.39106256,\n",
       " 0.37935188,\n",
       " 0.364415,\n",
       " 0.35760704,\n",
       " 0.34799847,\n",
       " 0.34545857,\n",
       " 0.34617198,\n",
       " 0.33751568,\n",
       " 0.36044437,\n",
       " 0.33074522]"
      ]
     },
     "execution_count": 34,
     "metadata": {},
     "output_type": "execute_result"
    }
   ],
   "source": [
    "mean_val_losses"
   ]
  },
  {
   "cell_type": "code",
   "execution_count": 36,
   "metadata": {},
   "outputs": [
    {
     "data": {
      "text/plain": [
       "<matplotlib.legend.Legend at 0x7fa533724908>"
      ]
     },
     "execution_count": 36,
     "metadata": {},
     "output_type": "execute_result"
    },
    {
     "data": {
      "image/png": "[encoded data removed]",
      "text/plain": [
       "<Figure size 432x288 with 1 Axes>"
      ]
     },
     "metadata": {},
     "output_type": "display_data"
    }
   ],
   "source": [
    "train_loss_series = pd.Series(mean_train_losses)\n",
    "val_loss_series = pd.Series(mean_val_losses)\n",
    "train_loss_series.plot(label=\"train\")\n",
    "val_loss_series.plot(label=\"validation\")\n",
    "plt.legend()"
   ]
  },
  {
   "cell_type": "markdown",
   "metadata": {
    "collapsed": true
   },
   "source": [
    "# Finally we compute our IOU score for various thresholds"
   ]
  },
  {
   "cell_type": "code",
   "execution_count": 37,
   "metadata": {
    "collapsed": true
   },
   "outputs": [],
   "source": [
    "y_pred_true_pairs = []\n",
    "for images, masks in val_loader:\n",
    "    images = Variable(images.cuda())\n",
    "#     images = Variable(images)\n",
    "    y_preds = model(images)\n",
    "    for i, _ in enumerate(images):\n",
    "        y_pred = y_preds[i] \n",
    "        y_pred = torch.sigmoid(y_pred)  # Sigmoid 归一化\n",
    "        y_pred = y_pred.cpu().data.numpy()\n",
    "        y_pred_true_pairs.append((y_pred, masks[i].numpy()))"
   ]
  },
  {
   "cell_type": "code",
   "execution_count": 38,
   "metadata": {},
   "outputs": [
    {
     "name": "stdout",
     "output_type": "stream",
     "text": [
      "800\n",
      "(1, 128, 128)\n"
     ]
    },
    {
     "data": {
      "text/plain": [
       "array([[[0.01644136, 0.03641307, 0.01310526, ..., 0.03854212,\n",
       "         0.02770753, 0.00966435],\n",
       "        [0.01628868, 0.5614665 , 0.47322586, ..., 0.48094523,\n",
       "         0.38724765, 0.0194488 ],\n",
       "        [0.01414377, 0.64167005, 0.68970406, ..., 0.416995  ,\n",
       "         0.4020985 , 0.01641999],\n",
       "        ...,\n",
       "        [0.03782771, 0.5044611 , 0.63146144, ..., 0.7157817 ,\n",
       "         0.6723614 , 0.01247625],\n",
       "        [0.07653744, 0.435351  , 0.5688357 , ..., 0.59761125,\n",
       "         0.6231467 , 0.0142095 ],\n",
       "        [0.03605617, 0.03015498, 0.01834028, ..., 0.00889589,\n",
       "         0.02333384, 0.00966807]]], dtype=float32)"
      ]
     },
     "execution_count": 38,
     "metadata": {},
     "output_type": "execute_result"
    }
   ],
   "source": [
    "print(len(y_pred_true_pairs))\n",
    "print(y_pred_true_pairs[0][0].shape)\n",
    "y_pred_true_pairs[0][0]"
   ]
  },
  {
   "cell_type": "markdown",
   "metadata": {
    "collapsed": true
   },
   "source": [
    "We use a method to calculate the IOU score as found in this kernel here: https://www.kaggle.com/leighplt/goto-pytorch-fix-for-v0-3."
   ]
  },
  {
   "cell_type": "code",
   "execution_count": 39,
   "metadata": {},
   "outputs": [
    {
     "name": "stdout",
     "output_type": "stream",
     "text": [
      "Threshold: 0.0, Metric: 0.118\n",
      "Threshold: 0.1, Metric: 0.476\n",
      "Threshold: 0.2, Metric: 0.609\n",
      "Threshold: 0.3, Metric: 0.703\n",
      "Threshold: 0.4, Metric: 0.746\n",
      "Threshold: 0.5, Metric: 0.766\n",
      "Threshold: 0.6, Metric: 0.766\n",
      "Threshold: 0.7, Metric: 0.757\n",
      "Threshold: 0.8, Metric: 0.735\n",
      "Threshold: 0.9, Metric: 0.703\n",
      "Threshold: 1.0, Metric: 0.650\n"
     ]
    }
   ],
   "source": [
    "# https://www.kaggle.com/leighplt/goto-pytorch-fix-for-v0-3\n",
    "for threshold in np.linspace(0, 1, 11):\n",
    "    \n",
    "    ious = []\n",
    "    for y_pred, mask in y_pred_true_pairs:\n",
    "        prediction = (y_pred > threshold).astype(int)\n",
    "        iou = jaccard_similarity_score(mask.flatten(), prediction.flatten())\n",
    "        ious.append(iou)\n",
    "        \n",
    "    accuracies = [np.mean(ious > iou_threshold)\n",
    "                 for iou_threshold in np.linspace(0.5, 0.95, 10)]\n",
    "    print('Threshold: %.1f, Metric: %.3f' % (threshold, np.mean(accuracies)))"
   ]
  },
  {
   "cell_type": "code",
   "execution_count": null,
   "metadata": {
    "collapsed": true
   },
   "outputs": [],
   "source": []
  },
  {
   "cell_type": "markdown",
   "metadata": {
    "collapsed": true
   },
   "source": [
    "# 推断测试集"
   ]
  },
  {
   "cell_type": "markdown",
   "metadata": {},
   "source": [
    "Load, predict and submit the test image predictions."
   ]
  },
  {
   "cell_type": "markdown",
   "metadata": {},
   "source": [
    "### 准备测试数据"
   ]
  },
  {
   "cell_type": "code",
   "execution_count": 40,
   "metadata": {},
   "outputs": [
    {
     "name": "stdout",
     "output_type": "stream",
     "text": [
      "Getting and resizing train images and masks ... \n"
     ]
    },
    {
     "data": {
      "application/vnd.jupyter.widget-view+json": {
       "model_id": "1d010f64b543487b959f7b2458898b9d",
       "version_major": 2,
       "version_minor": 0
      },
      "text/plain": [
       "A Jupyter Widget"
      ]
     },
     "metadata": {},
     "output_type": "display_data"
    },
    {
     "name": "stdout",
     "output_type": "stream",
     "text": [
      "raw img shape: (101, 101, 3)\n",
      "\n",
      "Done!\n",
      "X_test： (18000, 128, 128, 3)\n",
      "Y_test： (18000, 128, 128, 1)\n"
     ]
    }
   ],
   "source": [
    "#---------------  Get Training Images and resize train images and masks ------------------------------\n",
    "X_test = np.zeros((len(test_ids), im_height, im_width, im_chan), dtype=np.uint8)\n",
    "Y_test = np.zeros((len(test_ids), im_height, im_width, 1), dtype=np.bool_)\n",
    "print('Getting and resizing train images and masks ... ')\n",
    "sys.stdout.flush()\n",
    "for n, id_ in tqdm_notebook(enumerate(test_ids), total=len(test_ids)):\n",
    "    img = imread(path_test + '/images/' + id_)\n",
    "    if n==1: \n",
    "        print(\"raw img shape:\",img.shape)  # 打印其中的1张图片的原始shape   # 由于颜色数组中的RGB上对应的位置都相同 故可以只保存1个通道 压缩保存\n",
    "    x = resize(img, (128, 128, 3), mode='constant', preserve_range=True)  # 缩放至128x128x1 \n",
    "    X_test[n] = x\n",
    "\n",
    "print('Done!')\n",
    "print('X_test：',X_test.shape)\n",
    "print(\"Y_test：\",Y_test.shape)"
   ]
  },
  {
   "cell_type": "code",
   "execution_count": 42,
   "metadata": {},
   "outputs": [
    {
     "data": {
      "image/png": "[encoded data removed]",
      "text/plain": [
       "<Figure size 432x288 with 1 Axes>"
      ]
     },
     "metadata": {},
     "output_type": "display_data"
    }
   ],
   "source": [
    "# Check if training data looks all right\n",
    "ix = random.randint(0, len(test_ids))\n",
    "plt.imshow(X_test[ix]) \n",
    "plt.show()"
   ]
  },
  {
   "cell_type": "code",
   "execution_count": 43,
   "metadata": {
    "collapsed": true
   },
   "outputs": [],
   "source": [
    "X_test_shaped = X_test.copy().reshape(-1, 3, 128, 128)/255  # 线性归一化 (0,1)区间\n",
    "Y_test_shaped = Y_test.copy().reshape(-1, 1, 128, 128)\n",
    "\n",
    "X_test_shaped = X_test_shaped.astype(np.float32)\n",
    "Y_test_shaped = Y_test_shaped.astype(np.float32)"
   ]
  },
  {
   "cell_type": "code",
   "execution_count": 44,
   "metadata": {},
   "outputs": [
    {
     "name": "stdout",
     "output_type": "stream",
     "text": [
      "Before: (18000, 128, 128, 3)\n"
     ]
    }
   ],
   "source": [
    "X_test_shaped=X_test_shaped.transpose(0,2,3,1)\n",
    "Y_test_shaped=Y_test_shaped.transpose(0,2,3,1)\n",
    "print(\"Before:\",X_test_shaped.shape)"
   ]
  },
  {
   "cell_type": "code",
   "execution_count": 45,
   "metadata": {},
   "outputs": [
    {
     "data": {
      "application/vnd.jupyter.widget-view+json": {
       "model_id": "9e115963ddac4d7680705b96563f2855",
       "version_major": 2,
       "version_minor": 0
      },
      "text/plain": [
       "A Jupyter Widget"
      ]
     },
     "metadata": {},
     "output_type": "display_data"
    },
    {
     "name": "stdout",
     "output_type": "stream",
     "text": [
      "torch.Size([3, 128, 128])\n",
      "\n"
     ]
    },
    {
     "data": {
      "application/vnd.jupyter.widget-view+json": {
       "model_id": "71fe144073f44efcaa6c41ab8c5894f7",
       "version_major": 2,
       "version_minor": 0
      },
      "text/plain": [
       "A Jupyter Widget"
      ]
     },
     "metadata": {},
     "output_type": "display_data"
    },
    {
     "name": "stdout",
     "output_type": "stream",
     "text": [
      "\n",
      "(18000, 3, 128, 128)\n",
      "[[[-0.2855553  -0.2855553  -0.2855553  ... -1.0561693  -0.7136741\n",
      "   -0.7136741 ]\n",
      "  [-0.7136741  -0.37117907 -0.37117907 ... -0.33692956 -0.33692956\n",
      "   -0.4054286 ]\n",
      "  [-0.4054286  -0.4054286  -0.4739276  ... -0.6109256  -0.6109256\n",
      "   -0.6109256 ]\n",
      "  ...\n",
      "  [-0.19993155 -0.19993155 -0.09718303 ... -0.30268008 -0.30268008\n",
      "   -0.30268008]\n",
      "  [ 0.43368444  0.43368444  0.43368444 ... -0.5424266  -0.6280504\n",
      "   -0.6280504 ]\n",
      "  [-0.6280504  -0.6109256  -0.6109256  ... -0.35405433 -0.35405433\n",
      "   -0.19993155]]\n",
      "\n",
      " [[-0.07492995 -0.07492995  0.01260505 ... -0.23249297 -0.23249297\n",
      "   -0.23249297]\n",
      "  [ 0.50280124  0.50280124  0.50280124 ... -0.495098   -0.582633\n",
      "   -0.582633  ]\n",
      "  [-0.582633   -0.565126   -0.565126   ... -0.24999997 -0.24999997\n",
      "   -0.10994396]\n",
      "  ...\n",
      "  [ 1.3781513   1.4131653   1.4131653  ...  0.06512605  0.06512605\n",
      "    0.06512605]\n",
      "  [ 0.06512605  0.06512605 -0.07492995 ... -0.547619   -0.547619\n",
      "   -0.547619  ]\n",
      "  [-1.5980392  -1.5980392  -1.5980392  ...  1.2380953   1.3956583\n",
      "    1.3956583 ]]\n",
      "\n",
      " [[ 1.6116778   1.5942485   1.5942485  ...  0.2870589   0.2870589\n",
      "    0.2870589 ]\n",
      "  [ 0.2870589   0.2870589   0.16505454 ... -0.32296288 -0.32296288\n",
      "   -0.32296288]\n",
      "  [-1.3512855  -1.3512855  -1.3512855  ...  1.5071026   1.6291069\n",
      "    1.6291069 ]\n",
      "  ...\n",
      "  [ 0.56592613  0.56592613  0.56592613 ... -0.37525046 -0.514684\n",
      "   -0.514684  ]\n",
      "  [-0.514684   -0.60182995 -0.60182995 ...  0.13019615  0.13019615\n",
      "    0.21734212]\n",
      "  [ 0.21734212  0.21734212  0.11276696 ... -0.30553368 -0.30553368\n",
      "   -0.30553368]]]\n",
      "(18000, 1, 128, 128)\n",
      "[[[0. 0. 0. ... 0. 0. 0.]\n",
      "  [0. 0. 0. ... 0. 0. 0.]\n",
      "  [0. 0. 0. ... 0. 0. 0.]\n",
      "  ...\n",
      "  [0. 0. 0. ... 0. 0. 0.]\n",
      "  [0. 0. 0. ... 0. 0. 0.]\n",
      "  [0. 0. 0. ... 0. 0. 0.]]]\n"
     ]
    }
   ],
   "source": [
    "X_test_shaped_1=np.zeros((X_test_shaped.shape[0],X_test_shaped.shape[3],X_test_shaped.shape[1],X_test_shaped.shape[2]),dtype=np.float32)\n",
    "Y_test_shaped_1=np.zeros((Y_test_shaped.shape[0],Y_test_shaped.shape[3],Y_test_shaped.shape[1],Y_test_shaped.shape[2]),dtype=np.float32)\n",
    "\n",
    "for idx,sample in tqdm_notebook(enumerate(X_test_shaped),total=len(X_test_shaped)):\n",
    "    if idx==0:\n",
    "        print(img_transform(sample).shape)  # 输入图片是【H,W,C】 转换结果是【C,H,W】\n",
    "    #X_test_shaped_1[idx]=img_transform(sample)\n",
    "    X_test_shaped_1[idx]= sample.transpose(2,0,1)\n",
    "    \n",
    "for idx,sample in tqdm_notebook(enumerate(Y_test_shaped),total=len(Y_test_shaped)):\n",
    "    Y_test_shaped_1[idx]=sample.transpose(2,0,1)  # 不要对y进行标准归一化处理\n",
    "    \n",
    "print(X_test_shaped_1.shape)\n",
    "print(X_test_shaped_1[0])\n",
    "print(Y_test_shaped_1.shape)\n",
    "print(Y_test_shaped_1[0])"
   ]
  },
  {
   "cell_type": "markdown",
   "metadata": {},
   "source": [
    "\n",
    "[如何手动释放Python的内存](https://blog.csdn.net/ztf312/article/details/54024765)"
   ]
  },
  {
   "cell_type": "code",
   "execution_count": 46,
   "metadata": {},
   "outputs": [
    {
     "data": {
      "text/plain": [
       "0"
      ]
     },
     "execution_count": 46,
     "metadata": {},
     "output_type": "execute_result"
    }
   ],
   "source": [
    "import gc \n",
    "\n",
    "del X_test_shaped\n",
    "del Y_test_shaped\n",
    "del X_test\n",
    "del Y_test\n",
    "gc.collect() "
   ]
  },
  {
   "cell_type": "markdown",
   "metadata": {},
   "source": [
    "## 水平翻转测试集"
   ]
  },
  {
   "cell_type": "code",
   "execution_count": 47,
   "metadata": {},
   "outputs": [
    {
     "name": "stdout",
     "output_type": "stream",
     "text": [
      "False\n",
      "False\n",
      "(18000, 3, 128, 128)\n",
      "(18000, 1, 128, 128)\n"
     ]
    }
   ],
   "source": [
    "X_test_shaped_2 =X_test_shaped_1.copy()\n",
    "Y_test_shaped_2=Y_test_shaped_1.copy()\n",
    "print(X_test_shaped_2 is X_test_shaped_1)\n",
    "print(Y_test_shaped_2 is Y_test_shaped_1)\n",
    "\n",
    "print(X_test_shaped_2.shape)\n",
    "print(Y_test_shaped_2.shape)\n",
    "\n",
    "def Flip(X,Y):\n",
    "#     X_aug = bb[:,::-1,:]\n",
    "#     y_aug = cc[:,::-1,:]  \n",
    "    X_aug = X[:,:,:,::-1]\n",
    "    y_aug = Y[:,:,:,::-1]  \n",
    "    return X_aug,y_aug\n",
    "\n",
    "X_test_shaped_2,Y_test_shaped_2=Flip(X_test_shaped_2,Y_test_shaped_2)"
   ]
  },
  {
   "cell_type": "code",
   "execution_count": 48,
   "metadata": {},
   "outputs": [],
   "source": [
    "X_test_shaped_3=np.concatenate([X_test_shaped_1,X_test_shaped_2],axis=0)\n",
    "Y_test_shaped_3=np.concatenate([Y_test_shaped_1,Y_test_shaped_2],axis=0)"
   ]
  },
  {
   "cell_type": "code",
   "execution_count": 49,
   "metadata": {},
   "outputs": [
    {
     "name": "stdout",
     "output_type": "stream",
     "text": [
      "(36000, 3, 128, 128)\n",
      "(36000, 1, 128, 128)\n"
     ]
    }
   ],
   "source": [
    "print(X_test_shaped_3.shape)\n",
    "print(Y_test_shaped_3.shape)"
   ]
  },
  {
   "cell_type": "markdown",
   "metadata": {},
   "source": [
    "### 加载待测试模型"
   ]
  },
  {
   "cell_type": "code",
   "execution_count": 50,
   "metadata": {
    "collapsed": true
   },
   "outputs": [],
   "source": [
    "salt_ID_dataset_test = saltIDDataset(X_test_shaped_3, \n",
    "                                      train=True,   # 在bug没修正前，不要设置为False\n",
    "                                      preprocessed_masks=Y_test_shaped_3)\n",
    "\n",
    "batch_size = 64\n",
    "\n",
    "test_loader = torch.utils.data.DataLoader(dataset=salt_ID_dataset_test, \n",
    "                                           batch_size=batch_size, \n",
    "                                           shuffle=False)\n"
   ]
  },
  {
   "cell_type": "code",
   "execution_count": 51,
   "metadata": {},
   "outputs": [
    {
     "data": {
      "text/plain": [
       "36000"
      ]
     },
     "execution_count": 51,
     "metadata": {},
     "output_type": "execute_result"
    }
   ],
   "source": [
    "salt_ID_dataset_test.__len__()"
   ]
  },
  {
   "cell_type": "code",
   "execution_count": 52,
   "metadata": {
    "scrolled": false
   },
   "outputs": [
    {
     "name": "stdout",
     "output_type": "stream",
     "text": [
      "Next 20 Test Batchs ...\n",
      "Next 20 Test Batchs ...\n",
      "Next 20 Test Batchs ...\n",
      "Next 20 Test Batchs ...\n",
      "Next 20 Test Batchs ...\n",
      "Next 20 Test Batchs ...\n",
      "Next 20 Test Batchs ...\n",
      "Next 20 Test Batchs ...\n",
      "Next 20 Test Batchs ...\n",
      "Next 20 Test Batchs ...\n",
      "Next 20 Test Batchs ...\n",
      "Next 20 Test Batchs ...\n",
      "Next 20 Test Batchs ...\n",
      "Next 20 Test Batchs ...\n",
      "Next 20 Test Batchs ...\n",
      "Next 20 Test Batchs ...\n",
      "Next 20 Test Batchs ...\n",
      "Next 20 Test Batchs ...\n",
      "Next 20 Test Batchs ...\n",
      "Next 20 Test Batchs ...\n",
      "Next 20 Test Batchs ...\n",
      "Next 20 Test Batchs ...\n",
      "Next 20 Test Batchs ...\n",
      "Next 20 Test Batchs ...\n",
      "Next 20 Test Batchs ...\n",
      "Next 20 Test Batchs ...\n",
      "Next 20 Test Batchs ...\n",
      "Next 20 Test Batchs ...\n",
      "Test Done!\n"
     ]
    }
   ],
   "source": [
    "Mask_preds = []\n",
    "count=1\n",
    "for images,_ in test_loader:\n",
    "    \n",
    "    count=count+1\n",
    "    if count%20==0:\n",
    "        print(\"Next 20 Test Batchs ...\")\n",
    "        \n",
    "    images = Variable(images.cuda())\n",
    "    masks = Variable(masks.cuda())\n",
    "#     images = Variable(images)\n",
    "    y_preds= model(images)\n",
    "\n",
    "    for i, _ in enumerate(images):\n",
    "        y_pred = y_preds[i] \n",
    "        y_pred = torch.sigmoid(y_pred)  # Sigmoid 归一化\n",
    "        y_pred = y_pred.cpu().data.numpy()\n",
    "        Mask_preds.append(y_pred)    \n",
    "        # 可以通过numpy pandas 等写入disk\n",
    "        \n",
    "print(\"Test Done!\")"
   ]
  },
  {
   "cell_type": "code",
   "execution_count": 53,
   "metadata": {},
   "outputs": [
    {
     "data": {
      "text/plain": [
       "36000"
      ]
     },
     "execution_count": 53,
     "metadata": {},
     "output_type": "execute_result"
    }
   ],
   "source": [
    "len(Mask_preds)"
   ]
  },
  {
   "cell_type": "code",
   "execution_count": null,
   "metadata": {
    "collapsed": true
   },
   "outputs": [],
   "source": []
  },
  {
   "cell_type": "code",
   "execution_count": 54,
   "metadata": {},
   "outputs": [
    {
     "name": "stdout",
     "output_type": "stream",
     "text": [
      "18000\n",
      "18000\n"
     ]
    }
   ],
   "source": [
    "Mask_preds_part1=Mask_preds[0:18000].copy()\n",
    "Mask_preds_part2=Mask_preds[18000:].copy()\n",
    "print(len(Mask_preds_part1))\n",
    "print(len(Mask_preds_part2))\n",
    "\n",
    "def Flip_img(Mask): #[bs,c_in,H,W]\n",
    "    out=[]\n",
    "    for i in range(len(Mask)):\n",
    "        out.append( Mask[i][:,:,::-1].copy()) \n",
    "    return out\n",
    "\n",
    "Mask_preds_part2= Flip_img(Mask_preds_part2)\n"
   ]
  },
  {
   "cell_type": "code",
   "execution_count": 55,
   "metadata": {},
   "outputs": [
    {
     "data": {
      "text/plain": [
       "36000"
      ]
     },
     "execution_count": 55,
     "metadata": {},
     "output_type": "execute_result"
    }
   ],
   "source": [
    "len(Mask_preds)"
   ]
  },
  {
   "cell_type": "code",
   "execution_count": 56,
   "metadata": {},
   "outputs": [
    {
     "name": "stdout",
     "output_type": "stream",
     "text": [
      "平均ok,Mask_preds shape: 18000\n"
     ]
    }
   ],
   "source": [
    "import gc \n",
    "\n",
    "del Mask_preds\n",
    "\n",
    "gc.collect() \n",
    "\n",
    "\n",
    "Mask_preds=[]\n",
    "for i in range(len(Mask_preds_part1)):\n",
    "    Mask_preds.append(0.5*(Mask_preds_part1[i]+Mask_preds_part2[i]))\n",
    "print(\"平均ok,Mask_preds shape:\",len(Mask_preds))"
   ]
  },
  {
   "cell_type": "code",
   "execution_count": 57,
   "metadata": {},
   "outputs": [
    {
     "name": "stdout",
     "output_type": "stream",
     "text": [
      "Mask_preds shape: 18000\n",
      "(1, 128, 128)\n"
     ]
    }
   ],
   "source": [
    "print(\"Mask_preds shape:\",len(Mask_preds))\n",
    "print(Mask_preds[0].shape)"
   ]
  },
  {
   "cell_type": "markdown",
   "metadata": {},
   "source": [
    "### 持久化预测的Mask_preds 以便后续探索各种阈值截断方式"
   ]
  },
  {
   "cell_type": "markdown",
   "metadata": {},
   "source": [
    "![](http://op4a94iq8.bkt.clouddn.com/18-8-28/6311537.jpg)"
   ]
  },
  {
   "cell_type": "code",
   "execution_count": 58,
   "metadata": {
    "collapsed": true
   },
   "outputs": [],
   "source": [
    "import gc \n",
    "\n",
    "del X_test_shaped_1\n",
    "del Y_test_shaped_1\n",
    "\n",
    "gc.collect() \n",
    "\n",
    "np.save('Mask_preds_128',Mask_preds)"
   ]
  },
  {
   "cell_type": "code",
   "execution_count": 59,
   "metadata": {
    "collapsed": true
   },
   "outputs": [],
   "source": [
    "import pickle\n",
    "f1 = open('test_ids.pkl', 'wb')  \n",
    "pickle.dump(test_ids,f1,0)# 1或者2为二进制保存\n",
    "f1.close()"
   ]
  },
  {
   "cell_type": "markdown",
   "metadata": {},
   "source": [
    "# 制作submission.csv"
   ]
  },
  {
   "cell_type": "code",
   "execution_count": 60,
   "metadata": {
    "collapsed": true
   },
   "outputs": [],
   "source": [
    "f1 = open('test_ids.pkl', 'rb')\n",
    "test_ids=pickle.load(f1)  #重新载入\n",
    "f1.close()"
   ]
  },
  {
   "cell_type": "code",
   "execution_count": 61,
   "metadata": {},
   "outputs": [
    {
     "ename": "SyntaxError",
     "evalue": "EOL while scanning string literal (<ipython-input-61-7803472688fd>, line 2)",
     "output_type": "error",
     "traceback": [
      "\u001b[0;36m  File \u001b[0;32m\"<ipython-input-61-7803472688fd>\"\u001b[0;36m, line \u001b[0;32m2\u001b[0m\n\u001b[0;31m    Mask_preds=np.load('Mask_preds_128.npy\")\u001b[0m\n\u001b[0m                                            ^\u001b[0m\n\u001b[0;31mSyntaxError\u001b[0m\u001b[0;31m:\u001b[0m EOL while scanning string literal\n"
     ]
    }
   ],
   "source": [
    "# 载入 mask predication\n",
    "Mask_preds=np.load('Mask_preds_128.npy\")"
   ]
  },
  {
   "cell_type": "code",
   "execution_count": 58,
   "metadata": {
    "scrolled": false
   },
   "outputs": [
    {
     "data": {
      "application/vnd.jupyter.widget-view+json": {
       "model_id": "7c42713c9a224b419f123db49fba286f",
       "version_major": 2,
       "version_minor": 0
      },
      "text/plain": [
       "A Jupyter Widget"
      ]
     },
     "metadata": {},
     "output_type": "display_data"
    },
    {
     "name": "stdout",
     "output_type": "stream",
     "text": [
      "\n",
      "Mask_preds_101 shape: 18000\n",
      "(101, 101)\n"
     ]
    }
   ],
   "source": [
    "\n",
    "Mask_preds_101=np.zeros((len(Mask_preds),101,101),dtype=np.float)\n",
    "for idx,sample in tqdm_notebook(enumerate(Mask_preds),total=len(Mask_preds)):\n",
    "    # 把128x128的转换到101x101\n",
    "    \n",
    "    Mask_preds_101[idx] = resize(sample, (1,101, 101), mode='constant', preserve_range=True).reshape(101,101)\n",
    "print(\"Mask_preds_101 shape:\",len(Mask_preds_101))\n",
    "print(Mask_preds_101[0].shape)"
   ]
  },
  {
   "cell_type": "code",
   "execution_count": 59,
   "metadata": {
    "collapsed": true
   },
   "outputs": [],
   "source": [
    "# Source https://www.kaggle.com/bguberfain/unet-with-depth\n",
    "\n",
    "# 对二值化的mask矩阵进行run-length编码\n",
    "def RunLengthEncode(img, order='F', format=True):\n",
    "    \"\"\"\n",
    "    img is binary mask image, shape (r,c)\n",
    "    order is down-then-right, i.e. Fortran\n",
    "    format determines if the order needs to be preformatted (according to submission rules) or not\n",
    "\n",
    "    returns run length as an array or string (if format is True)\n",
    "    \"\"\"\n",
    "    bytes = img.reshape(img.shape[0] * img.shape[1], order=order)\n",
    "    runs = []  ## list of run lengths\n",
    "    r = 0  ## the current run length\n",
    "    pos = 1  ## count starts from 1 per WK\n",
    "    for c in bytes:\n",
    "        if (c == 0):\n",
    "            if r != 0:\n",
    "                runs.append((pos, r))\n",
    "                pos += r\n",
    "                r = 0\n",
    "            pos += 1\n",
    "        else:\n",
    "            r += 1\n",
    "\n",
    "    # if last run is unsaved (i.e. data ends with 1)\n",
    "    if r != 0:\n",
    "        runs.append((pos, r))\n",
    "        pos += r\n",
    "        r = 0\n",
    "\n",
    "    if format:\n",
    "        z = ''\n",
    "\n",
    "        for rr in runs:\n",
    "            z += '{} {} '.format(rr[0], rr[1])\n",
    "        return z[:-1]\n",
    "    else:\n",
    "        return runs"
   ]
  },
  {
   "cell_type": "code",
   "execution_count": 62,
   "metadata": {},
   "outputs": [
    {
     "data": {
      "application/vnd.jupyter.widget-view+json": {
       "model_id": "9271c707e0ab4cf89aa2a94b56400f74",
       "version_major": 2,
       "version_minor": 0
      },
      "text/plain": [
       "A Jupyter Widget"
      ]
     },
     "metadata": {},
     "output_type": "display_data"
    },
    {
     "name": "stdout",
     "output_type": "stream",
     "text": [
      "\n"
     ]
    }
   ],
   "source": [
    "threshold=0.8\n",
    "\n",
    "pred_dict = {fn[:-4]:RunLengthEncode((Mask_preds_101[i]>threshold).astype(np.bool_)) for i,fn in tqdm_notebook(enumerate(test_ids),total=len(Mask_preds_101))}"
   ]
  },
  {
   "cell_type": "code",
   "execution_count": 63,
   "metadata": {
    "collapsed": true
   },
   "outputs": [],
   "source": [
    "sub = pd.DataFrame.from_dict(pred_dict,orient='index')\n",
    "sub.index.names = ['id']\n",
    "sub.columns = ['rle_mask']\n",
    "sub.to_csv('submission.csv')"
   ]
  },
  {
   "cell_type": "code",
   "execution_count": null,
   "metadata": {
    "collapsed": true
   },
   "outputs": [],
   "source": []
  }
 ],
 "metadata": {
  "kernelspec": {
   "display_name": "Python 3",
   "language": "python",
   "name": "python3"
  },
  "language_info": {
   "codemirror_mode": {
    "name": "ipython",
    "version": 3
   },
   "file_extension": ".py",
   "mimetype": "text/x-python",
   "name": "python",
   "nbconvert_exporter": "python",
   "pygments_lexer": "ipython3",
   "version": "3.6.2"
  }
 },
 "nbformat": 4,
 "nbformat_minor": 2
}
