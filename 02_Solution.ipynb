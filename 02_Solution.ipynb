{
 "cells": [
  {
   "cell_type": "code",
   "execution_count": null,
   "metadata": {
    "collapsed": true
   },
   "outputs": [],
   "source": []
  },
  {
   "cell_type": "code",
   "execution_count": null,
   "metadata": {
    "collapsed": true
   },
   "outputs": [],
   "source": []
  },
  {
   "cell_type": "code",
   "execution_count": 1,
   "metadata": {},
   "outputs": [
    {
     "name": "stderr",
     "output_type": "stream",
     "text": [
      "/mnt/ml/anaconda35/lib/python3.6/site-packages/h5py/__init__.py:36: FutureWarning: Conversion of the second argument of issubdtype from `float` to `np.floating` is deprecated. In future, it will be treated as `np.float64 == np.dtype(float).type`.\n",
      "  from ._conv import register_converters as _register_converters\n",
      "Using TensorFlow backend.\n"
     ]
    }
   ],
   "source": [
    "import os\n",
    "import sys\n",
    "import random\n",
    "\n",
    "import pandas as pd\n",
    "import numpy as np\n",
    "import matplotlib.pyplot as plt\n",
    "plt.style.use('seaborn-white')\n",
    "import seaborn as sns\n",
    "sns.set_style(\"white\")\n",
    "\n",
    "%matplotlib inline\n",
    "\n",
    "# import cv2\n",
    "from sklearn.model_selection import train_test_split\n",
    "\n",
    "from tqdm import tqdm_notebook #, tnrange\n",
    "#from itertools import chain\n",
    "from skimage.io import imread, imshow #, concatenate_images\n",
    "from skimage.transform import resize\n",
    "from skimage.morphology import label\n",
    "\n",
    "from keras.models import Model, load_model, save_model\n",
    "from keras.layers import Input,Dropout,BatchNormalization,Activation,Add\n",
    "from keras.layers.core import Lambda\n",
    "from keras.layers.convolutional import Conv2D, Conv2DTranspose\n",
    "from keras.layers.pooling import MaxPooling2D\n",
    "from keras.layers.merge import concatenate\n",
    "from keras.callbacks import EarlyStopping, ModelCheckpoint, ReduceLROnPlateau\n",
    "from keras import backend as K\n",
    "from keras import optimizers\n",
    "\n",
    "import tensorflow as tf\n",
    "\n",
    "from keras.preprocessing.image import array_to_img, img_to_array, load_img#,save_img\n",
    "\n",
    "import time\n",
    "t_start = time.time()"
   ]
  },
  {
   "cell_type": "code",
   "execution_count": 2,
   "metadata": {},
   "outputs": [
    {
     "name": "stdout",
     "output_type": "stream",
     "text": [
      "Unet_resnet_v5.model\n",
      "Unet_resnet_v5.csv\n"
     ]
    }
   ],
   "source": [
    "version = 5\n",
    "basic_name = f'Unet_resnet_v{version}'\n",
    "save_model_name = basic_name + '.model'\n",
    "submission_file = basic_name + '.csv'\n",
    "\n",
    "print(save_model_name)\n",
    "print(submission_file)\n"
   ]
  },
  {
   "cell_type": "code",
   "execution_count": 3,
   "metadata": {
    "collapsed": true
   },
   "outputs": [],
   "source": [
    "img_size_ori = 101\n",
    "img_size_target = 128\n",
    "\n",
    "def upsample(img):# not used\n",
    "    if img_size_ori == img_size_target:\n",
    "        return img\n",
    "    return resize(img, (img_size_target, img_size_target), mode='constant', preserve_range=True)\n",
    "    \n",
    "def downsample(img):# not used\n",
    "    if img_size_ori == img_size_target:\n",
    "        return img\n",
    "    return resize(img, (img_size_ori, img_size_ori), mode='constant', preserve_range=True)\n",
    "\n"
   ]
  },
  {
   "cell_type": "code",
   "execution_count": 4,
   "metadata": {},
   "outputs": [
    {
     "data": {
      "text/plain": [
       "4000"
      ]
     },
     "execution_count": 4,
     "metadata": {},
     "output_type": "execute_result"
    }
   ],
   "source": [
    "# Loading of training/testing ids and depths\n",
    "basic_path=\"\"\n",
    "train_df = pd.read_csv(basic_path+\"train.csv\", index_col=\"id\", usecols=[0])\n",
    "depths_df = pd.read_csv(basic_path+\"depths.csv\", index_col=\"id\")\n",
    "train_df = train_df.join(depths_df)\n",
    "test_df = depths_df[~depths_df.index.isin(train_df.index)]\n",
    "\n",
    "\n",
    "\n",
    "len(train_df)\n"
   ]
  },
  {
   "cell_type": "code",
   "execution_count": 8,
   "metadata": {},
   "outputs": [
    {
     "data": {
      "application/vnd.jupyter.widget-view+json": {
       "model_id": "4d55b5fa72564cc5b654aab41913fd1c",
       "version_major": 2,
       "version_minor": 0
      },
      "text/plain": [
       "A Jupyter Widget"
      ]
     },
     "metadata": {},
     "output_type": "display_data"
    },
    {
     "name": "stdout",
     "output_type": "stream",
     "text": [
      "\n"
     ]
    }
   ],
   "source": [
    "train_df[\"images\"] = [np.array(load_img(basic_path+\"train/images/{}.png\".format(idx), color_mode = \"grayscale\"))# / 255 \n",
    "                          for idx in tqdm_notebook(train_df.index)]\n"
   ]
  },
  {
   "cell_type": "code",
   "execution_count": 9,
   "metadata": {},
   "outputs": [
    {
     "data": {
      "application/vnd.jupyter.widget-view+json": {
       "model_id": "6feab8176b5540698b3a625860b5f9d2",
       "version_major": 2,
       "version_minor": 0
      },
      "text/plain": [
       "A Jupyter Widget"
      ]
     },
     "metadata": {},
     "output_type": "display_data"
    },
    {
     "name": "stdout",
     "output_type": "stream",
     "text": [
      "\n"
     ]
    }
   ],
   "source": [
    "train_df[\"masks\"] = [np.array(load_img(basic_path+\"train/masks/{}.png\".format(idx), color_mode = \"grayscale\"))# / 255 \n",
    "                         for idx in tqdm_notebook(train_df.index)]\n"
   ]
  },
  {
   "cell_type": "code",
   "execution_count": 10,
   "metadata": {},
   "outputs": [
    {
     "data": {
      "text/html": [
       "<div>\n",
       "<style>\n",
       "    .dataframe thead tr:only-child th {\n",
       "        text-align: right;\n",
       "    }\n",
       "\n",
       "    .dataframe thead th {\n",
       "        text-align: left;\n",
       "    }\n",
       "\n",
       "    .dataframe tbody tr th {\n",
       "        vertical-align: top;\n",
       "    }\n",
       "</style>\n",
       "<table border=\"1\" class=\"dataframe\">\n",
       "  <thead>\n",
       "    <tr style=\"text-align: right;\">\n",
       "      <th></th>\n",
       "      <th>z</th>\n",
       "      <th>images</th>\n",
       "      <th>masks</th>\n",
       "    </tr>\n",
       "    <tr>\n",
       "      <th>id</th>\n",
       "      <th></th>\n",
       "      <th></th>\n",
       "      <th></th>\n",
       "    </tr>\n",
       "  </thead>\n",
       "  <tbody>\n",
       "    <tr>\n",
       "      <th>575d24d81d</th>\n",
       "      <td>843</td>\n",
       "      <td>[[134, 131, 134, 137, 136, 136, 136, 134, 123,...</td>\n",
       "      <td>[[0, 0, 0, 0, 0, 0, 0, 0, 0, 0, 0, 0, 0, 0, 0,...</td>\n",
       "    </tr>\n",
       "    <tr>\n",
       "      <th>a266a2a9df</th>\n",
       "      <td>794</td>\n",
       "      <td>[[87, 96, 85, 57, 51, 92, 110, 122, 141, 141, ...</td>\n",
       "      <td>[[0, 0, 0, 0, 0, 0, 0, 0, 0, 0, 0, 0, 0, 0, 0,...</td>\n",
       "    </tr>\n",
       "    <tr>\n",
       "      <th>75efad62c1</th>\n",
       "      <td>468</td>\n",
       "      <td>[[145, 119, 83, 67, 70, 67, 56, 77, 113, 101, ...</td>\n",
       "      <td>[[0, 0, 0, 0, 0, 0, 0, 0, 0, 0, 0, 0, 0, 0, 0,...</td>\n",
       "    </tr>\n",
       "    <tr>\n",
       "      <th>34e51dba6a</th>\n",
       "      <td>727</td>\n",
       "      <td>[[138, 121, 101, 78, 52, 32, 21, 26, 47, 79, 1...</td>\n",
       "      <td>[[0, 0, 0, 0, 0, 0, 0, 0, 0, 0, 0, 0, 0, 0, 0,...</td>\n",
       "    </tr>\n",
       "    <tr>\n",
       "      <th>4875705fb0</th>\n",
       "      <td>797</td>\n",
       "      <td>[[17, 20, 23, 27, 30, 32, 34, 36, 36, 36, 38, ...</td>\n",
       "      <td>[[0, 0, 0, 0, 0, 0, 0, 0, 0, 0, 0, 0, 0, 0, 0,...</td>\n",
       "    </tr>\n",
       "    <tr>\n",
       "      <th>782ae9b7e7</th>\n",
       "      <td>677</td>\n",
       "      <td>[[155, 158, 158, 157, 156, 156, 157, 157, 159,...</td>\n",
       "      <td>[[255, 255, 255, 255, 255, 255, 255, 255, 255,...</td>\n",
       "    </tr>\n",
       "    <tr>\n",
       "      <th>9842f69f8d</th>\n",
       "      <td>907</td>\n",
       "      <td>[[112, 105, 102, 116, 141, 138, 130, 139, 106,...</td>\n",
       "      <td>[[0, 0, 0, 0, 0, 0, 0, 0, 0, 0, 0, 0, 0, 0, 0,...</td>\n",
       "    </tr>\n",
       "    <tr>\n",
       "      <th>aa94cfb806</th>\n",
       "      <td>754</td>\n",
       "      <td>[[129, 125, 121, 119, 119, 120, 123, 127, 130,...</td>\n",
       "      <td>[[255, 255, 255, 255, 255, 255, 255, 255, 255,...</td>\n",
       "    </tr>\n",
       "    <tr>\n",
       "      <th>50d3073821</th>\n",
       "      <td>810</td>\n",
       "      <td>[[119, 136, 107, 83, 113, 126, 142, 128, 109, ...</td>\n",
       "      <td>[[255, 255, 255, 255, 255, 255, 255, 255, 255,...</td>\n",
       "    </tr>\n",
       "    <tr>\n",
       "      <th>28f865caaa</th>\n",
       "      <td>147</td>\n",
       "      <td>[[110, 112, 113, 112, 109, 104, 100, 100, 97, ...</td>\n",
       "      <td>[[0, 0, 0, 0, 0, 0, 0, 0, 0, 0, 0, 0, 0, 0, 0,...</td>\n",
       "    </tr>\n",
       "  </tbody>\n",
       "</table>\n",
       "</div>"
      ],
      "text/plain": [
       "              z                                             images  \\\n",
       "id                                                                   \n",
       "575d24d81d  843  [[134, 131, 134, 137, 136, 136, 136, 134, 123,...   \n",
       "a266a2a9df  794  [[87, 96, 85, 57, 51, 92, 110, 122, 141, 141, ...   \n",
       "75efad62c1  468  [[145, 119, 83, 67, 70, 67, 56, 77, 113, 101, ...   \n",
       "34e51dba6a  727  [[138, 121, 101, 78, 52, 32, 21, 26, 47, 79, 1...   \n",
       "4875705fb0  797  [[17, 20, 23, 27, 30, 32, 34, 36, 36, 36, 38, ...   \n",
       "782ae9b7e7  677  [[155, 158, 158, 157, 156, 156, 157, 157, 159,...   \n",
       "9842f69f8d  907  [[112, 105, 102, 116, 141, 138, 130, 139, 106,...   \n",
       "aa94cfb806  754  [[129, 125, 121, 119, 119, 120, 123, 127, 130,...   \n",
       "50d3073821  810  [[119, 136, 107, 83, 113, 126, 142, 128, 109, ...   \n",
       "28f865caaa  147  [[110, 112, 113, 112, 109, 104, 100, 100, 97, ...   \n",
       "\n",
       "                                                        masks  \n",
       "id                                                             \n",
       "575d24d81d  [[0, 0, 0, 0, 0, 0, 0, 0, 0, 0, 0, 0, 0, 0, 0,...  \n",
       "a266a2a9df  [[0, 0, 0, 0, 0, 0, 0, 0, 0, 0, 0, 0, 0, 0, 0,...  \n",
       "75efad62c1  [[0, 0, 0, 0, 0, 0, 0, 0, 0, 0, 0, 0, 0, 0, 0,...  \n",
       "34e51dba6a  [[0, 0, 0, 0, 0, 0, 0, 0, 0, 0, 0, 0, 0, 0, 0,...  \n",
       "4875705fb0  [[0, 0, 0, 0, 0, 0, 0, 0, 0, 0, 0, 0, 0, 0, 0,...  \n",
       "782ae9b7e7  [[255, 255, 255, 255, 255, 255, 255, 255, 255,...  \n",
       "9842f69f8d  [[0, 0, 0, 0, 0, 0, 0, 0, 0, 0, 0, 0, 0, 0, 0,...  \n",
       "aa94cfb806  [[255, 255, 255, 255, 255, 255, 255, 255, 255,...  \n",
       "50d3073821  [[255, 255, 255, 255, 255, 255, 255, 255, 255,...  \n",
       "28f865caaa  [[0, 0, 0, 0, 0, 0, 0, 0, 0, 0, 0, 0, 0, 0, 0,...  "
      ]
     },
     "execution_count": 10,
     "metadata": {},
     "output_type": "execute_result"
    }
   ],
   "source": [
    "train_df.head(10)"
   ]
  },
  {
   "cell_type": "code",
   "execution_count": 7,
   "metadata": {
    "collapsed": true
   },
   "outputs": [],
   "source": [
    "train_df[\"coverage\"] = train_df.masks.map(np.sum) / pow(img_size_ori, 2)\n",
    "\n",
    "def cov_to_class(val):    \n",
    "    for i in range(0, 21):\n",
    "        if val * 20 <= i :\n",
    "            return i\n",
    "        \n",
    "train_df[\"coverage_class\"] = train_df.coverage.map(cov_to_class)\n"
   ]
  },
  {
   "cell_type": "code",
   "execution_count": 8,
   "metadata": {},
   "outputs": [
    {
     "name": "stderr",
     "output_type": "stream",
     "text": [
      "/mnt/ml/anaconda35/lib/python3.6/site-packages/matplotlib/axes/_axes.py:6462: UserWarning: The 'normed' kwarg is deprecated, and has been replaced by the 'density' kwarg.\n",
      "  warnings.warn(\"The 'normed' kwarg is deprecated, and has been \"\n"
     ]
    },
    {
     "data": {
      "text/plain": [
       "Text(0.5,0,'Coverage class')"
      ]
     },
     "execution_count": 8,
     "metadata": {},
     "output_type": "execute_result"
    },
    {
     "data": {
      "image/png": "[encoded data removed]",
      "text/plain": [
       "<Figure size 1080x360 with 2 Axes>"
      ]
     },
     "metadata": {},
     "output_type": "display_data"
    }
   ],
   "source": [
    "fig, axs = plt.subplots(1, 2, figsize=(15,5))\n",
    "sns.distplot(train_df.coverage, kde=False, ax=axs[0])\n",
    "sns.distplot(train_df.coverage_class, bins=10, kde=False, ax=axs[1])\n",
    "plt.suptitle(\"Salt coverage\")\n",
    "axs[0].set_xlabel(\"Coverage\")\n",
    "axs[1].set_xlabel(\"Coverage class\")\n"
   ]
  },
  {
   "cell_type": "code",
   "execution_count": 9,
   "metadata": {},
   "outputs": [
    {
     "name": "stderr",
     "output_type": "stream",
     "text": [
      "/mnt/ml/anaconda35/lib/python3.6/site-packages/matplotlib/axes/_axes.py:6462: UserWarning: The 'normed' kwarg is deprecated, and has been replaced by the 'density' kwarg.\n",
      "  warnings.warn(\"The 'normed' kwarg is deprecated, and has been \"\n"
     ]
    },
    {
     "data": {
      "text/plain": [
       "Text(0.5,1,'Depth distribution')"
      ]
     },
     "execution_count": 9,
     "metadata": {},
     "output_type": "execute_result"
    },
    {
     "data": {
      "image/png": "[encoded data removed]",
      "text/plain": [
       "<Figure size 432x288 with 1 Axes>"
      ]
     },
     "metadata": {},
     "output_type": "display_data"
    }
   ],
   "source": [
    "#Plotting the depth distributions¶\n",
    "\n",
    "sns.distplot(train_df.z, label=\"Train\")\n",
    "sns.distplot(test_df.z, label=\"Test\")\n",
    "plt.legend()\n",
    "plt.title(\"Depth distribution\")\n"
   ]
  },
  {
   "cell_type": "code",
   "execution_count": 10,
   "metadata": {
    "collapsed": true
   },
   "outputs": [],
   "source": [
    "# Create train/validation split stratified by salt coverage\n",
    "\n",
    "ids_train, ids_valid, x_train, x_valid, y_train, y_valid, cov_train, cov_test, depth_train, depth_test = train_test_split(\n",
    "    train_df.index.values,\n",
    "    np.array(train_df.images.map(upsample).tolist()).reshape(-1, img_size_target, img_size_target, 1), \n",
    "    np.array(train_df.masks.map(upsample).tolist()).reshape(-1, img_size_target, img_size_target, 1), \n",
    "    train_df.coverage.values,\n",
    "    train_df.z.values,\n",
    "    test_size=0.12, stratify=train_df.coverage_class, random_state= 1224)\n",
    "\n"
   ]
  },
  {
   "cell_type": "code",
   "execution_count": 11,
   "metadata": {},
   "outputs": [
    {
     "name": "stdout",
     "output_type": "stream",
     "text": [
      "(480,)\n",
      "(3520,)\n"
     ]
    }
   ],
   "source": [
    "print(ids_valid.shape)\n",
    "print(ids_train.shape)"
   ]
  },
  {
   "cell_type": "markdown",
   "metadata": {},
   "source": [
    "# Data Augment --- 使用albumentations"
   ]
  },
  {
   "cell_type": "code",
   "execution_count": 12,
   "metadata": {
    "collapsed": true
   },
   "outputs": [],
   "source": [
    "from torch import nn\n",
    "from torch.nn import functional as F\n",
    "import torch\n",
    "from torchvision import models\n",
    "import torchvision\n"
   ]
  },
  {
   "cell_type": "code",
   "execution_count": 13,
   "metadata": {
    "collapsed": true
   },
   "outputs": [],
   "source": [
    "#Data augmentation\n",
    "x_train = np.append(x_train, [np.fliplr(x) for x in x_train], axis=0)\n",
    "y_train = np.append(y_train, [np.fliplr(x) for x in y_train], axis=0)\n",
    "\n"
   ]
  },
  {
   "cell_type": "code",
   "execution_count": 14,
   "metadata": {},
   "outputs": [
    {
     "name": "stdout",
     "output_type": "stream",
     "text": [
      "(7040, 128, 128, 1)\n",
      "(480, 128, 128, 1)\n",
      "(7040, 128, 128, 1)\n",
      "(480, 128, 128, 1)\n"
     ]
    }
   ],
   "source": [
    "print(x_train.shape)\n",
    "print(x_valid.shape)\n",
    "print(y_train.shape)\n",
    "print(y_valid.shape)"
   ]
  },
  {
   "cell_type": "code",
   "execution_count": 15,
   "metadata": {},
   "outputs": [
    {
     "name": "stdout",
     "output_type": "stream",
     "text": [
      "(7040, 128, 128, 3)\n",
      "(7040, 128, 128, 1)\n",
      "(480, 128, 128, 3)\n",
      "(480, 128, 128, 1)\n"
     ]
    }
   ],
   "source": [
    "mean= [0.485,0.456,0.406]\n",
    "std=  [0.229,0.224,0.225]\n",
    "\n",
    "x_train=np.concatenate((x_train-mean[2]/std[2],\n",
    "                  x_train-mean[1]/std[1],\n",
    "                  x_train-mean[0]/std[0]),axis=-1)\n",
    "\n",
    "x_valid=np.concatenate((x_valid-mean[2]/std[2],\n",
    "                  x_valid-mean[1]/std[1],\n",
    "                  x_valid-mean[0]/std[0]),axis=-1)\n",
    "\n",
    "print(x_train.shape)\n",
    "print(y_train.shape)\n",
    "print(x_valid.shape)\n",
    "print(y_valid.shape)"
   ]
  },
  {
   "cell_type": "code",
   "execution_count": null,
   "metadata": {
    "collapsed": true
   },
   "outputs": [],
   "source": []
  },
  {
   "cell_type": "markdown",
   "metadata": {},
   "source": [
    "### 将增强后的数据集转换成pytorch格式 【Bs,C,H,W】"
   ]
  },
  {
   "cell_type": "code",
   "execution_count": 16,
   "metadata": {},
   "outputs": [
    {
     "name": "stdout",
     "output_type": "stream",
     "text": [
      "(7040, 3, 128, 128)\n",
      "(480, 3, 128, 128)\n",
      "(7040, 1, 128, 128)\n",
      "(480, 1, 128, 128)\n"
     ]
    }
   ],
   "source": [
    "x_train=np.transpose(x_train,[0,3,1,2]).astype(np.float32)\n",
    "y_train=np.transpose(y_train,[0,3,1,2]).astype(np.float32)\n",
    "\n",
    "x_valid=np.transpose(x_valid,[0,3,1,2]).astype(np.float32)\n",
    "y_valid=np.transpose(y_valid,[0,3,1,2]).astype(np.float32)\n",
    "print(x_train.shape)\n",
    "print(x_valid.shape)\n",
    "print(y_train.shape)\n",
    "print(y_valid.shape)"
   ]
  },
  {
   "cell_type": "code",
   "execution_count": 17,
   "metadata": {
    "collapsed": true
   },
   "outputs": [],
   "source": [
    "# 自定义一个Pytorch的数据加载器,必须继承自torch.utils.data.Dataset\n",
    "# https://stackoverflow.com/questions/50052295/how-do-you-load-images-into-pytorch-dataloader\n",
    "\n",
    "class saltIDDataset(torch.utils.data.Dataset):\n",
    "\n",
    "    def __init__(self,preprocessed_images,train=True, preprocessed_masks=None):\n",
    "        \"\"\"\n",
    "        Args:\n",
    "            text_file(string): path to text file\n",
    "            root_dir(string): directory with all train images\n",
    "        \"\"\"\n",
    "        self.train = train\n",
    "        self.images = preprocessed_images\n",
    "        if self.train:\n",
    "            self.masks = preprocessed_masks\n",
    "\n",
    "    def __len__(self):\n",
    "        return len(self.images)\n",
    "\n",
    "    def __getitem__(self, idx):\n",
    "        image = self.images[idx]\n",
    "        mask = None\n",
    "        if self.train:\n",
    "            mask = self.masks[idx]\n",
    "        return (image, mask)"
   ]
  },
  {
   "cell_type": "code",
   "execution_count": 18,
   "metadata": {},
   "outputs": [
    {
     "name": "stdout",
     "output_type": "stream",
     "text": [
      "Trainng samples: 7040\n",
      "Validation samples: 480\n"
     ]
    }
   ],
   "source": [
    "salt_ID_dataset_train = saltIDDataset(x_train, \n",
    "                                      train=True, \n",
    "                                      preprocessed_masks=y_train)\n",
    "\n",
    "salt_ID_dataset_val = saltIDDataset(x_valid, \n",
    "                                      train=True, \n",
    "                                      preprocessed_masks=y_valid)\n",
    "\n",
    "batch_size = 32\n",
    "\n",
    "train_loader = torch.utils.data.DataLoader(dataset=salt_ID_dataset_train, \n",
    "                                           batch_size=batch_size, \n",
    "                                           shuffle=True)\n",
    "\n",
    "val_loader = torch.utils.data.DataLoader(dataset=salt_ID_dataset_val, \n",
    "                                           batch_size=batch_size, \n",
    "                                           shuffle=False)\n",
    "\n",
    "print(\"Trainng samples:\",train_loader.dataset.__len__())\n",
    "print(\"Validation samples:\",val_loader.dataset.__len__())"
   ]
  },
  {
   "cell_type": "markdown",
   "metadata": {},
   "source": [
    "# Model define"
   ]
  },
  {
   "cell_type": "code",
   "execution_count": 19,
   "metadata": {
    "collapsed": true
   },
   "outputs": [],
   "source": [
    "from torch import nn\n",
    "from torch.nn import functional as F\n",
    "from torch.autograd import Variable\n",
    "import torch\n",
    "from torchvision import models\n",
    "import torchvision"
   ]
  },
  {
   "cell_type": "code",
   "execution_count": 20,
   "metadata": {
    "collapsed": true
   },
   "outputs": [],
   "source": [
    "from torch import nn\n",
    "from torch.nn import functional as F\n",
    "import torch\n",
    "from torchvision import models\n",
    "import torchvision\n",
    "\n",
    "\"\"\"\n",
    "This script has been taken (and modified) from :\n",
    "https://github.com/ternaus/TernausNet\n",
    "@ARTICLE{arXiv:1801.05746,\n",
    "         author = {V. Iglovikov and A. Shvets},\n",
    "          title = {TernausNet: U-Net with VGG11 Encoder Pre-Trained on ImageNet for Image Segmentation},\n",
    "        journal = {ArXiv e-prints},\n",
    "         eprint = {1801.05746}, \n",
    "           year = 2018\n",
    "        }\n",
    "\"\"\"\n",
    "\n",
    "def conv3x3(in_, out):\n",
    "    return nn.Conv2d(in_, out, 3, padding=1)\n",
    "\n",
    "class ConvRelu(nn.Module):\n",
    "    def __init__(self, in_, out):\n",
    "        super().__init__()\n",
    "        self.conv = conv3x3(in_, out)\n",
    "        self.BN=nn.BatchNorm2d(out)\n",
    "        self.activation = nn.ReLU(inplace=True)\n",
    "\n",
    "    def forward(self, x):\n",
    "        x = self.conv(x)\n",
    "        x=self.BN(x)\n",
    "        x = self.activation(x)\n",
    "        return x\n",
    "    \n",
    "\n",
    "class DecoderBlockV2(nn.Module):\n",
    "    def __init__(self, in_channels, middle_channels, out_channels, is_deconv=True):\n",
    "        super(DecoderBlockV2, self).__init__()\n",
    "        self.in_channels = in_channels\n",
    "\n",
    "        if is_deconv:\n",
    "            \"\"\"\n",
    "                Paramaters for Deconvolution were chosen to avoid artifacts, following\n",
    "                link https://distill.pub/2016/deconv-checkerboard/\n",
    "            \"\"\"\n",
    "\n",
    "            self.block = nn.Sequential(\n",
    "                ConvRelu(in_channels, middle_channels),\n",
    "                nn.ConvTranspose2d(middle_channels, out_channels, kernel_size=4, stride=2,padding=1),\n",
    "                ConvRelu(out_channels, out_channels)\n",
    "            )\n",
    "        else:\n",
    "            self.block = nn.Sequential(\n",
    "                nn.BatchNorm2d(in_channels),\n",
    "                nn.Upsample(scale_factor=2, mode='bilinear'),\n",
    "                ConvRelu(in_channels, middle_channels),\n",
    "                ConvRelu(middle_channels, out_channels),\n",
    "            )\n",
    "\n",
    "    def forward(self, x):\n",
    "        return self.block(x)\n",
    "\n",
    "\n",
    "class UNetResNet(nn.Module):\n",
    "    \"\"\"PyTorch U-Net model using ResNet(34, 101 or 152) encoder.\n",
    "    UNet: https://arxiv.org/abs/1505.04597\n",
    "    ResNet: https://arxiv.org/abs/1512.03385\n",
    "    Proposed by Alexander Buslaev: https://www.linkedin.com/in/al-buslaev/\n",
    "    Args:\n",
    "            encoder_depth (int): Depth of a ResNet encoder (34, 101 or 152).\n",
    "            num_classes (int): Number of output classes.\n",
    "            num_filters (int, optional): Number of filters in the last layer of decoder. Defaults to 32.\n",
    "            dropout_2d (float, optional): Probability factor of dropout layer before output layer. Defaults to 0.2.\n",
    "            pretrained (bool, optional):\n",
    "                False - no pre-trained weights are being used.\n",
    "                True  - ResNet encoder is pre-trained on ImageNet.\n",
    "                Defaults to False.\n",
    "            is_deconv (bool, optional):\n",
    "                False: bilinear interpolation is used in decoder.\n",
    "                True: deconvolution is used in decoder.\n",
    "                Defaults to False.\n",
    "    \"\"\"\n",
    "\n",
    "    def __init__(self, encoder_depth, num_classes, num_filters=32, dropout_2d_ration=0.5,\n",
    "                 pretrained=False, is_deconv=True):\n",
    "        super().__init__()\n",
    "        self.num_classes = num_classes\n",
    "        self.dropout_2d_ratio = dropout_2d_ration\n",
    "\n",
    "        if encoder_depth == 34:\n",
    "            self.encoder = torchvision.models.resnet34(pretrained=pretrained)\n",
    "            bottom_channel_nr = 512\n",
    "        elif encoder_depth == 101:\n",
    "            self.encoder = torchvision.models.resnet101(pretrained=pretrained)\n",
    "            bottom_channel_nr = 2048\n",
    "        elif encoder_depth == 152:\n",
    "            self.encoder = torchvision.models.resnet152(pretrained=pretrained)\n",
    "            bottom_channel_nr = 2048\n",
    "        else:\n",
    "            raise NotImplementedError('only 34, 101, 152 version of Resnet are implemented')\n",
    "        \n",
    "        #print(self.encoder)\n",
    "        self.pool = nn.MaxPool2d(2, 2)\n",
    "\n",
    "        self.relu = nn.ReLU(inplace=True)\n",
    "\n",
    "        self.conv1 = nn.Sequential(self.encoder.conv1,self.encoder.bn1,self.encoder.relu)\n",
    "\n",
    "        self.conv2 = self.encoder.layer1\n",
    "\n",
    "        self.conv3 = self.encoder.layer2\n",
    "\n",
    "        self.conv4 = self.encoder.layer3\n",
    "\n",
    "        self.middle = self.encoder.layer4\n",
    "\n",
    "        \n",
    "        self.dec5 = DecoderBlockV2(512, 512, 256, is_deconv)\n",
    "        \n",
    "        self.dec4 = DecoderBlockV2(512, 256, 128, is_deconv)\n",
    "        \n",
    "        self.dec3 = DecoderBlockV2(256, 128,  64, is_deconv)\n",
    "        \n",
    "        self.dec2 = DecoderBlockV2(192,  96,  48, is_deconv)\n",
    "        \n",
    "        \n",
    "        self.dec0 = ConvRelu(48, 32)\n",
    "        \n",
    "        self.final = nn.Conv2d(num_filters, num_classes, kernel_size=1)\n",
    "\n",
    "    def forward(self, x):\n",
    "        \n",
    "        conv1 = self.conv1(x)\n",
    "        conv1=F.dropout2d(conv1, p=self.dropout_2d_ratio/2,training=self.training)\n",
    "        \n",
    "        conv2 = self.conv2(conv1)\n",
    "        conv2=F.dropout2d(conv2, p=self.dropout_2d_ratio,training=self.training)\n",
    "        \n",
    "        conv3 = self.conv3(conv2)\n",
    "        conv3=F.dropout2d(conv3, p=self.dropout_2d_ratio,training=self.training)\n",
    "        \n",
    "        conv4 = self.conv4(conv3)\n",
    "        conv4=F.dropout2d(conv4, p=self.dropout_2d_ratio,training=self.training)\n",
    "        \n",
    "        middle = self.middle(conv4)\n",
    "        middle=F.dropout2d(middle, p=self.dropout_2d_ratio//2,training=self.training)\n",
    "        \n",
    "        Summary=False\n",
    "        if Summary:\n",
    "            print(\"x:\",x.shape)\n",
    "            print(\"conv1:\",conv1.shape)\n",
    "            print(\"conv2:\",conv2.shape)\n",
    "            print(\"conv3:\",conv3.shape)\n",
    "            print(\"conv4:\",conv4.shape)\n",
    "            print(\"middle:\",middle.shape)\n",
    "        \n",
    "        \n",
    "        dec5 = self.dec5(middle)\n",
    "    \n",
    "        tmp=torch.cat([dec5, conv4],1)\n",
    "        tmp=F.dropout2d(tmp, p=self.dropout_2d_ratio,training=self.training)\n",
    "        dec4 = self.dec4(tmp)\n",
    "        \n",
    "        tmp=torch.cat([dec4, conv3], 1)\n",
    "        tmp=F.dropout2d(tmp, p=self.dropout_2d_ratio,training=self.training)\n",
    "        dec3 = self.dec3(tmp)\n",
    "        \n",
    "        tmp=torch.cat([dec3, conv2, conv1], 1)\n",
    "        tmp=F.dropout2d(tmp, p=self.dropout_2d_ratio,training=self.training)\n",
    "        dec2 = self.dec2(tmp)\n",
    "       \n",
    "        tmp=F.dropout2d(dec2, p=self.dropout_2d_ratio,training=self.training)\n",
    "        dec0 = self.dec0(tmp)\n",
    "        \n",
    "        logits=self.final(F.dropout2d(dec0, p=self.dropout_2d_ratio/2,training=self.training))\n",
    "        \n",
    "        \n",
    "        if Summary:\n",
    "            print(\"dec5:\",dec5.shape)\n",
    "            print(\"dec4:\",dec4.shape)\n",
    "            print(\"dec3:\",dec3.shape)\n",
    "            print(\"dec2:\",dec2.shape)\n",
    "            print(\"dec0:\",dec0.shape)\n",
    "            print(\"logits:\",logits.shape)\n",
    "        \n",
    "        return logits"
   ]
  },
  {
   "cell_type": "code",
   "execution_count": 21,
   "metadata": {
    "collapsed": true,
    "scrolled": false
   },
   "outputs": [],
   "source": [
    "# import time \n",
    "# since=time.time()\n",
    "\n",
    "# x=torch.randn(4,3,128,128).cuda()\n",
    "\n",
    "# model=UNetResNet(encoder_depth=34,num_classes=1,num_filters=32, dropout_2d_ration=0.5,pretrained=False)\n",
    "\n",
    "# model.cuda()\n",
    "\n",
    "\n",
    "# out=model(x)"
   ]
  },
  {
   "cell_type": "markdown",
   "metadata": {},
   "source": [
    "# 指标、loss"
   ]
  },
  {
   "cell_type": "code",
   "execution_count": 22,
   "metadata": {
    "collapsed": true
   },
   "outputs": [],
   "source": [
    "def get_iou_vector(A, B):\n",
    "    batch_size = A.shape[0]\n",
    "    metric = []\n",
    "    for batch in range(batch_size):\n",
    "        t, p = A[batch]>0, B[batch]>0  # 关键在于这儿\n",
    "        \n",
    "        intersection = np.logical_and(t, p)\n",
    "        union = np.logical_or(t, p)\n",
    "        iou = (np.sum(intersection > 0) + 1e-10 )/ (np.sum(union > 0) + 1e-10)\n",
    "        thresholds = np.arange(0.5, 1, 0.05)\n",
    "        s = []\n",
    "        for thresh in thresholds:\n",
    "            s.append(iou > thresh)\n",
    "        metric.append(np.mean(s))\n",
    "\n",
    "    return np.mean(metric)\n",
    "\n",
    "def my_iou_metric(label, pred): \n",
    "    # 假设label为torch.Tensor [bs,C,H,W] 通过label.detach().cpu().numpy()与计算图分离 pred也同样处理\n",
    "    return get_iou_vector(label, pred>0.5)\n",
    "\n",
    "def my_iou_metric_2(label, pred):\n",
    "    return get_iou_vector(label, pred >0)\n"
   ]
  },
  {
   "cell_type": "code",
   "execution_count": 23,
   "metadata": {
    "collapsed": true
   },
   "outputs": [],
   "source": [
    "# _label=(torch.randn(32,101,101,1)>0.5).numpy()\n",
    "# _logits=(torch.randn(32,101,101,1)>0.5).numpy()\n",
    "# my_iou_metric(_label,_logits)\n"
   ]
  },
  {
   "cell_type": "markdown",
   "metadata": {
    "collapsed": true
   },
   "source": [
    "# Train Stage"
   ]
  },
  {
   "cell_type": "code",
   "execution_count": 24,
   "metadata": {
    "collapsed": true
   },
   "outputs": [],
   "source": [
    "class ArgParser(object):\n",
    "    def __init__(self):\n",
    "        \n",
    "        self.MaxEpoch=100\n",
    "        self.LR_Policy=\"MultiStage\"\n",
    "        \n",
    "        self.n_gpus=1\n",
    "        \n",
    "        self.load_pretrained_model=False\n",
    "        self.pretarined_model_path=\"Results\"\n",
    "        \n",
    "        self.device=torch.device(\"cuda:0\" if torch.cuda.is_available() else \"cpu\")\n",
    "        \n",
    "        self.start_save_epoch=80\n",
    "        self.save_step=2"
   ]
  },
  {
   "cell_type": "code",
   "execution_count": 25,
   "metadata": {
    "collapsed": true
   },
   "outputs": [],
   "source": [
    "import time\n",
    "import shutil\n",
    "        \n",
    "def custom_weights_init(m):\n",
    "    pass \n",
    "\n",
    "def save_checkpoint(state, is_best, path,args):\n",
    "    torch.save(state, os.path.join(args.pretarined_model_path ,'MM_best.pt'))\n",
    "\n",
    "    \n",
    "def train(model,train_loader,optimizer,criterion,args,epoch,class_weights):\n",
    "    since=time.time()\n",
    "    model.train()\n",
    "    train_losses = []\n",
    "    \n",
    "    for batch_idx, (images, masks) in enumerate(train_loader):\n",
    "        \n",
    "        images, masks = images.to(args.device), masks.to(args.device)\n",
    "        images, masks = Variable(images), Variable(masks)\n",
    "        \n",
    "        logits = model(images)\n",
    "        \n",
    "        loss = criterion(logits, masks)\n",
    "        \n",
    "        train_losses.append(loss.data)\n",
    "        \n",
    "        #dice_loss = bioloss.dice_error(output, target)\n",
    "        optimizer.zero_grad()\n",
    "        loss.backward()\n",
    "        optimizer.step()\n",
    "            \n",
    "    now=time.time()\n",
    "    mean_loss=np.mean(train_losses)\n",
    "    print(\"Mean Train Loss:{},escaped time:{}\".format(mean_loss,now-since))\n",
    "    return mean_loss\n",
    "\n",
    "def test(model,test_loader,criterion,args,epoch,class_weights):\n",
    "    since=time.time()\n",
    "    model.eval()\n",
    "    test_losses = []\n",
    "    ious=[]\n",
    "    \n",
    "    for batch_idx, (images, masks) in enumerate(test_loader):\n",
    "        \n",
    "        images, masks = images.to(args.device), masks.to(args.device)\n",
    "        images, masks = Variable(images), Variable(masks)\n",
    "        \n",
    "        logits = model(images)\n",
    "        \n",
    "        loss= criterion(logits, masks)\n",
    "        \n",
    "        test_losses.append(loss.data)\n",
    "        \n",
    "        pred=torch.sigmoid(logits).detach().cpu().numpy()\n",
    "        iou_btach=my_iou_metric(masks.detach().cpu().numpy(), pred)\n",
    "        ious.append(iou_btach)\n",
    "        \n",
    "    now=time.time()\n",
    "    mean_loss=np.mean(test_losses)\n",
    "    mean_iou=np.mean(ious)\n",
    "    print(\"Mean Val Loss:{},Mean IOU:{}, escaped time:{}\".format(mean_loss,mean_iou,now-since))\n",
    "            \n",
    "    return mean_loss,mean_iou\n",
    "   \n",
    "train_losses_history=[]\n",
    "val_losses_history=[]\n",
    "\n",
    "def main():\n",
    "    \n",
    "    args=ArgParser()\n",
    "    \n",
    "    torch.cuda.manual_seed_all(4200)# 设置全局固定随机种子方便复现\n",
    "    np.random.seed(133700)\n",
    "    \n",
    "\n",
    "    model=UNetResNet(encoder_depth=34,num_classes=1,num_filters=32, dropout_2d_ration=0.5,pretrained=True)\n",
    "    \n",
    "#     gpu_ids=range(args.n_gpus)\n",
    "#     model=nn.parallel.DataParallel(model,device_ids=gpu_ids)\n",
    "    \n",
    "    if args.load_pretrained_model==True:\n",
    "        state=torch.load(args.pretarined_model_path)\n",
    "        model.load_state_dict(state)\n",
    "    else:\n",
    "        model.apply(custom_weights_init)    \n",
    "    \n",
    "    # deploy model to GPU or CPU\n",
    "    model.to(args.device)\n",
    "    \n",
    "    # -------------------------------------------------------------------------------- #\n",
    "    optimizer = torch.optim.Adam(model.parameters(), lr=0.01)\n",
    "    #optimizer = torch.optim.SGD(model.parameters(), lr=0.01, momentum=0.9, weight_decay=5e-4)\n",
    "    \n",
    "    scheduler = torch.optim.lr_scheduler.MultiStepLR(optimizer, milestones=[60,80], gamma=0.2)\n",
    "    \n",
    "    #criterion = nn.CrossEntropyLoss()\n",
    "    #criterion = nn.BCEWithLogitsLoss()\n",
    "    criterion=nn.MSELoss()\n",
    "    # -------------------------------------------------------------------------------- #\n",
    "    \n",
    "    \n",
    "    class_weights=[0.5,0.5] \n",
    "    \n",
    "    best_metric=-1  # 注意指标的大小与性能的关系\n",
    "    metirc_history=[]\n",
    "    for epoch in range(1,args.MaxEpoch):\n",
    "        \n",
    "        \n",
    "        mean_train_loss_=train(model,train_loader,optimizer,criterion,args,epoch,class_weights)\n",
    "        train_losses_history.append(mean_train_loss_)\n",
    "        \n",
    "        mean_val_loss_,mean_iou_=test(model,val_loader,criterion,args,epoch,class_weights)\n",
    "        val_losses_history.append(mean_val_loss_)\n",
    "        \n",
    "        if  epoch>=args.start_save_epoch :\n",
    "            if mean_iou_>best_metric:\n",
    "                best_metric=mean_iou_\n",
    "                is_best=True\n",
    "                save_checkpoint(model.state_dict(), is_best, args.pretarined_model_path,args)\n",
    "            else:\n",
    "                is_best=False\n",
    "                if epoch % args.save_step ==0:\n",
    "                    torch.save(model.state_dict(),\"Results/MM_{}.pt\".format(epoch))\n",
    "        scheduler.step()\n",
    "        \n",
    "    torch.save(model.state_dict(),\"Results/MM.pt\")\n",
    "    return model\n",
    "\n",
    "   \n",
    "    "
   ]
  },
  {
   "cell_type": "code",
   "execution_count": 29,
   "metadata": {
    "scrolled": false
   },
   "outputs": [
    {
     "name": "stderr",
     "output_type": "stream",
     "text": [
      "Downloading: \"https://download.pytorch.org/models/resnet34-333f7ec4.pth\" to /root/.torch/models/resnet34-333f7ec4.pth\n",
      "100%|██████████| 87306240/87306240 [00:06<00:00, 13668385.58it/s]\n"
     ]
    },
    {
     "name": "stdout",
     "output_type": "stream",
     "text": [
      "Mean Train Loss:0.5540709495544434,escaped time:54.08536505699158\n",
      "Mean Val Loss:0.7726391553878784,Mean IOU:0.38958333333333334, escaped time:1.2559618949890137\n",
      "Mean Train Loss:0.43623435497283936,escaped time:54.02131962776184\n",
      "Mean Val Loss:0.6051608324050903,Mean IOU:0.23854166666666668, escaped time:1.251237154006958\n",
      "Mean Train Loss:0.38836508989334106,escaped time:54.020124197006226\n",
      "Mean Val Loss:0.5621757507324219,Mean IOU:0.38958333333333334, escaped time:1.2512695789337158\n",
      "Mean Train Loss:0.3682606816291809,escaped time:54.02497887611389\n",
      "Mean Val Loss:0.31632718443870544,Mean IOU:0.5804166666666667, escaped time:1.2517454624176025\n",
      "Mean Train Loss:0.3340160846710205,escaped time:54.03168344497681\n",
      "Mean Val Loss:0.2828940153121948,Mean IOU:0.6058333333333333, escaped time:1.2516093254089355\n",
      "Mean Train Loss:0.3185363709926605,escaped time:54.0247642993927\n",
      "Mean Val Loss:0.4714888334274292,Mean IOU:0.42937499999999995, escaped time:1.251859188079834\n",
      "Mean Train Loss:0.30028781294822693,escaped time:54.02527165412903\n",
      "Mean Val Loss:0.2455773949623108,Mean IOU:0.6258333333333332, escaped time:1.2510836124420166\n",
      "Mean Train Loss:0.29367947578430176,escaped time:54.02703619003296\n",
      "Mean Val Loss:0.2590627074241638,Mean IOU:0.6304166666666667, escaped time:1.2507460117340088\n",
      "Mean Train Loss:0.2790226340293884,escaped time:54.019510984420776\n",
      "Mean Val Loss:0.37636563181877136,Mean IOU:0.5285416666666667, escaped time:1.2495582103729248\n",
      "Mean Train Loss:0.27840545773506165,escaped time:54.02228784561157\n",
      "Mean Val Loss:0.23577100038528442,Mean IOU:0.6233333333333333, escaped time:1.2506933212280273\n",
      "Mean Train Loss:0.2669675946235657,escaped time:54.02676200866699\n",
      "Mean Val Loss:0.2358911633491516,Mean IOU:0.6308333333333334, escaped time:1.2496497631072998\n",
      "Mean Train Loss:0.25923606753349304,escaped time:54.02334141731262\n",
      "Mean Val Loss:0.19753985106945038,Mean IOU:0.6627083333333333, escaped time:1.2484304904937744\n",
      "Mean Train Loss:0.25239408016204834,escaped time:54.02641487121582\n",
      "Mean Val Loss:0.19582022726535797,Mean IOU:0.65, escaped time:1.2499430179595947\n",
      "Mean Train Loss:0.24373094737529755,escaped time:58.79288172721863\n",
      "Mean Val Loss:0.27497056126594543,Mean IOU:0.534375, escaped time:1.253140926361084\n",
      "Mean Train Loss:0.2344416230916977,escaped time:54.05260872840881\n",
      "Mean Val Loss:0.20420828461647034,Mean IOU:0.6720833333333333, escaped time:1.252596378326416\n",
      "Mean Train Loss:0.24229122698307037,escaped time:54.04895257949829\n",
      "Mean Val Loss:0.17967139184474945,Mean IOU:0.6745833333333332, escaped time:1.2492053508758545\n",
      "Mean Train Loss:0.2298789918422699,escaped time:54.04609966278076\n",
      "Mean Val Loss:0.1769411712884903,Mean IOU:0.6802083333333333, escaped time:1.2502214908599854\n",
      "Mean Train Loss:0.22268687188625336,escaped time:54.04057741165161\n",
      "Mean Val Loss:0.17266981303691864,Mean IOU:0.6664583333333332, escaped time:1.2518947124481201\n",
      "Mean Train Loss:0.21539898216724396,escaped time:54.04276657104492\n",
      "Mean Val Loss:0.1745489537715912,Mean IOU:0.6772916666666667, escaped time:1.2499735355377197\n",
      "Mean Train Loss:0.21628765761852264,escaped time:54.03961205482483\n",
      "Mean Val Loss:0.17817333340644836,Mean IOU:0.688125, escaped time:1.2510852813720703\n",
      "Mean Train Loss:0.21281853318214417,escaped time:54.037471294403076\n",
      "Mean Val Loss:0.15978960692882538,Mean IOU:0.6964583333333334, escaped time:1.2503013610839844\n",
      "Mean Train Loss:0.21383056044578552,escaped time:54.04096794128418\n",
      "Mean Val Loss:0.15956030786037445,Mean IOU:0.6925000000000001, escaped time:1.250387191772461\n",
      "Mean Train Loss:0.2067897468805313,escaped time:54.03955054283142\n",
      "Mean Val Loss:0.15698400139808655,Mean IOU:0.7006249999999999, escaped time:1.2500579357147217\n",
      "Mean Train Loss:0.1958710104227066,escaped time:54.0321729183197\n",
      "Mean Val Loss:0.16957403719425201,Mean IOU:0.6991666666666667, escaped time:1.2505671977996826\n",
      "Mean Train Loss:0.19888165593147278,escaped time:54.03327012062073\n",
      "Mean Val Loss:0.17216788232326508,Mean IOU:0.6814583333333334, escaped time:1.2513220310211182\n",
      "Mean Train Loss:0.20139780640602112,escaped time:54.03866791725159\n",
      "Mean Val Loss:0.15031133592128754,Mean IOU:0.7089583333333334, escaped time:1.2495949268341064\n",
      "Mean Train Loss:0.19096733629703522,escaped time:54.03749990463257\n",
      "Mean Val Loss:0.18064281344413757,Mean IOU:0.6529166666666666, escaped time:1.2504031658172607\n",
      "Mean Train Loss:0.1864057034254074,escaped time:54.036667823791504\n",
      "Mean Val Loss:0.1928664743900299,Mean IOU:0.6575000000000001, escaped time:1.2492880821228027\n",
      "Mean Train Loss:0.18959131836891174,escaped time:54.0347158908844\n",
      "Mean Val Loss:0.16826696693897247,Mean IOU:0.7145833333333332, escaped time:1.2505662441253662\n",
      "Mean Train Loss:0.18504567444324493,escaped time:54.02831172943115\n",
      "Mean Val Loss:0.15819263458251953,Mean IOU:0.7133333333333333, escaped time:1.251605749130249\n",
      "Mean Train Loss:0.1831309199333191,escaped time:53.547821283340454\n",
      "Mean Val Loss:0.15769973397254944,Mean IOU:0.7133333333333333, escaped time:1.2496089935302734\n",
      "Mean Train Loss:0.18411965668201447,escaped time:53.99665594100952\n",
      "Mean Val Loss:0.1767435222864151,Mean IOU:0.6966666666666665, escaped time:1.2489030361175537\n",
      "Mean Train Loss:0.17891256511211395,escaped time:53.99392342567444\n",
      "Mean Val Loss:0.15472689270973206,Mean IOU:0.7124999999999999, escaped time:1.2498652935028076\n",
      "Mean Train Loss:0.17968054115772247,escaped time:53.9948205947876\n",
      "Mean Val Loss:0.16846182942390442,Mean IOU:0.6979166666666667, escaped time:1.2494351863861084\n",
      "Mean Train Loss:0.17297731339931488,escaped time:54.00355863571167\n",
      "Mean Val Loss:0.1632455736398697,Mean IOU:0.7056250000000001, escaped time:1.2496247291564941\n",
      "Mean Train Loss:0.1703338325023651,escaped time:53.99603867530823\n",
      "Mean Val Loss:0.14686398208141327,Mean IOU:0.7164583333333333, escaped time:1.2497053146362305\n",
      "Mean Train Loss:0.17666691541671753,escaped time:53.99321985244751\n",
      "Mean Val Loss:0.14901010692119598,Mean IOU:0.7100000000000001, escaped time:1.2495439052581787\n",
      "Mean Train Loss:0.1639014035463333,escaped time:53.99130964279175\n",
      "Mean Val Loss:0.15231920778751373,Mean IOU:0.7110416666666667, escaped time:1.2495458126068115\n",
      "Mean Train Loss:0.17516137659549713,escaped time:53.992810010910034\n",
      "Mean Val Loss:0.15785354375839233,Mean IOU:0.7135416666666666, escaped time:1.2501044273376465\n",
      "Mean Train Loss:0.16020824015140533,escaped time:53.99191427230835\n",
      "Mean Val Loss:0.15307192504405975,Mean IOU:0.7122916666666668, escaped time:1.2499909400939941\n",
      "Mean Train Loss:0.17042964696884155,escaped time:53.993608236312866\n",
      "Mean Val Loss:0.14447744190692902,Mean IOU:0.7210416666666667, escaped time:1.2498371601104736\n",
      "Mean Train Loss:0.15619777143001556,escaped time:53.991920471191406\n",
      "Mean Val Loss:0.16861926019191742,Mean IOU:0.7035416666666666, escaped time:1.248903512954712\n",
      "Mean Train Loss:0.15508109331130981,escaped time:53.99457287788391\n",
      "Mean Val Loss:0.14691422879695892,Mean IOU:0.7197916666666667, escaped time:1.250195026397705\n",
      "Mean Train Loss:0.1544504314661026,escaped time:53.99071168899536\n",
      "Mean Val Loss:0.15751387178897858,Mean IOU:0.7266666666666667, escaped time:1.2498960494995117\n",
      "Mean Train Loss:0.1600969135761261,escaped time:53.992786169052124\n",
      "Mean Val Loss:0.1549932211637497,Mean IOU:0.7222916666666666, escaped time:1.2485694885253906\n",
      "Mean Train Loss:0.1527092605829239,escaped time:53.98890733718872\n",
      "Mean Val Loss:0.15781711041927338,Mean IOU:0.73125, escaped time:1.2488245964050293\n",
      "Mean Train Loss:0.15407319366931915,escaped time:53.99318480491638\n",
      "Mean Val Loss:0.14953915774822235,Mean IOU:0.7354166666666668, escaped time:1.2493104934692383\n",
      "Mean Train Loss:0.14474569261074066,escaped time:53.99373173713684\n",
      "Mean Val Loss:0.16938500106334686,Mean IOU:0.7339583333333334, escaped time:1.250058889389038\n",
      "Mean Train Loss:0.15244752168655396,escaped time:53.99789643287659\n",
      "Mean Val Loss:0.16493965685367584,Mean IOU:0.7133333333333332, escaped time:1.2500052452087402\n",
      "Mean Train Loss:0.14717575907707214,escaped time:53.99268960952759\n",
      "Mean Val Loss:0.1527937352657318,Mean IOU:0.7158333333333334, escaped time:1.250504970550537\n",
      "Mean Train Loss:0.14622536301612854,escaped time:53.993393898010254\n",
      "Mean Val Loss:0.14222761988639832,Mean IOU:0.7427083333333334, escaped time:1.2492990493774414\n",
      "Mean Train Loss:0.13837271928787231,escaped time:53.99429535865784\n"
     ]
    },
    {
     "name": "stdout",
     "output_type": "stream",
     "text": [
      "Mean Val Loss:0.16647934913635254,Mean IOU:0.7345833333333334, escaped time:1.2502100467681885\n",
      "Mean Train Loss:0.13984285295009613,escaped time:53.9946506023407\n",
      "Mean Val Loss:0.1375289112329483,Mean IOU:0.7454166666666667, escaped time:1.249680995941162\n",
      "Mean Train Loss:0.14108605682849884,escaped time:53.99669122695923\n",
      "Mean Val Loss:0.14173589646816254,Mean IOU:0.7395833333333334, escaped time:1.2501304149627686\n",
      "Mean Train Loss:0.13556349277496338,escaped time:53.9932165145874\n",
      "Mean Val Loss:0.1612665057182312,Mean IOU:0.7075, escaped time:1.2493062019348145\n",
      "Mean Train Loss:0.14074432849884033,escaped time:53.993431091308594\n",
      "Mean Val Loss:0.18343286216259003,Mean IOU:0.7254166666666666, escaped time:1.248948574066162\n",
      "Mean Train Loss:0.1342318058013916,escaped time:53.99168133735657\n",
      "Mean Val Loss:0.14576439559459686,Mean IOU:0.7333333333333332, escaped time:1.2491700649261475\n",
      "Mean Train Loss:0.12992465496063232,escaped time:53.995802879333496\n",
      "Mean Val Loss:0.14127740263938904,Mean IOU:0.7316666666666669, escaped time:1.249760389328003\n",
      "Mean Train Loss:0.1343461275100708,escaped time:53.99208307266235\n",
      "Mean Val Loss:0.1805286407470703,Mean IOU:0.7018749999999999, escaped time:1.2486705780029297\n",
      "Mean Train Loss:0.1288178563117981,escaped time:53.99321508407593\n",
      "Mean Val Loss:0.16209833323955536,Mean IOU:0.7291666666666666, escaped time:1.2490713596343994\n",
      "Mean Train Loss:0.1273878514766693,escaped time:53.99721050262451\n",
      "Mean Val Loss:0.16983671486377716,Mean IOU:0.7102083333333333, escaped time:1.250086784362793\n",
      "Mean Train Loss:0.10928010940551758,escaped time:53.993162393569946\n",
      "Mean Val Loss:0.14827172458171844,Mean IOU:0.750625, escaped time:1.249584674835205\n",
      "Mean Train Loss:0.1018659770488739,escaped time:54.00089383125305\n",
      "Mean Val Loss:0.1573040783405304,Mean IOU:0.754375, escaped time:1.249558687210083\n",
      "Mean Train Loss:0.09588274359703064,escaped time:53.98824644088745\n",
      "Mean Val Loss:0.16236774623394012,Mean IOU:0.7533333333333334, escaped time:1.2483036518096924\n",
      "Mean Train Loss:0.09366657584905624,escaped time:53.9950909614563\n",
      "Mean Val Loss:0.1583521068096161,Mean IOU:0.7531250000000002, escaped time:1.2502458095550537\n",
      "Mean Train Loss:0.09389252960681915,escaped time:53.98606991767883\n",
      "Mean Val Loss:0.15989698469638824,Mean IOU:0.7441666666666668, escaped time:1.248579978942871\n",
      "Mean Train Loss:0.09193607419729233,escaped time:53.99028277397156\n",
      "Mean Val Loss:0.16126157343387604,Mean IOU:0.7624999999999998, escaped time:1.2484362125396729\n",
      "Mean Train Loss:0.08882434666156769,escaped time:53.99199891090393\n",
      "Mean Val Loss:0.16556255519390106,Mean IOU:0.7581249999999998, escaped time:1.2497355937957764\n",
      "Mean Train Loss:0.08853708952665329,escaped time:53.99450349807739\n",
      "Mean Val Loss:0.16337087750434875,Mean IOU:0.7552083333333334, escaped time:1.2505578994750977\n",
      "Mean Train Loss:0.08418674767017365,escaped time:53.98927688598633\n",
      "Mean Val Loss:0.18506579101085663,Mean IOU:0.7585416666666667, escaped time:1.2485392093658447\n",
      "Mean Train Loss:0.08420483767986298,escaped time:53.9950156211853\n",
      "Mean Val Loss:0.17349503934383392,Mean IOU:0.7427083333333333, escaped time:1.249333143234253\n",
      "Mean Train Loss:0.08172591030597687,escaped time:53.99382734298706\n",
      "Mean Val Loss:0.18165431916713715,Mean IOU:0.7420833333333333, escaped time:1.2501866817474365\n",
      "Mean Train Loss:0.08130761235952377,escaped time:53.991896629333496\n",
      "Mean Val Loss:0.1751256287097931,Mean IOU:0.7520833333333333, escaped time:1.2493984699249268\n",
      "Mean Train Loss:0.08279770612716675,escaped time:53.99316453933716\n",
      "Mean Val Loss:0.16201284527778625,Mean IOU:0.7495833333333335, escaped time:1.2492148876190186\n",
      "Mean Train Loss:0.08137410134077072,escaped time:53.99519371986389\n",
      "Mean Val Loss:0.18375660479068756,Mean IOU:0.7308333333333333, escaped time:1.248816967010498\n",
      "Mean Train Loss:0.0792095810174942,escaped time:53.99450874328613\n",
      "Mean Val Loss:0.1763026863336563,Mean IOU:0.7572916666666667, escaped time:1.2496535778045654\n",
      "Mean Train Loss:0.07780354470014572,escaped time:53.98979830741882\n",
      "Mean Val Loss:0.18397685885429382,Mean IOU:0.7435416666666667, escaped time:1.2506322860717773\n",
      "Mean Train Loss:0.07808338850736618,escaped time:53.994508266448975\n",
      "Mean Val Loss:0.1855776607990265,Mean IOU:0.7589583333333334, escaped time:1.2497780323028564\n",
      "Mean Train Loss:0.07533860951662064,escaped time:53.99414014816284\n",
      "Mean Val Loss:0.16903847455978394,Mean IOU:0.7627083333333332, escaped time:1.2492930889129639\n",
      "Mean Train Loss:0.07626578956842422,escaped time:53.98732089996338\n",
      "Mean Val Loss:0.18436406552791595,Mean IOU:0.7535416666666668, escaped time:1.2500710487365723\n",
      "Mean Train Loss:0.07429144531488419,escaped time:53.99082660675049\n",
      "Mean Val Loss:0.19277122616767883,Mean IOU:0.7489583333333332, escaped time:1.2487714290618896\n",
      "Mean Train Loss:0.07455118000507355,escaped time:53.994091272354126\n",
      "Mean Val Loss:0.18079118430614471,Mean IOU:0.7560416666666667, escaped time:1.248382568359375\n",
      "Mean Train Loss:0.07172612100839615,escaped time:53.99499225616455\n",
      "Mean Val Loss:0.18725696206092834,Mean IOU:0.7585416666666668, escaped time:1.2492139339447021\n",
      "Mean Train Loss:0.0694475769996643,escaped time:53.988917112350464\n",
      "Mean Val Loss:0.1884649097919464,Mean IOU:0.7502083333333333, escaped time:1.249981164932251\n",
      "Mean Train Loss:0.06942305713891983,escaped time:53.993584871292114\n",
      "Mean Val Loss:0.17932894825935364,Mean IOU:0.7572916666666667, escaped time:1.249528408050537\n",
      "Mean Train Loss:0.07009261846542358,escaped time:53.9889030456543\n",
      "Mean Val Loss:0.18726730346679688,Mean IOU:0.7464583333333332, escaped time:1.2492356300354004\n",
      "Mean Train Loss:0.0678582563996315,escaped time:53.993056297302246\n",
      "Mean Val Loss:0.18935523927211761,Mean IOU:0.751875, escaped time:1.2491636276245117\n",
      "Mean Train Loss:0.06840715557336807,escaped time:53.992758989334106\n",
      "Mean Val Loss:0.18416354060173035,Mean IOU:0.7518749999999998, escaped time:1.2494456768035889\n",
      "Mean Train Loss:0.06970344483852386,escaped time:53.99179482460022\n",
      "Mean Val Loss:0.18719561398029327,Mean IOU:0.7520833333333332, escaped time:1.2487149238586426\n",
      "Mean Train Loss:0.07025416195392609,escaped time:53.99276566505432\n",
      "Mean Val Loss:0.18274100124835968,Mean IOU:0.7508333333333331, escaped time:1.2500474452972412\n",
      "Mean Train Loss:0.06879446655511856,escaped time:53.998114585876465\n",
      "Mean Val Loss:0.1737624853849411,Mean IOU:0.7568749999999999, escaped time:1.2494056224822998\n",
      "Mean Train Loss:0.06877940893173218,escaped time:53.995229959487915\n",
      "Mean Val Loss:0.19103701412677765,Mean IOU:0.7535416666666667, escaped time:1.2487506866455078\n",
      "Mean Train Loss:0.070625901222229,escaped time:53.99629759788513\n",
      "Mean Val Loss:0.19070786237716675,Mean IOU:0.7443750000000001, escaped time:1.2483327388763428\n",
      "Mean Train Loss:0.06877501308917999,escaped time:53.98772120475769\n",
      "Mean Val Loss:0.19036081433296204,Mean IOU:0.7531249999999999, escaped time:1.2491626739501953\n",
      "Mean Train Loss:0.06678507477045059,escaped time:53.98933744430542\n",
      "Mean Val Loss:0.1953945904970169,Mean IOU:0.7516666666666667, escaped time:1.2486205101013184\n",
      "Mean Train Loss:0.06877050548791885,escaped time:53.994402170181274\n",
      "Mean Val Loss:0.18649621307849884,Mean IOU:0.7497916666666666, escaped time:1.248974323272705\n",
      "Mean Train Loss:0.06522128731012344,escaped time:53.99498462677002\n",
      "Mean Val Loss:0.19757071137428284,Mean IOU:0.7431249999999998, escaped time:1.2499170303344727\n",
      "Mean Train Loss:0.0686265379190445,escaped time:53.997020959854126\n",
      "Mean Val Loss:0.18346504867076874,Mean IOU:0.7483333333333333, escaped time:1.2494335174560547\n",
      "Mean Train Loss:0.06746122986078262,escaped time:53.992942571640015\n",
      "Mean Val Loss:0.18967176973819733,Mean IOU:0.7495833333333335, escaped time:1.2490043640136719\n"
     ]
    }
   ],
   "source": [
    "model=main() # 模型运行时间和申请到的GPU新旧有关 第一次运行一个epoch只需要21s "
   ]
  },
  {
   "cell_type": "code",
   "execution_count": null,
   "metadata": {
    "collapsed": true
   },
   "outputs": [],
   "source": []
  },
  {
   "cell_type": "code",
   "execution_count": null,
   "metadata": {
    "collapsed": true
   },
   "outputs": [],
   "source": []
  },
  {
   "cell_type": "code",
   "execution_count": null,
   "metadata": {
    "collapsed": true
   },
   "outputs": [],
   "source": []
  },
  {
   "cell_type": "code",
   "execution_count": null,
   "metadata": {
    "collapsed": true
   },
   "outputs": [],
   "source": []
  }
 ],
 "metadata": {
  "kernelspec": {
   "display_name": "Python 3",
   "language": "python",
   "name": "python3"
  },
  "language_info": {
   "codemirror_mode": {
    "name": "ipython",
    "version": 3
   },
   "file_extension": ".py",
   "mimetype": "text/x-python",
   "name": "python",
   "nbconvert_exporter": "python",
   "pygments_lexer": "ipython3",
   "version": "3.6.2"
  }
 },
 "nbformat": 4,
 "nbformat_minor": 2
}
