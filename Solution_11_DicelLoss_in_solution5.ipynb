{
 "cells": [
  {
   "cell_type": "code",
   "execution_count": 1,
   "metadata": {},
   "outputs": [
    {
     "name": "stderr",
     "output_type": "stream",
     "text": [
      "/mnt/ml/anaconda35/lib/python3.6/site-packages/h5py/__init__.py:36: FutureWarning: Conversion of the second argument of issubdtype from `float` to `np.floating` is deprecated. In future, it will be treated as `np.float64 == np.dtype(float).type`.\n",
      "  from ._conv import register_converters as _register_converters\n",
      "Using TensorFlow backend.\n"
     ]
    }
   ],
   "source": [
    "import os\n",
    "import sys\n",
    "import random\n",
    "\n",
    "import pandas as pd\n",
    "import numpy as np\n",
    "import matplotlib.pyplot as plt\n",
    "plt.style.use('seaborn-white')\n",
    "import seaborn as sns\n",
    "sns.set_style(\"white\")\n",
    "\n",
    "%matplotlib inline\n",
    "\n",
    "# import cv2\n",
    "from sklearn.model_selection import train_test_split  # 分层分割数据集超方便的\n",
    "\n",
    "from tqdm import tqdm_notebook, tnrange\n",
    "from itertools import chain\n",
    "from skimage.io import imread, imshow, concatenate_images\n",
    "from skimage.transform import resize\n",
    "from skimage.morphology import label\n",
    "\n",
    "from keras.preprocessing.image import load_img"
   ]
  },
  {
   "cell_type": "code",
   "execution_count": 2,
   "metadata": {},
   "outputs": [
    {
     "name": "stdout",
     "output_type": "stream",
     "text": [
      "Training imgs path: train/images/\n",
      "Masks of training imgs path: train/masks/\n",
      "Test imgs path: test/images/\n"
     ]
    }
   ],
   "source": [
    "# Set some parameters\n",
    "im_width = 101\n",
    "im_height = 101\n",
    "im_chan = 1\n",
    "\n",
    "basicpath = ''\n",
    "path_train = basicpath + 'train/'\n",
    "path_test = basicpath + 'test/'\n",
    "\n",
    "path_train_images = path_train + 'images/'\n",
    "path_train_masks = path_train + 'masks/'\n",
    "path_test_images = path_test + 'images/'\n",
    "\n",
    "print(\"Training imgs path:\",path_train_images)\n",
    "print(\"Masks of training imgs path:\",path_train_masks)\n",
    "print(\"Test imgs path:\",path_test_images)\n"
   ]
  },
  {
   "cell_type": "code",
   "execution_count": 3,
   "metadata": {
    "collapsed": true
   },
   "outputs": [],
   "source": [
    "img_size_ori = 101\n",
    "img_size_target = 101\n",
    "\n",
    "def upsample(img):# not used\n",
    "    if img_size_ori == img_size_target:\n",
    "        return img\n",
    "    return resize(img, (img_size_target, img_size_target), mode='constant', preserve_range=True)\n",
    "    #res = np.zeros((img_size_target, img_size_target), dtype=img.dtype)\n",
    "    #res[:img_size_ori, :img_size_ori] = img\n",
    "    #return res\n",
    "    \n",
    "def downsample(img):# not used\n",
    "    if img_size_ori == img_size_target:\n",
    "        return img\n",
    "    return resize(img, (img_size_ori, img_size_ori), mode='constant', preserve_range=True)\n",
    "    #return img[:img_size_ori, :img_size_ori]"
   ]
  },
  {
   "cell_type": "code",
   "execution_count": 4,
   "metadata": {},
   "outputs": [
    {
     "name": "stdout",
     "output_type": "stream",
     "text": [
      "number of train： 4000\n",
      "              z\n",
      "id             \n",
      "575d24d81d  843\n",
      "a266a2a9df  794\n",
      "75efad62c1  468\n",
      "34e51dba6a  727\n",
      "4875705fb0  797\n",
      "              z\n",
      "id             \n",
      "4ac19fb269  306\n",
      "1825fadf99  157\n",
      "f59821d067  305\n",
      "5b435fad9d  503\n",
      "e340e7bfca  783\n"
     ]
    },
    {
     "data": {
      "text/html": [
       "<div>\n",
       "<style>\n",
       "    .dataframe thead tr:only-child th {\n",
       "        text-align: right;\n",
       "    }\n",
       "\n",
       "    .dataframe thead th {\n",
       "        text-align: left;\n",
       "    }\n",
       "\n",
       "    .dataframe tbody tr th {\n",
       "        vertical-align: top;\n",
       "    }\n",
       "</style>\n",
       "<table border=\"1\" class=\"dataframe\">\n",
       "  <thead>\n",
       "    <tr style=\"text-align: right;\">\n",
       "      <th></th>\n",
       "      <th>z</th>\n",
       "    </tr>\n",
       "    <tr>\n",
       "      <th>id</th>\n",
       "      <th></th>\n",
       "    </tr>\n",
       "  </thead>\n",
       "  <tbody>\n",
       "    <tr>\n",
       "      <th>353e010b7b</th>\n",
       "      <td>264</td>\n",
       "    </tr>\n",
       "    <tr>\n",
       "      <th>5439dbbddf</th>\n",
       "      <td>557</td>\n",
       "    </tr>\n",
       "    <tr>\n",
       "      <th>71bab9f311</th>\n",
       "      <td>846</td>\n",
       "    </tr>\n",
       "    <tr>\n",
       "      <th>52551f7a80</th>\n",
       "      <td>610</td>\n",
       "    </tr>\n",
       "    <tr>\n",
       "      <th>512d8d9997</th>\n",
       "      <td>577</td>\n",
       "    </tr>\n",
       "  </tbody>\n",
       "</table>\n",
       "</div>"
      ],
      "text/plain": [
       "              z\n",
       "id             \n",
       "353e010b7b  264\n",
       "5439dbbddf  557\n",
       "71bab9f311  846\n",
       "52551f7a80  610\n",
       "512d8d9997  577"
      ]
     },
     "execution_count": 4,
     "metadata": {},
     "output_type": "execute_result"
    }
   ],
   "source": [
    "# Loading of training/testing ids and depths\n",
    "\n",
    "train_df = pd.read_csv(basicpath+\"train.csv\", index_col=\"id\", usecols=[0])\n",
    "depths_df = pd.read_csv(basicpath+\"depths.csv\", index_col=\"id\")\n",
    "train_df = train_df.join(depths_df) # 每个id链接上相应的深度\n",
    "test_df = depths_df[~depths_df.index.isin(train_df.index)]\n",
    "\n",
    "print(\"number of train：\",len(train_df))\n",
    "print(train_df.head(5))\n",
    "print(depths_df.head(5))\n",
    "test_df.head(5)"
   ]
  },
  {
   "cell_type": "code",
   "execution_count": 5,
   "metadata": {},
   "outputs": [
    {
     "data": {
      "application/vnd.jupyter.widget-view+json": {
       "model_id": "dba1cc804f6841679408168a6f24908f",
       "version_major": 2,
       "version_minor": 0
      },
      "text/plain": [
       "A Jupyter Widget"
      ]
     },
     "metadata": {},
     "output_type": "display_data"
    },
    {
     "name": "stdout",
     "output_type": "stream",
     "text": [
      "\n"
     ]
    },
    {
     "data": {
      "application/vnd.jupyter.widget-view+json": {
       "model_id": "23aefb308fbd47b78e3118dba09e0a43",
       "version_major": 2,
       "version_minor": 0
      },
      "text/plain": [
       "A Jupyter Widget"
      ]
     },
     "metadata": {},
     "output_type": "display_data"
    },
    {
     "name": "stdout",
     "output_type": "stream",
     "text": [
      "\n"
     ]
    }
   ],
   "source": [
    "train_df[\"images\"] = [np.array(load_img(basicpath+\"train/images/{}.png\".format(idx), color_mode=\"grayscale\")) / 255\n",
    "                              for idx in tqdm_notebook(train_df.index)]\n",
    "\n",
    "train_df[\"masks\"] = [np.array(load_img(basicpath+\"train/masks/{}.png\".format(idx),color_mode=\"grayscale\"))/ 255  \n",
    "                              for idx in tqdm_notebook(train_df.index)]"
   ]
  },
  {
   "cell_type": "code",
   "execution_count": 6,
   "metadata": {
    "collapsed": true
   },
   "outputs": [],
   "source": [
    "train_df[\"coverage\"] = train_df.masks.map(np.sum) / pow(img_size_ori, 2)\n",
    "\n",
    "def cov_to_class(val):    \n",
    "    for i in range(0, 31):\n",
    "        if val * 30 <= i :\n",
    "            return i\n",
    "        \n",
    "train_df[\"coverage_class\"] = train_df.coverage.map(cov_to_class)\n"
   ]
  },
  {
   "cell_type": "code",
   "execution_count": 7,
   "metadata": {},
   "outputs": [
    {
     "name": "stderr",
     "output_type": "stream",
     "text": [
      "/mnt/ml/anaconda35/lib/python3.6/site-packages/matplotlib/axes/_axes.py:6462: UserWarning: The 'normed' kwarg is deprecated, and has been replaced by the 'density' kwarg.\n",
      "  warnings.warn(\"The 'normed' kwarg is deprecated, and has been \"\n"
     ]
    },
    {
     "data": {
      "text/plain": [
       "Text(0.5,0,'Coverage class')"
      ]
     },
     "execution_count": 7,
     "metadata": {},
     "output_type": "execute_result"
    },
    {
     "data": {
      "image/png": "[encoded data removed]",
      "text/plain": [
       "<Figure size 1080x360 with 2 Axes>"
      ]
     },
     "metadata": {},
     "output_type": "display_data"
    }
   ],
   "source": [
    "fig, axs = plt.subplots(1, 2, figsize=(15,5))\n",
    "sns.distplot(train_df.coverage, kde=False, ax=axs[0])\n",
    "sns.distplot(train_df.coverage_class, bins=20, kde=False, ax=axs[1])\n",
    "plt.suptitle(\"Salt coverage\")\n",
    "axs[0].set_xlabel(\"Coverage\")\n",
    "axs[1].set_xlabel(\"Coverage class\")"
   ]
  },
  {
   "cell_type": "code",
   "execution_count": 8,
   "metadata": {},
   "outputs": [
    {
     "name": "stderr",
     "output_type": "stream",
     "text": [
      "/mnt/ml/anaconda35/lib/python3.6/site-packages/matplotlib/axes/_axes.py:6462: UserWarning: The 'normed' kwarg is deprecated, and has been replaced by the 'density' kwarg.\n",
      "  warnings.warn(\"The 'normed' kwarg is deprecated, and has been \"\n"
     ]
    },
    {
     "data": {
      "text/plain": [
       "Text(0.5,1,'Depth distribution')"
      ]
     },
     "execution_count": 8,
     "metadata": {},
     "output_type": "execute_result"
    },
    {
     "data": {
      "image/png": "[encoded data removed]",
      "text/plain": [
       "<Figure size 432x288 with 1 Axes>"
      ]
     },
     "metadata": {},
     "output_type": "display_data"
    }
   ],
   "source": [
    "#Plotting the depth distributions¶\n",
    "\n",
    "sns.distplot(train_df.z, label=\"Train\")\n",
    "sns.distplot(test_df.z, label=\"Test\")\n",
    "plt.legend()\n",
    "plt.title(\"Depth distribution\")"
   ]
  },
  {
   "cell_type": "code",
   "execution_count": 9,
   "metadata": {},
   "outputs": [
    {
     "data": {
      "text/html": [
       "<div>\n",
       "<style>\n",
       "    .dataframe thead tr:only-child th {\n",
       "        text-align: right;\n",
       "    }\n",
       "\n",
       "    .dataframe thead th {\n",
       "        text-align: left;\n",
       "    }\n",
       "\n",
       "    .dataframe tbody tr th {\n",
       "        vertical-align: top;\n",
       "    }\n",
       "</style>\n",
       "<table border=\"1\" class=\"dataframe\">\n",
       "  <thead>\n",
       "    <tr style=\"text-align: right;\">\n",
       "      <th></th>\n",
       "      <th>z</th>\n",
       "      <th>images</th>\n",
       "      <th>masks</th>\n",
       "      <th>coverage</th>\n",
       "      <th>coverage_class</th>\n",
       "    </tr>\n",
       "    <tr>\n",
       "      <th>id</th>\n",
       "      <th></th>\n",
       "      <th></th>\n",
       "      <th></th>\n",
       "      <th></th>\n",
       "      <th></th>\n",
       "    </tr>\n",
       "  </thead>\n",
       "  <tbody>\n",
       "    <tr>\n",
       "      <th>575d24d81d</th>\n",
       "      <td>843</td>\n",
       "      <td>[[0.5254901960784314, 0.5137254901960784, 0.52...</td>\n",
       "      <td>[[0.0, 0.0, 0.0, 0.0, 0.0, 0.0, 0.0, 0.0, 0.0,...</td>\n",
       "      <td>0.000000</td>\n",
       "      <td>0</td>\n",
       "    </tr>\n",
       "    <tr>\n",
       "      <th>a266a2a9df</th>\n",
       "      <td>794</td>\n",
       "      <td>[[0.3411764705882353, 0.3764705882352941, 0.33...</td>\n",
       "      <td>[[0.0, 0.0, 0.0, 0.0, 0.0, 0.0, 0.0, 0.0, 0.0,...</td>\n",
       "      <td>0.504950</td>\n",
       "      <td>16</td>\n",
       "    </tr>\n",
       "    <tr>\n",
       "      <th>75efad62c1</th>\n",
       "      <td>468</td>\n",
       "      <td>[[0.5686274509803921, 0.4666666666666667, 0.32...</td>\n",
       "      <td>[[0.0, 0.0, 0.0, 0.0, 0.0, 0.0, 0.0, 0.0, 0.0,...</td>\n",
       "      <td>0.993334</td>\n",
       "      <td>30</td>\n",
       "    </tr>\n",
       "    <tr>\n",
       "      <th>34e51dba6a</th>\n",
       "      <td>727</td>\n",
       "      <td>[[0.5411764705882353, 0.4745098039215686, 0.39...</td>\n",
       "      <td>[[0.0, 0.0, 0.0, 0.0, 0.0, 0.0, 0.0, 0.0, 0.0,...</td>\n",
       "      <td>0.149201</td>\n",
       "      <td>5</td>\n",
       "    </tr>\n",
       "    <tr>\n",
       "      <th>4875705fb0</th>\n",
       "      <td>797</td>\n",
       "      <td>[[0.06666666666666667, 0.0784313725490196, 0.0...</td>\n",
       "      <td>[[0.0, 0.0, 0.0, 0.0, 0.0, 0.0, 0.0, 0.0, 0.0,...</td>\n",
       "      <td>0.042839</td>\n",
       "      <td>2</td>\n",
       "    </tr>\n",
       "    <tr>\n",
       "      <th>782ae9b7e7</th>\n",
       "      <td>677</td>\n",
       "      <td>[[0.6078431372549019, 0.6196078431372549, 0.61...</td>\n",
       "      <td>[[1.0, 1.0, 1.0, 1.0, 1.0, 1.0, 1.0, 1.0, 1.0,...</td>\n",
       "      <td>0.225370</td>\n",
       "      <td>7</td>\n",
       "    </tr>\n",
       "    <tr>\n",
       "      <th>9842f69f8d</th>\n",
       "      <td>907</td>\n",
       "      <td>[[0.4392156862745098, 0.4117647058823529, 0.4,...</td>\n",
       "      <td>[[0.0, 0.0, 0.0, 0.0, 0.0, 0.0, 0.0, 0.0, 0.0,...</td>\n",
       "      <td>0.000000</td>\n",
       "      <td>0</td>\n",
       "    </tr>\n",
       "    <tr>\n",
       "      <th>aa94cfb806</th>\n",
       "      <td>754</td>\n",
       "      <td>[[0.5058823529411764, 0.49019607843137253, 0.4...</td>\n",
       "      <td>[[1.0, 1.0, 1.0, 1.0, 1.0, 1.0, 1.0, 1.0, 1.0,...</td>\n",
       "      <td>0.665817</td>\n",
       "      <td>20</td>\n",
       "    </tr>\n",
       "    <tr>\n",
       "      <th>50d3073821</th>\n",
       "      <td>810</td>\n",
       "      <td>[[0.4666666666666667, 0.5333333333333333, 0.41...</td>\n",
       "      <td>[[1.0, 1.0, 1.0, 1.0, 1.0, 1.0, 1.0, 1.0, 1.0,...</td>\n",
       "      <td>0.297030</td>\n",
       "      <td>9</td>\n",
       "    </tr>\n",
       "    <tr>\n",
       "      <th>28f865caaa</th>\n",
       "      <td>147</td>\n",
       "      <td>[[0.43137254901960786, 0.4392156862745098, 0.4...</td>\n",
       "      <td>[[0.0, 0.0, 0.0, 0.0, 0.0, 0.0, 0.0, 0.0, 0.0,...</td>\n",
       "      <td>0.000000</td>\n",
       "      <td>0</td>\n",
       "    </tr>\n",
       "    <tr>\n",
       "      <th>b5e1371b3b</th>\n",
       "      <td>325</td>\n",
       "      <td>[[0.4117647058823529, 0.4196078431372549, 0.43...</td>\n",
       "      <td>[[0.0, 0.0, 0.0, 0.0, 0.0, 0.0, 0.0, 0.0, 0.0,...</td>\n",
       "      <td>0.740908</td>\n",
       "      <td>23</td>\n",
       "    </tr>\n",
       "    <tr>\n",
       "      <th>57e394bc67</th>\n",
       "      <td>765</td>\n",
       "      <td>[[0.4, 0.396078431372549, 0.4, 0.4431372549019...</td>\n",
       "      <td>[[0.0, 0.0, 0.0, 0.0, 0.0, 0.0, 0.0, 0.0, 0.0,...</td>\n",
       "      <td>0.000000</td>\n",
       "      <td>0</td>\n",
       "    </tr>\n",
       "    <tr>\n",
       "      <th>b45ad3932e</th>\n",
       "      <td>613</td>\n",
       "      <td>[[0.43137254901960786, 0.4117647058823529, 0.4...</td>\n",
       "      <td>[[0.0, 0.0, 0.0, 0.0, 0.0, 0.0, 0.0, 0.0, 0.0,...</td>\n",
       "      <td>0.283698</td>\n",
       "      <td>9</td>\n",
       "    </tr>\n",
       "    <tr>\n",
       "      <th>ef51bbcde7</th>\n",
       "      <td>712</td>\n",
       "      <td>[[0.4, 0.396078431372549, 0.38823529411764707,...</td>\n",
       "      <td>[[0.0, 0.0, 0.0, 0.0, 0.0, 0.0, 0.0, 0.0, 0.0,...</td>\n",
       "      <td>0.000000</td>\n",
       "      <td>0</td>\n",
       "    </tr>\n",
       "    <tr>\n",
       "      <th>d4d34af4f7</th>\n",
       "      <td>114</td>\n",
       "      <td>[[0.3607843137254902, 0.3843137254901961, 0.42...</td>\n",
       "      <td>[[0.0, 0.0, 0.0, 0.0, 0.0, 0.0, 0.0, 0.0, 0.0,...</td>\n",
       "      <td>0.138614</td>\n",
       "      <td>5</td>\n",
       "    </tr>\n",
       "    <tr>\n",
       "      <th>302ea1ac81</th>\n",
       "      <td>470</td>\n",
       "      <td>[[0.18823529411764706, 0.1843137254901961, 0.1...</td>\n",
       "      <td>[[0.0, 0.0, 0.0, 0.0, 0.0, 0.0, 0.0, 0.0, 0.0,...</td>\n",
       "      <td>0.525047</td>\n",
       "      <td>16</td>\n",
       "    </tr>\n",
       "    <tr>\n",
       "      <th>40dcff68b3</th>\n",
       "      <td>707</td>\n",
       "      <td>[[0.44313725490196076, 0.4235294117647059, 0.3...</td>\n",
       "      <td>[[0.0, 0.0, 0.0, 0.0, 0.0, 0.0, 0.0, 0.0, 0.0,...</td>\n",
       "      <td>0.620233</td>\n",
       "      <td>19</td>\n",
       "    </tr>\n",
       "    <tr>\n",
       "      <th>7845115d01</th>\n",
       "      <td>343</td>\n",
       "      <td>[[0.4, 0.4117647058823529, 0.42745098039215684...</td>\n",
       "      <td>[[0.0, 0.0, 0.0, 0.0, 0.0, 0.0, 0.0, 0.0, 0.0,...</td>\n",
       "      <td>0.247525</td>\n",
       "      <td>8</td>\n",
       "    </tr>\n",
       "    <tr>\n",
       "      <th>3da729cae9</th>\n",
       "      <td>707</td>\n",
       "      <td>[[0.6823529411764706, 0.6745098039215687, 0.65...</td>\n",
       "      <td>[[1.0, 1.0, 1.0, 1.0, 1.0, 1.0, 1.0, 1.0, 1.0,...</td>\n",
       "      <td>0.126164</td>\n",
       "      <td>4</td>\n",
       "    </tr>\n",
       "    <tr>\n",
       "      <th>d67e3a11d8</th>\n",
       "      <td>585</td>\n",
       "      <td>[[0.5176470588235295, 0.5725490196078431, 0.50...</td>\n",
       "      <td>[[0.0, 0.0, 0.0, 0.0, 0.0, 0.0, 0.0, 0.0, 0.0,...</td>\n",
       "      <td>0.000000</td>\n",
       "      <td>0</td>\n",
       "    </tr>\n",
       "  </tbody>\n",
       "</table>\n",
       "</div>"
      ],
      "text/plain": [
       "              z                                             images  \\\n",
       "id                                                                   \n",
       "575d24d81d  843  [[0.5254901960784314, 0.5137254901960784, 0.52...   \n",
       "a266a2a9df  794  [[0.3411764705882353, 0.3764705882352941, 0.33...   \n",
       "75efad62c1  468  [[0.5686274509803921, 0.4666666666666667, 0.32...   \n",
       "34e51dba6a  727  [[0.5411764705882353, 0.4745098039215686, 0.39...   \n",
       "4875705fb0  797  [[0.06666666666666667, 0.0784313725490196, 0.0...   \n",
       "782ae9b7e7  677  [[0.6078431372549019, 0.6196078431372549, 0.61...   \n",
       "9842f69f8d  907  [[0.4392156862745098, 0.4117647058823529, 0.4,...   \n",
       "aa94cfb806  754  [[0.5058823529411764, 0.49019607843137253, 0.4...   \n",
       "50d3073821  810  [[0.4666666666666667, 0.5333333333333333, 0.41...   \n",
       "28f865caaa  147  [[0.43137254901960786, 0.4392156862745098, 0.4...   \n",
       "b5e1371b3b  325  [[0.4117647058823529, 0.4196078431372549, 0.43...   \n",
       "57e394bc67  765  [[0.4, 0.396078431372549, 0.4, 0.4431372549019...   \n",
       "b45ad3932e  613  [[0.43137254901960786, 0.4117647058823529, 0.4...   \n",
       "ef51bbcde7  712  [[0.4, 0.396078431372549, 0.38823529411764707,...   \n",
       "d4d34af4f7  114  [[0.3607843137254902, 0.3843137254901961, 0.42...   \n",
       "302ea1ac81  470  [[0.18823529411764706, 0.1843137254901961, 0.1...   \n",
       "40dcff68b3  707  [[0.44313725490196076, 0.4235294117647059, 0.3...   \n",
       "7845115d01  343  [[0.4, 0.4117647058823529, 0.42745098039215684...   \n",
       "3da729cae9  707  [[0.6823529411764706, 0.6745098039215687, 0.65...   \n",
       "d67e3a11d8  585  [[0.5176470588235295, 0.5725490196078431, 0.50...   \n",
       "\n",
       "                                                        masks  coverage  \\\n",
       "id                                                                        \n",
       "575d24d81d  [[0.0, 0.0, 0.0, 0.0, 0.0, 0.0, 0.0, 0.0, 0.0,...  0.000000   \n",
       "a266a2a9df  [[0.0, 0.0, 0.0, 0.0, 0.0, 0.0, 0.0, 0.0, 0.0,...  0.504950   \n",
       "75efad62c1  [[0.0, 0.0, 0.0, 0.0, 0.0, 0.0, 0.0, 0.0, 0.0,...  0.993334   \n",
       "34e51dba6a  [[0.0, 0.0, 0.0, 0.0, 0.0, 0.0, 0.0, 0.0, 0.0,...  0.149201   \n",
       "4875705fb0  [[0.0, 0.0, 0.0, 0.0, 0.0, 0.0, 0.0, 0.0, 0.0,...  0.042839   \n",
       "782ae9b7e7  [[1.0, 1.0, 1.0, 1.0, 1.0, 1.0, 1.0, 1.0, 1.0,...  0.225370   \n",
       "9842f69f8d  [[0.0, 0.0, 0.0, 0.0, 0.0, 0.0, 0.0, 0.0, 0.0,...  0.000000   \n",
       "aa94cfb806  [[1.0, 1.0, 1.0, 1.0, 1.0, 1.0, 1.0, 1.0, 1.0,...  0.665817   \n",
       "50d3073821  [[1.0, 1.0, 1.0, 1.0, 1.0, 1.0, 1.0, 1.0, 1.0,...  0.297030   \n",
       "28f865caaa  [[0.0, 0.0, 0.0, 0.0, 0.0, 0.0, 0.0, 0.0, 0.0,...  0.000000   \n",
       "b5e1371b3b  [[0.0, 0.0, 0.0, 0.0, 0.0, 0.0, 0.0, 0.0, 0.0,...  0.740908   \n",
       "57e394bc67  [[0.0, 0.0, 0.0, 0.0, 0.0, 0.0, 0.0, 0.0, 0.0,...  0.000000   \n",
       "b45ad3932e  [[0.0, 0.0, 0.0, 0.0, 0.0, 0.0, 0.0, 0.0, 0.0,...  0.283698   \n",
       "ef51bbcde7  [[0.0, 0.0, 0.0, 0.0, 0.0, 0.0, 0.0, 0.0, 0.0,...  0.000000   \n",
       "d4d34af4f7  [[0.0, 0.0, 0.0, 0.0, 0.0, 0.0, 0.0, 0.0, 0.0,...  0.138614   \n",
       "302ea1ac81  [[0.0, 0.0, 0.0, 0.0, 0.0, 0.0, 0.0, 0.0, 0.0,...  0.525047   \n",
       "40dcff68b3  [[0.0, 0.0, 0.0, 0.0, 0.0, 0.0, 0.0, 0.0, 0.0,...  0.620233   \n",
       "7845115d01  [[0.0, 0.0, 0.0, 0.0, 0.0, 0.0, 0.0, 0.0, 0.0,...  0.247525   \n",
       "3da729cae9  [[1.0, 1.0, 1.0, 1.0, 1.0, 1.0, 1.0, 1.0, 1.0,...  0.126164   \n",
       "d67e3a11d8  [[0.0, 0.0, 0.0, 0.0, 0.0, 0.0, 0.0, 0.0, 0.0,...  0.000000   \n",
       "\n",
       "            coverage_class  \n",
       "id                          \n",
       "575d24d81d               0  \n",
       "a266a2a9df              16  \n",
       "75efad62c1              30  \n",
       "34e51dba6a               5  \n",
       "4875705fb0               2  \n",
       "782ae9b7e7               7  \n",
       "9842f69f8d               0  \n",
       "aa94cfb806              20  \n",
       "50d3073821               9  \n",
       "28f865caaa               0  \n",
       "b5e1371b3b              23  \n",
       "57e394bc67               0  \n",
       "b45ad3932e               9  \n",
       "ef51bbcde7               0  \n",
       "d4d34af4f7               5  \n",
       "302ea1ac81              16  \n",
       "40dcff68b3              19  \n",
       "7845115d01               8  \n",
       "3da729cae9               4  \n",
       "d67e3a11d8               0  "
      ]
     },
     "execution_count": 9,
     "metadata": {},
     "output_type": "execute_result"
    }
   ],
   "source": [
    "train_df.head(20)"
   ]
  },
  {
   "cell_type": "code",
   "execution_count": 10,
   "metadata": {},
   "outputs": [
    {
     "name": "stdout",
     "output_type": "stream",
     "text": [
      "(3520,)\n",
      "(3520, 101, 101, 1)\n",
      "(3520, 101, 101, 1)\n",
      "(3520,)\n",
      "(3520,)\n"
     ]
    },
    {
     "data": {
      "text/plain": [
       "numpy.ndarray"
      ]
     },
     "execution_count": 10,
     "metadata": {},
     "output_type": "execute_result"
    }
   ],
   "source": [
    "# Create train/validation split stratified by salt coverage\n",
    "\n",
    "# Create train/validation split stratified by salt coverage\n",
    "\n",
    "ids_train, ids_valid, x_train, x_valid, y_train, y_valid, cov_train, cov_test, depth_train, depth_test = train_test_split(\n",
    "    train_df.index.values,\n",
    "    np.array(train_df.images.tolist()).reshape(-1, img_size_target, img_size_target, 1), \n",
    "    np.array(train_df.masks.tolist()).reshape(-1, img_size_target, img_size_target, 1), \n",
    "    train_df.coverage.values,\n",
    "    train_df.z.values,\n",
    "    test_size=0.12, stratify=train_df.coverage_class, random_state= 1224)\n",
    "# !!!! stratify 分层split的指标 覆盖比例的等级  后面还可以使用深度等级分层split\n",
    "\n",
    "print(ids_train.shape)\n",
    "print(x_train.shape)\n",
    "print(y_train.shape)\n",
    "print(cov_train.shape)\n",
    "print(depth_train.shape)\n",
    "type(x_train) # all are np.ndarray"
   ]
  },
  {
   "cell_type": "markdown",
   "metadata": {},
   "source": [
    "# 模型定义模块"
   ]
  },
  {
   "cell_type": "code",
   "execution_count": 11,
   "metadata": {
    "collapsed": true
   },
   "outputs": [],
   "source": [
    "from torch import nn\n",
    "from torch.nn import functional as F\n",
    "from torch.autograd import Variable\n",
    "import torch\n",
    "from torchvision import models\n",
    "import torchvision"
   ]
  },
  {
   "cell_type": "code",
   "execution_count": 12,
   "metadata": {
    "collapsed": true
   },
   "outputs": [],
   "source": [
    "# # 反卷积计算示例\n",
    "# a_Deconv=nn.ConvTranspose2d(256,128,3,stride=2,\\\n",
    "#                                          padding=1,output_padding=1,bias=True, dilation=1)\n",
    "# x=torch.randn(2,256,6,6)\n",
    "# out=a_Deconv(x)\n",
    "# out.shape"
   ]
  },
  {
   "cell_type": "markdown",
   "metadata": {},
   "source": [
    "### 待改进模型:\n",
    "* 使用更多的通道数\n",
    "* SE-block改造\n",
    "* Hypercolumn\n",
    "\n",
    "* Loss改进 Focal loss 和 Lovasz-Softmax loss"
   ]
  },
  {
   "cell_type": "code",
   "execution_count": 13,
   "metadata": {
    "collapsed": true
   },
   "outputs": [],
   "source": [
    "\n",
    "class Conv2D_block(nn.Module):\n",
    "    def __init__(self,C_in,C_out,filter_size=3,paddingType=\"SAME\",ActionType=\"Relu\"):\n",
    "        super().__init__()\n",
    "        \n",
    "        padding={}\n",
    "        if filter_size==3:\n",
    "            padding[\"SAME\"]=1\n",
    "        if filter_size==1:\n",
    "            padding[\"SAME\"]=0\n",
    "        padding[\"VALID\"]=0\n",
    "        \n",
    "        self.Conv=nn.Conv2d(C_in, C_out, filter_size, stride=1,padding=padding[paddingType])\n",
    "        self.BN=nn.BatchNorm2d(C_out)\n",
    "        self.ActionType=ActionType\n",
    "        \n",
    "        # init operation\n",
    "        self.reset_parameters(self.Conv)\n",
    "        \n",
    "    def reset_parameters(self,m): # to do: add more init methods according to the init policy\n",
    "        nn.init.xavier_uniform_(m.weight.data)\n",
    "        nn.init.constant_(m.bias.data,0)\n",
    "    \n",
    "    def forward(self,x):\n",
    "        out=self.Conv(x)\n",
    "        out=self.BN(out)\n",
    "        if self.ActionType==\"Relu\":\n",
    "            out=F.relu6(out,inplace=True)\n",
    "        return out\n",
    "            \n",
    "class Residual_block(nn.Module):\n",
    "    def __init__(self,C_in,C_out,filter_size=3,paddingType=\"SAME\",ActionType=\"Relu\"):\n",
    "        super().__init__()\n",
    "        \n",
    "        self.BN=nn.BatchNorm2d(C_in)\n",
    "        self.Conv1=Conv2D_block(C_in,C_out,filter_size,paddingType,ActionType)\n",
    "        self.Conv2=Conv2D_block(C_out,C_out,filter_size,paddingType,ActionType=None)\n",
    "        \n",
    "        \n",
    "    def forward(self,x):\n",
    "        out=F.relu6(x,inplace=True)\n",
    "        out=self.BN(out)\n",
    "        out=self.Conv1(out)\n",
    "        out=self.Conv2(out)\n",
    "        out=out+x  # skip connection\n",
    "        return out\n",
    "\n",
    "class Eecoder_with_residual_block(nn.Module):\n",
    "    \n",
    "    def __init__(self,C_in,C_out,DropoutRatio = 0.5,filter_size=3,paddingType=\"SAME\"):\n",
    "        super().__init__()\n",
    "        \n",
    "        padding={}\n",
    "        if filter_size==3:\n",
    "            padding[\"SAME\"]=1\n",
    "        if filter_size==1:\n",
    "            padding[\"SAME\"]=0\n",
    "        padding[\"VALID\"]=0\n",
    "        \n",
    "        self.Conv_1=nn.Conv2d(C_in,C_out,filter_size,stride=1,padding=padding[paddingType])\n",
    "        self.Res_1=Residual_block(C_out,C_out)\n",
    "        self.Res_2=Residual_block(C_out,C_out)\n",
    "    \n",
    "        # init operation\n",
    "        self.reset_parameters(self.Conv_1)\n",
    "        \n",
    "    def reset_parameters(self,m):\n",
    "        nn.init.xavier_uniform_(m.weight.data)\n",
    "        nn.init.constant_(m.bias.data,0)\n",
    "        \n",
    "    def forward(self,x):\n",
    "        out=self.Conv_1(x)\n",
    "        out=self.Res_1(out)\n",
    "        out=self.Res_2(out)\n",
    "        out=F.relu6(out,inplace=True)\n",
    "        return out\n",
    "\n",
    "class Decoder_with_residual_block(nn.Module):\n",
    "    \n",
    "    def __init__(self,C_in,C_out,DropoutRatio = 0.5,filter_size=3,paddingType=\"SAME\"):\n",
    "        super().__init__()\n",
    "        \n",
    "        padding={}\n",
    "        if filter_size==3:\n",
    "            padding[\"SAME\"]=1\n",
    "        if filter_size==1:\n",
    "            padding[\"SAME\"]=0\n",
    "        padding[\"VALID\"]=0  \n",
    "        \n",
    "        if paddingType==\"VALID\":\n",
    "            output_padding=0\n",
    "        else:\n",
    "            output_padding=1\n",
    "            \n",
    "        self.Deconv_1=nn.ConvTranspose2d(C_in,C_out,filter_size, stride=2,\\\n",
    "                                         padding=padding[paddingType],output_padding=output_padding,bias=True, dilation=1)\n",
    "        self.Dropout=nn.Dropout(DropoutRatio)\n",
    "        self.Conv_1=nn.Conv2d(C_in,C_out,filter_size,stride=1,padding=1)\n",
    "        self.Res_1=Residual_block(C_out,C_out)\n",
    "        self.Res_2=Residual_block(C_out,C_out)\n",
    "        \n",
    "        # init operation\n",
    "        self.reset_parameters(self.Conv_1)\n",
    "        self.reset_parameters(self.Deconv_1)\n",
    "        \n",
    "    def reset_parameters(self,m):\n",
    "        nn.init.xavier_uniform_(m.weight.data)\n",
    "        nn.init.constant_(m.bias.data,0)        \n",
    "        \n",
    "    \n",
    "    def forward(self,x,skipx):\n",
    "        out=self.Deconv_1(x)\n",
    "        out=torch.cat([out,skipx],dim=1)\n",
    "        out=self.Dropout(out)\n",
    "        \n",
    "        out=self.Conv_1(out)\n",
    "        out=self.Res_1(out)\n",
    "        out=self.Res_2(out)\n",
    "        out=F.relu6(out,inplace=True)\n",
    "        return out\n",
    "        \n",
    "class Middle_with_residual_block(nn.Module):\n",
    "    \n",
    "    def __init__(self,C_in,C_out,DropoutRatio = 0.5,filter_size=3,paddingType=\"SAME\"):\n",
    "        super().__init__()\n",
    "        \n",
    "        padding={}\n",
    "        if filter_size==3:\n",
    "            padding[\"SAME\"]=1\n",
    "        if filter_size==1:\n",
    "            padding[\"SAME\"]=0\n",
    "        padding[\"VALID\"]=0\n",
    "            \n",
    "        self.Conv_1=nn.Conv2d(C_in,C_out,filter_size,stride=1,padding=padding[paddingType])\n",
    "        self.Res_1=Residual_block(C_out,C_out)\n",
    "        self.Res_2=Residual_block(C_out,C_out)\n",
    "\n",
    "        self.reset_parameters(self.Conv_1)\n",
    "        \n",
    "    def reset_parameters(self,m):\n",
    "        nn.init.xavier_uniform_(m.weight.data)\n",
    "        nn.init.constant_(m.bias.data,0)           \n",
    "\n",
    "    def forward(self,x):\n",
    "        out=self.Conv_1(x)\n",
    "        out=self.Res_1(out)\n",
    "        out=self.Res_2(out)\n",
    "        out=F.relu6(out,inplace=True)\n",
    "        return out\n",
    "    \n",
    "class U_net_with_residual(nn.Module):\n",
    "    \n",
    "    def __init__(self,filter_num=16,DropoutRatio = 0.5,filter_size=3,paddingType=\"SAME\"):\n",
    "        super().__init__()\n",
    "        \n",
    "        self.Dropout_1=nn.Dropout(DropoutRatio/2)\n",
    "        self.Dropout_2=nn.Dropout(DropoutRatio)\n",
    "        \n",
    "        self.Encoder_L1=Eecoder_with_residual_block(im_chan,filter_num,DropoutRatio/2)\n",
    "        self.Encoder_L2=Eecoder_with_residual_block(filter_num*1,filter_num*2,DropoutRatio)\n",
    "        self.Encoder_L3=Eecoder_with_residual_block(filter_num*2,filter_num*4,DropoutRatio)\n",
    "        self.Encoder_L4=Eecoder_with_residual_block(filter_num*4,filter_num*8,DropoutRatio)\n",
    "        \n",
    "        self.Middle=Middle_with_residual_block(filter_num*8,filter_num*16,DropoutRatio)\n",
    "        \n",
    "        self.Decoder_L4=Decoder_with_residual_block(filter_num*16,filter_num*8,DropoutRatio,paddingType=\"SAME\")\n",
    "        self.Decoder_L3=Decoder_with_residual_block(filter_num*8,filter_num*4,DropoutRatio,paddingType=\"VALID\")\n",
    "        self.Decoder_L2=Decoder_with_residual_block(filter_num*4,filter_num*2,DropoutRatio,paddingType=\"SAME\")\n",
    "        self.Decoder_L1=Decoder_with_residual_block(filter_num*2,filter_num*1,DropoutRatio,paddingType=\"VALID\")\n",
    "        \n",
    "    \n",
    "        self.Out=nn.Conv2d(filter_num,1,1,stride=1,padding=0)\n",
    "        \n",
    "    def forward(self,x):\n",
    "        Encoder_L1=self.Encoder_L1(x)\n",
    "        Pool_L1=F.max_pool2d(Encoder_L1,2, stride=2)\n",
    "        Pool_L1=self.Dropout_1(Pool_L1)\n",
    "        \n",
    "        Encoder_L2=self.Encoder_L2(Pool_L1)\n",
    "        Pool_L2=F.max_pool2d(Encoder_L2,2, stride=2)\n",
    "        Pool_L2=self.Dropout_2(Pool_L2)\n",
    "        \n",
    "        Encoder_L3=self.Encoder_L3(Pool_L2)\n",
    "        Pool_L3=F.max_pool2d(Encoder_L3,2, stride=2)\n",
    "        Pool_L3=self.Dropout_2(Pool_L3)\n",
    "        \n",
    "        Encoder_L4=self.Encoder_L4(Pool_L3)\n",
    "        Pool_L4=F.max_pool2d(Encoder_L4,2, stride=2)\n",
    "        Pool_L4=self.Dropout_2(Pool_L4)\n",
    "        \n",
    "        Middle=self.Middle(Pool_L4)\n",
    "        \n",
    "        Summary=False\n",
    "        if Summary:\n",
    "            print(\"1:\",Encoder_L1.shape)\n",
    "            print(\"2:\",Encoder_L2.shape)\n",
    "            print(\"3:\",Encoder_L3.shape)\n",
    "            print(\"4:\",Encoder_L4.shape)\n",
    "            print(\"5:\",Middle.shape)\n",
    "        \n",
    "        \n",
    "        Decoder_L4=self.Decoder_L4(Middle,Encoder_L4)\n",
    "        Decoder_L3=self.Decoder_L3(Decoder_L4,Encoder_L3)\n",
    "        Decoder_L2=self.Decoder_L2(Decoder_L3,Encoder_L2)\n",
    "        Decoder_L1=self.Decoder_L1(Decoder_L2,Encoder_L1)\n",
    "        \n",
    "        if Summary:\n",
    "            print(\"6:\",Decoder_L4.shape)\n",
    "            print(\"7:\",Decoder_L3.shape)\n",
    "            print(\"8:\",Decoder_L2.shape)\n",
    "            print(\"9:\",Decoder_L1.shape)\n",
    "            \n",
    "        logits=self.Dropout_1(Decoder_L1)\n",
    "        logits=self.Out(logits)\n",
    "        #loits=F.sigmoid(logits)\n",
    "        \n",
    "        if Summary:\n",
    "            print(\"10:\",logits.shape)\n",
    "        \n",
    "        return logits\n",
    "        "
   ]
  },
  {
   "cell_type": "code",
   "execution_count": 14,
   "metadata": {
    "collapsed": true
   },
   "outputs": [],
   "source": [
    "# model=U_net_with_residual(32)\n",
    "# # print(model)"
   ]
  },
  {
   "cell_type": "code",
   "execution_count": 15,
   "metadata": {
    "collapsed": true,
    "scrolled": true
   },
   "outputs": [],
   "source": [
    "# import time\n",
    "# x=torch.randn(32,1,101,101)\n",
    "# model.train()\n",
    "# since=time.time()\n",
    "# logits=model(x)\n",
    "# escaped_time=time.time()-since\n",
    "# escaped_time"
   ]
  },
  {
   "cell_type": "code",
   "execution_count": 16,
   "metadata": {
    "collapsed": true
   },
   "outputs": [],
   "source": [
    "# #############################################\n",
    "# ##  网络架构及Pytorch版本的Fine-tune手法   ##\n",
    "# #############################################\n",
    "\n",
    "\n",
    "# from torch import nn\n",
    "# from torch.nn import functional as F\n",
    "# import torch\n",
    "# from torchvision import models\n",
    "# import torchvision\n",
    "\n",
    "\n",
    "# def conv3x3(in_, out):\n",
    "#     return nn.Conv2d(in_, out, 3, padding=1)\n",
    "\n",
    "\n",
    "# class ConvRelu(nn.Module):\n",
    "#     def __init__(self, in_, out):\n",
    "#         super().__init__()\n",
    "#         self.conv = conv3x3(in_, out)\n",
    "#         self.activation = nn.ReLU(inplace=True)\n",
    "\n",
    "#     def forward(self, x):\n",
    "#         x = self.conv(x)\n",
    "#         x = self.activation(x)\n",
    "#         return x\n",
    "\n",
    "\n",
    "# class DecoderBlock(nn.Module):\n",
    "#     def __init__(self, in_channels, middle_channels, out_channels):\n",
    "#         super().__init__()\n",
    "\n",
    "#         self.block = nn.Sequential(\n",
    "#             ConvRelu(in_channels, middle_channels),\n",
    "#             nn.ConvTranspose2d(middle_channels, out_channels, kernel_size=3, stride=2, padding=1, output_padding=1),\n",
    "#             nn.ReLU(inplace=True)\n",
    "#         )\n",
    "\n",
    "#     def forward(self, x):\n",
    "#         return self.block(x)\n",
    "\n",
    "\n",
    "# class UNet11(nn.Module):\n",
    "#     def __init__(self, num_filters=32, pretrained=False):\n",
    "#         \"\"\"\n",
    "#         :param num_classes:\n",
    "#         :param num_filters:\n",
    "#         :param pretrained:\n",
    "#             False - no pre-trained network is used\n",
    "#             True  - encoder is pre-trained with VGG11\n",
    "#         \"\"\"\n",
    "#         super().__init__()\n",
    "#         self.pool = nn.MaxPool2d(2, 2)\n",
    "\n",
    "#         self.encoder = models.vgg11(pretrained=pretrained).features\n",
    "\n",
    "#         self.relu = self.encoder[1]\n",
    "#         #print(self.relu)   # output ==> RELU(inplace)\n",
    "#         self.conv1 = self.encoder[0]\n",
    "#         self.conv2 = self.encoder[3]\n",
    "#         self.conv3s = self.encoder[6]\n",
    "#         self.conv3 = self.encoder[8]\n",
    "#         self.conv4s = self.encoder[11]\n",
    "#         self.conv4 = self.encoder[13]\n",
    "#         self.conv5s = self.encoder[16]\n",
    "#         self.conv5 = self.encoder[18]\n",
    "\n",
    "#         self.center = DecoderBlock(num_filters * 8 * 2, num_filters * 8 * 2, num_filters * 8)\n",
    "#         self.dec5 = DecoderBlock(num_filters * (16 + 8), num_filters * 8 * 2, num_filters * 8)\n",
    "#         self.dec4 = DecoderBlock(num_filters * (16 + 8), num_filters * 8 * 2, num_filters * 4)\n",
    "#         self.dec3 = DecoderBlock(num_filters * (8 + 4), num_filters * 4 * 2, num_filters * 2)\n",
    "#         self.dec2 = DecoderBlock(num_filters * (4 + 2), num_filters * 2 * 2, num_filters)\n",
    "#         self.dec1 = ConvRelu(num_filters * (2 + 1), num_filters)\n",
    "\n",
    "#         self.final = nn.Conv2d(num_filters, 1, kernel_size=1)  # 1x1卷积 输出是1通道\n",
    "\n",
    "#     def forward(self, x):\n",
    "#         conv1 = self.relu(self.conv1(x))\n",
    "#         conv2 = self.relu(self.conv2(self.pool(conv1)))\n",
    "#         conv3s = self.relu(self.conv3s(self.pool(conv2)))\n",
    "#         conv3 = self.relu(self.conv3(conv3s))\n",
    "#         conv4s = self.relu(self.conv4s(self.pool(conv3)))\n",
    "#         conv4 = self.relu(self.conv4(conv4s))\n",
    "#         conv5s = self.relu(self.conv5s(self.pool(conv4)))\n",
    "#         conv5 = self.relu(self.conv5(conv5s))\n",
    "\n",
    "#         center = self.center(self.pool(conv5))\n",
    "\n",
    "#         dec5 = self.dec5(torch.cat([center, conv5], 1))\n",
    "#         dec4 = self.dec4(torch.cat([dec5, conv4], 1))\n",
    "#         dec3 = self.dec3(torch.cat([dec4, conv3], 1))\n",
    "#         dec2 = self.dec2(torch.cat([dec3, conv2], 1))\n",
    "#         dec1 = self.dec1(torch.cat([dec2, conv1], 1))\n",
    "#         return self.final(dec1)\n",
    "\n",
    "\n",
    "# def unet11(pretrained=False, **kwargs):\n",
    "#     \"\"\"\n",
    "#     pretrained:\n",
    "#             False - no pre-trained network is used\n",
    "#             True  - encoder is pre-trained with VGG11\n",
    "#             carvana - all weights are pre-trained on\n",
    "#                 Kaggle: Carvana dataset https://www.kaggle.com/c/carvana-image-masking-challenge\n",
    "#     \"\"\"\n",
    "#     if pretrained== True:\n",
    "#         model = UNet11(pretrained=pretrained, **kwargs)\n",
    "#     else:\n",
    "#         model= UNet11(pretrained=False, **kwargs)\n",
    "    \n",
    "#     #  根据 pretrained 加载 'carvana'数据集上训练好的网络全部权重\n",
    "#     if pretrained == 'carvana':\n",
    "#         state = torch.load('TernausNet.pt',map_location={'cuda:0': 'cpu'})  #\n",
    "#         model.load_state_dict(state['model']) #,map_location='cpu'\n",
    "        \n",
    "#     return model\n",
    "\n",
    "\n",
    "# class DecoderBlockV2(nn.Module):\n",
    "#     def __init__(self, in_channels, middle_channels, out_channels, is_deconv=True):\n",
    "#         super(DecoderBlockV2, self).__init__()\n",
    "#         self.in_channels = in_channels\n",
    "\n",
    "#         if is_deconv:\n",
    "#             \"\"\"\n",
    "#                 Paramaters for Deconvolution were chosen to avoid artifacts, following\n",
    "#                 link https://distill.pub/2016/deconv-checkerboard/\n",
    "#             \"\"\"\n",
    "\n",
    "#             self.block = nn.Sequential(\n",
    "#                 ConvRelu(in_channels, middle_channels),\n",
    "#                 nn.ConvTranspose2d(middle_channels, out_channels, kernel_size=4, stride=2,\n",
    "#                                    padding=1),\n",
    "#                 nn.ReLU(inplace=True)\n",
    "#             )\n",
    "#         else:\n",
    "#             self.block = nn.Sequential(\n",
    "#                 nn.Upsample(scale_factor=2, mode='bilinear'),\n",
    "#                 ConvRelu(in_channels, middle_channels),\n",
    "#                 ConvRelu(middle_channels, out_channels),\n",
    "#             )\n",
    "\n",
    "#     def forward(self, x):\n",
    "#         return self.block(x)\n",
    "\n",
    "\n",
    "# class AlbuNet(nn.Module):\n",
    "#     \"\"\"\n",
    "#         UNet (https://arxiv.org/abs/1505.04597) with Resnet34(https://arxiv.org/abs/1512.03385) encoder\n",
    "\n",
    "#         Proposed by Alexander Buslaev: https://www.linkedin.com/in/al-buslaev/\n",
    "\n",
    "#         \"\"\"\n",
    "\n",
    "#     def __init__(self, num_classes=1, num_filters=32, pretrained=False, is_deconv=False):\n",
    "#         \"\"\"\n",
    "#         :param num_classes:\n",
    "#         :param num_filters:\n",
    "#         :param pretrained:\n",
    "#             False - no pre-trained network is used\n",
    "#             True  - encoder is pre-trained with resnet34\n",
    "#         :is_deconv:\n",
    "#             False: bilinear interpolation is used in decoder\n",
    "#             True: deconvolution is used in decoder\n",
    "#         \"\"\"\n",
    "#         super().__init__()\n",
    "#         self.num_classes = num_classes\n",
    "\n",
    "#         self.pool = nn.MaxPool2d(2, 2)\n",
    "\n",
    "#         self.encoder = torchvision.models.resnet34(pretrained=pretrained)\n",
    "\n",
    "#         self.relu = nn.ReLU(inplace=True)\n",
    "\n",
    "#         self.conv1 = nn.Sequential(self.encoder.conv1,\n",
    "#                                    self.encoder.bn1,\n",
    "#                                    self.encoder.relu,\n",
    "#                                    self.pool)\n",
    "\n",
    "#         self.conv2 = self.encoder.layer1\n",
    "\n",
    "#         self.conv3 = self.encoder.layer2\n",
    "\n",
    "#         self.conv4 = self.encoder.layer3\n",
    "\n",
    "#         self.conv5 = self.encoder.layer4\n",
    "\n",
    "#         self.center = DecoderBlockV2(512, num_filters * 8 * 2, num_filters * 8, is_deconv)\n",
    "\n",
    "#         self.dec5 = DecoderBlockV2(512 + num_filters * 8, num_filters * 8 * 2, num_filters * 8, is_deconv)\n",
    "#         self.dec4 = DecoderBlockV2(256 + num_filters * 8, num_filters * 8 * 2, num_filters * 8, is_deconv)\n",
    "#         self.dec3 = DecoderBlockV2(128 + num_filters * 8, num_filters * 4 * 2, num_filters * 2, is_deconv)\n",
    "#         self.dec2 = DecoderBlockV2(64 + num_filters * 2, num_filters * 2 * 2, num_filters * 2 * 2, is_deconv)\n",
    "#         self.dec1 = DecoderBlockV2(num_filters * 2 * 2, num_filters * 2 * 2, num_filters, is_deconv)\n",
    "#         self.dec0 = ConvRelu(num_filters, num_filters)\n",
    "#         self.final = nn.Conv2d(num_filters, num_classes, kernel_size=1)\n",
    "\n",
    "#     def forward(self, x):\n",
    "#         conv1 = self.conv1(x)\n",
    "#         conv2 = self.conv2(conv1)\n",
    "#         conv3 = self.conv3(conv2)\n",
    "#         conv4 = self.conv4(conv3)\n",
    "#         conv5 = self.conv5(conv4)\n",
    "\n",
    "#         center = self.center(self.pool(conv5))\n",
    "\n",
    "#         dec5 = self.dec5(torch.cat([center, conv5], 1))\n",
    "\n",
    "#         dec4 = self.dec4(torch.cat([dec5, conv4], 1))\n",
    "#         dec3 = self.dec3(torch.cat([dec4, conv3], 1))\n",
    "#         dec2 = self.dec2(torch.cat([dec3, conv2], 1))\n",
    "#         dec1 = self.dec1(dec2)\n",
    "#         dec0 = self.dec0(dec1)\n",
    "\n",
    "#         if self.num_classes > 1:\n",
    "#             x_out = F.log_softmax(self.final(dec0), dim=1)\n",
    "#         else:\n",
    "#             x_out = self.final(dec0)\n",
    "\n",
    "#         return x_out\n",
    "\n",
    "\n",
    "# class UNet16(nn.Module):\n",
    "#     def __init__(self, num_classes=1, num_filters=32, pretrained=False, is_deconv=False):\n",
    "#         \"\"\"\n",
    "#         :param num_classes:\n",
    "#         :param num_filters:\n",
    "#         :param pretrained:\n",
    "#             False - no pre-trained network used\n",
    "#             True - encoder pre-trained with VGG16\n",
    "#         :is_deconv:\n",
    "#             False: bilinear interpolation is used in decoder\n",
    "#             True: deconvolution is used in decoder\n",
    "#         \"\"\"\n",
    "#         super().__init__()\n",
    "#         self.num_classes = num_classes\n",
    "\n",
    "#         self.pool = nn.MaxPool2d(2, 2)\n",
    "\n",
    "#         self.encoder = torchvision.models.vgg16(pretrained=pretrained).features\n",
    "\n",
    "#         self.relu = nn.ReLU(inplace=True)\n",
    "\n",
    "#         self.conv1 = nn.Sequential(self.encoder[0],\n",
    "#                                    self.relu,\n",
    "#                                    self.encoder[2],\n",
    "#                                    self.relu)\n",
    "\n",
    "#         self.conv2 = nn.Sequential(self.encoder[5],\n",
    "#                                    self.relu,\n",
    "#                                    self.encoder[7],\n",
    "#                                    self.relu)\n",
    "\n",
    "#         self.conv3 = nn.Sequential(self.encoder[10],\n",
    "#                                    self.relu,\n",
    "#                                    self.encoder[12],\n",
    "#                                    self.relu,\n",
    "#                                    self.encoder[14],\n",
    "#                                    self.relu)\n",
    "\n",
    "#         self.conv4 = nn.Sequential(self.encoder[17],\n",
    "#                                    self.relu,\n",
    "#                                    self.encoder[19],\n",
    "#                                    self.relu,\n",
    "#                                    self.encoder[21],\n",
    "#                                    self.relu)\n",
    "\n",
    "#         self.conv5 = nn.Sequential(self.encoder[24],\n",
    "#                                    self.relu,\n",
    "#                                    self.encoder[26],\n",
    "#                                    self.relu,\n",
    "#                                    self.encoder[28],\n",
    "#                                    self.relu)\n",
    "\n",
    "#         self.center = DecoderBlockV2(512, num_filters * 8 * 2, num_filters * 8, is_deconv)\n",
    "\n",
    "#         self.dec5 = DecoderBlockV2(512 + num_filters * 8, num_filters * 8 * 2, num_filters * 8, is_deconv)\n",
    "#         self.dec4 = DecoderBlockV2(512 + num_filters * 8, num_filters * 8 * 2, num_filters * 8, is_deconv)\n",
    "#         self.dec3 = DecoderBlockV2(256 + num_filters * 8, num_filters * 4 * 2, num_filters * 2, is_deconv)\n",
    "#         self.dec2 = DecoderBlockV2(128 + num_filters * 2, num_filters * 2 * 2, num_filters, is_deconv)\n",
    "#         self.dec1 = ConvRelu(64 + num_filters, num_filters)\n",
    "#         self.final = nn.Conv2d(num_filters, num_classes, kernel_size=1)\n",
    "\n",
    "#     def forward(self, x):\n",
    "#         conv1 = self.conv1(x)\n",
    "#         conv2 = self.conv2(self.pool(conv1))\n",
    "#         conv3 = self.conv3(self.pool(conv2))\n",
    "#         conv4 = self.conv4(self.pool(conv3))\n",
    "#         conv5 = self.conv5(self.pool(conv4))\n",
    "\n",
    "#         center = self.center(self.pool(conv5))\n",
    "\n",
    "#         dec5 = self.dec5(torch.cat([center, conv5], 1))\n",
    "\n",
    "#         dec4 = self.dec4(torch.cat([dec5, conv4], 1))\n",
    "#         dec3 = self.dec3(torch.cat([dec4, conv3], 1))\n",
    "#         dec2 = self.dec2(torch.cat([dec3, conv2], 1))\n",
    "#         dec1 = self.dec1(torch.cat([dec2, conv1], 1))\n",
    "\n",
    "#         if self.num_classes > 1:\n",
    "#             x_out = F.log_softmax(self.final(dec1), dim=1)\n",
    "#         else:\n",
    "#             x_out = self.final(dec1)\n",
    "\n",
    "#         return x_out\n"
   ]
  },
  {
   "cell_type": "markdown",
   "metadata": {},
   "source": [
    "# 指标计算"
   ]
  },
  {
   "cell_type": "code",
   "execution_count": 17,
   "metadata": {
    "collapsed": true
   },
   "outputs": [],
   "source": [
    "thresholds = np.array([0.5, 0.55, 0.6, 0.65, 0.7, 0.75, 0.8, 0.85, 0.9, 0.95])\n",
    "\n",
    "def iou(img_true, img_pred):\n",
    "    i = np.sum((img_true*img_pred) >0)\n",
    "    u = np.sum((img_true + img_pred) >0)\n",
    "    if u == 0:\n",
    "        return u\n",
    "    return i/u\n",
    "\n",
    "def iou_metric(imgs_true, imgs_pred):\n",
    "    num_images = len(imgs_true)\n",
    "    scores = np.zeros(num_images)\n",
    "    \n",
    "    for i in range(num_images):\n",
    "        if imgs_true[i].sum() == imgs_pred[i].sum() == 0:\n",
    "            scores[i] = 1\n",
    "        else:\n",
    "            scores[i] = (thresholds <= iou(imgs_true[i], imgs_pred[i])).mean()\n",
    "            \n",
    "    return scores.mean()"
   ]
  },
  {
   "cell_type": "markdown",
   "metadata": {
    "collapsed": true
   },
   "source": [
    "# 准备训练数据并训练"
   ]
  },
  {
   "cell_type": "code",
   "execution_count": 18,
   "metadata": {},
   "outputs": [
    {
     "name": "stdout",
     "output_type": "stream",
     "text": [
      "(7040, 1, 101, 101)\n",
      "(7040, 1, 101, 101)\n",
      "(480, 1, 101, 101)\n",
      "(480, 1, 101, 101)\n",
      "<class 'numpy.float32'>\n",
      "<class 'numpy.float32'>\n"
     ]
    }
   ],
   "source": [
    "#Data augmentation\n",
    "x_train2 = np.transpose(np.append(x_train, [np.fliplr(x) for x in x_train], axis=0),(0,3,1,2)).astype(np.float32)\n",
    "y_train2 = np.transpose(np.append(y_train, [np.fliplr(x) for x in y_train], axis=0),(0,3,1,2)).astype(np.float32)\n",
    "x_valid2 = np.transpose(x_valid,(0,3,1,2)).astype(np.float32)\n",
    "y_valid2 = np.transpose(y_valid,(0,3,1,2)).astype(np.float32)\n",
    "\n",
    "print(x_train2.shape)\n",
    "print(y_train2.shape)\n",
    "print(x_valid2.shape)\n",
    "print(y_valid2.shape)  # !!!不要对valid进行数据增强\n",
    "print(type(x_train2[0,0,0,0]))\n",
    "print(type(x_valid2[0,0,0,0]))"
   ]
  },
  {
   "cell_type": "code",
   "execution_count": 19,
   "metadata": {
    "collapsed": true
   },
   "outputs": [],
   "source": [
    "# 自定义一个Pytorch的数据加载器,必须继承自torch.utils.data.Dataset\n",
    "# https://stackoverflow.com/questions/50052295/how-do-you-load-images-into-pytorch-dataloader\n",
    "\n",
    "class saltIDDataset(torch.utils.data.Dataset):\n",
    "\n",
    "    def __init__(self,preprocessed_images,train=True, preprocessed_masks=None):\n",
    "        \"\"\"\n",
    "        Args:\n",
    "            text_file(string): path to text file\n",
    "            root_dir(string): directory with all train images\n",
    "        \"\"\"\n",
    "        self.train = train\n",
    "        self.images = preprocessed_images\n",
    "        if self.train:\n",
    "            self.masks = preprocessed_masks\n",
    "\n",
    "    def __len__(self):\n",
    "        return len(self.images)\n",
    "\n",
    "    def __getitem__(self, idx):\n",
    "        image = self.images[idx]\n",
    "        mask = None\n",
    "        if self.train:\n",
    "            mask = self.masks[idx]\n",
    "        return (image, mask)"
   ]
  },
  {
   "cell_type": "code",
   "execution_count": 20,
   "metadata": {},
   "outputs": [
    {
     "name": "stdout",
     "output_type": "stream",
     "text": [
      "Trainng samples: 7040\n",
      "Validation samples: 480\n"
     ]
    }
   ],
   "source": [
    "salt_ID_dataset_train = saltIDDataset(x_train2, \n",
    "                                      train=True, \n",
    "                                      preprocessed_masks=y_train2)\n",
    "\n",
    "salt_ID_dataset_val = saltIDDataset(x_valid2, \n",
    "                                      train=True, \n",
    "                                      preprocessed_masks=y_valid2)\n",
    "\n",
    "batch_size = 32\n",
    "\n",
    "train_loader = torch.utils.data.DataLoader(dataset=salt_ID_dataset_train, \n",
    "                                           batch_size=batch_size, \n",
    "                                           shuffle=True)\n",
    "\n",
    "val_loader = torch.utils.data.DataLoader(dataset=salt_ID_dataset_val, \n",
    "                                           batch_size=batch_size, \n",
    "                                           shuffle=False)\n",
    "\n",
    "print(\"Trainng samples:\",train_loader.dataset.__len__())\n",
    "print(\"Validation samples:\",val_loader.dataset.__len__())"
   ]
  },
  {
   "cell_type": "code",
   "execution_count": 21,
   "metadata": {
    "collapsed": true
   },
   "outputs": [],
   "source": [
    "class ArgParser(object):\n",
    "    def __init__(self):\n",
    "        \n",
    "        self.MaxEpoch=90\n",
    "        self.LR_Policy=\"ReduceLROnPlateau\" #\"MultiStage\"\n",
    "        \n",
    "        self.n_gpus=1\n",
    "        \n",
    "        self.load_pretrained_model=False\n",
    "        self.pretarined_model_path=\"Results\"\n",
    "        \n",
    "        self.device=torch.device(\"cuda:0\" if torch.cuda.is_available() else \"cpu\")\n",
    "        \n",
    "        self.start_save_epoch=70\n",
    "        self.save_step=2"
   ]
  },
  {
   "cell_type": "code",
   "execution_count": 22,
   "metadata": {
    "collapsed": true
   },
   "outputs": [],
   "source": [
    "# class DiceLoss(nn.Module):\n",
    "#     def __init__(self, smooth=0, eps=1e-7):\n",
    "#         super(DiceLoss, self).__init__()\n",
    "#         self.smooth = smooth\n",
    "#         self.eps = eps\n",
    "\n",
    "#     def forward(self, output, target):\n",
    "#         return 1 - (2 * torch.sum(output * target) + self.smooth) / (\n",
    "#                 torch.sum(output) + torch.sum(target) + self.smooth + self.eps)"
   ]
  },
  {
   "cell_type": "code",
   "execution_count": 23,
   "metadata": {
    "collapsed": true
   },
   "outputs": [],
   "source": [
    "def LearningRateAdjust(model,LR_Policy,optimizer,cur_epoch,cur_epoch_metirc,args):\n",
    "    if LR_Policy==\"MultiSatge\":\n",
    "        if cur_epoch==1:\n",
    "            lr=0.005\n",
    "        elif cur_epoch==50:\n",
    "            lr=0.001\n",
    "        elif cur_epoch==65:\n",
    "            lr=0.0005\n",
    "        elif cur_epoch==75:\n",
    "            lr=0.0001\n",
    "        else:\n",
    "            return\n",
    "    \n",
    "    # -----------------\n",
    "    global last_best_epoch_metric,patience,track_epoch,lr_factor,cur_lr,min_lr\n",
    "    \n",
    "    if LR_Policy==\"ReduceLROnPlateau\":\n",
    "        if cur_epoch_metirc > last_best_epoch_metric:\n",
    "            last_best_epoch_metric=cur_epoch_metirc\n",
    "            track_epoch=0\n",
    "            # save best fund model\n",
    "            print(\"save best fund model\")\n",
    "            save_checkpoint(model.state_dict(), True, args.pretarined_model_path,args)\n",
    "            \n",
    "            return \n",
    "        \n",
    "        if cur_epoch_metirc<=last_best_epoch_metric and track_epoch<patience:\n",
    "            track_epoch=1+track_epoch\n",
    "            \n",
    "            return\n",
    "        \n",
    "        else:\n",
    "            lr=max(cur_lr*lr_factor,min_lr)\n",
    "            print(\"adjust learnig rate from {} to {}\".format(cur_lr,lr))\n",
    "            track_epoch=0\n",
    "            cur_lr=lr\n",
    "            \n",
    "            print(\"*******\")\n",
    "            for param_group in optimizer.param_groups:\n",
    "                print(\"Adjust lr to {}\".format(lr))\n",
    "                param_group[\"lr\"]=lr"
   ]
  },
  {
   "cell_type": "code",
   "execution_count": 24,
   "metadata": {
    "collapsed": true
   },
   "outputs": [],
   "source": [
    "\n",
    "def custom_weights_init(m):\n",
    "    pass"
   ]
  },
  {
   "cell_type": "code",
   "execution_count": 26,
   "metadata": {
    "collapsed": true
   },
   "outputs": [],
   "source": [
    "import time\n",
    "import shutil\n",
    "        \n",
    "\n",
    "def save_checkpoint(state, is_best, path,args):\n",
    "    save_path=os.path.join(path,'saved_Gpu_model_state.pt')\n",
    "    torch.save(state, save_path)\n",
    "    if is_best:\n",
    "        shutil.copyfile(save_path, \n",
    "                        os.path.join(args.pretarined_model_path ,'best_Gpu_model_state.pt'))\n",
    "\n",
    "    \n",
    "def train(model,train_loader,optimizer,criterion,args,epoch,class_weights,Dice_loss):\n",
    "    since=time.time()\n",
    "    model.train()\n",
    "    train_losses = []\n",
    "    \n",
    "    for batch_idx, (images, masks) in enumerate(train_loader):\n",
    "        \n",
    "        images, masks = images.to(args.device), masks.to(args.device)\n",
    "        images, masks = Variable(images), Variable(masks)\n",
    "        \n",
    "        logits = model(images)\n",
    "        #print(model.Encoder_L1.Conv_1.bias.data)  # check init \n",
    "        loss = criterion(logits, masks)\n",
    "#         loss_2=Dice_loss(torch.sigmoid(logits), masks)\n",
    "        \n",
    "#         combine_cofficient=0.5\n",
    "#         loss=combine_cofficient*loss_1+(1-combine_cofficient)*loss_2\n",
    "        \n",
    "        train_losses.append(loss.data)\n",
    "        \n",
    "        #dice_loss = bioloss.dice_error(output, target)\n",
    "        optimizer.zero_grad()\n",
    "        loss.backward()\n",
    "        optimizer.step()\n",
    "            \n",
    "    now=time.time()\n",
    "    mean_loss=np.mean(train_losses)\n",
    "    print(\"Epoch {}### Mean Train Loss:{},escaped time:{}\".format(epoch,mean_loss,now-since))\n",
    "    return mean_loss\n",
    "\n",
    "def test(model,test_loader,criterion,args,epoch,class_weights,Dice_loss):\n",
    "    since=time.time()\n",
    "    model.eval()\n",
    "    test_losses = []\n",
    "    \n",
    "    val_acc=[]\n",
    "    \n",
    "    global batch_size\n",
    "    for batch_idx, (images, masks) in enumerate(test_loader):\n",
    "        \n",
    "        images, masks = images.to(args.device), masks.to(args.device)\n",
    "        images, masks = Variable(images), Variable(masks)\n",
    "        \n",
    "        logits = model(images)\n",
    "        \n",
    "        loss = criterion(logits, masks)\n",
    "#         loss_2=Dice_loss(torch.sigmoid(logits), masks)\n",
    "        \n",
    "#         combine_cofficient=0.5\n",
    "#         loss=combine_cofficient*loss_1+(1-combine_cofficient)*loss_2\n",
    "        \n",
    "        test_losses.append(loss.data)\n",
    "        #dice_loss = bioloss.dice_error(output, target)\n",
    "        tmp=((torch.sigmoid(logits)>=0.5).to(torch.float32)==masks).to(torch.float32)\n",
    "        val_acc.append(torch.sum(tmp)/(batch_size*101*101))\n",
    "        \n",
    "        \n",
    "    now=time.time()\n",
    "    mean_loss=np.mean(test_losses)\n",
    "    cur_metric=np.mean(val_acc)\n",
    "    print(\"Epoch {}### Mean Val Loss:{}, Mean metric:{}, escaped time:{}\".format(epoch,mean_loss,cur_metric,now-since))\n",
    "            \n",
    "    return mean_loss,cur_metric"
   ]
  },
  {
   "cell_type": "code",
   "execution_count": 27,
   "metadata": {
    "collapsed": true
   },
   "outputs": [],
   "source": [
    "\n",
    "# ------- 全局变量 ----------\n",
    "train_losses_history=[]\n",
    "val_losses_history=[]\n",
    "\n",
    "last_best_epoch_metric=0,\n",
    "patience=5  # 5-7 比较合适\n",
    "track_epoch=0\n",
    "lr_factor=0.5\n",
    "cur_lr=0.001\n",
    "init_lr=cur_lr\n",
    "min_lr=0.000005\n",
    "start_epoch=0\n",
    "\n",
    "def main():\n",
    "    \n",
    "    args=ArgParser()\n",
    "    \n",
    "    torch.cuda.manual_seed_all(4200)# 设置全局固定随机种子方便复现\n",
    "    np.random.seed(133700)\n",
    "    \n",
    "    model=U_net_with_residual(32) # 16 is the basic filter_nums, for controlling the width of U-Net\n",
    "    \n",
    "    \n",
    "    if args.load_pretrained_model==True:\n",
    "        state = torch.load('Results/best_Gpu_model_state.pt')#,map_location={'cuda:0': 'cpu'})  #\n",
    "        model.load_state_dict(state) #,map_location='cpu'\n",
    "    else:\n",
    "        model.apply(custom_weights_init)    \n",
    "    \n",
    "    # deploy model to GPU or CPU\n",
    "    model.to(args.device)\n",
    "    \n",
    "    # -------------------------------------------------------------------------------- #\n",
    "    optimizer = torch.optim.Adam(model.parameters(), lr=init_lr)\n",
    "    for param_group in optimizer.param_groups:\n",
    "                print(\"Adjust lr to {}\".format(init_lr))\n",
    "                param_group[\"lr\"]=init_lr\n",
    "    #optimizer = torch.optim.SGD(model.parameters(), lr=0.01, momentum=0.9, weight_decay=5e-4)\n",
    "    \n",
    "    #criterion = nn.CrossEntropyLoss()\n",
    "    criterion = nn.BCEWithLogitsLoss()\n",
    "    # -------------------------------------------------------------------------------- #\n",
    "    Dice_loss=DiceLoss(smooth=1)\n",
    "    \n",
    "    \n",
    "    class_weights=[0.5,0.5] \n",
    "    \n",
    "    best_metric=100  # 注意指标的大小与性能的关系\n",
    "    \n",
    "    for epoch in range(start_epoch,args.MaxEpoch):\n",
    "       \n",
    "        mean_train_loss_=train(model,train_loader,optimizer,criterion,args,epoch,class_weights,Dice_loss)\n",
    "        train_losses_history.append(mean_train_loss_)\n",
    "        \n",
    "        mean_val_loss_,cur_metric=test(model,val_loader,criterion,args,epoch,class_weights,Dice_loss)\n",
    "        val_losses_history.append(mean_val_loss_)\n",
    "        \n",
    "        LearningRateAdjust(model,args.LR_Policy,optimizer,epoch,cur_metric,args)\n",
    "            \n",
    "        if  epoch>=args.start_save_epoch :\n",
    "            if mean_val_loss_<best_metric:\n",
    "                best_metric=mean_val_loss_\n",
    "                is_best=True\n",
    "                \n",
    "            else:\n",
    "                is_best=False\n",
    "                if epoch % args.save_step ==0:\n",
    "                    torch.save(model.state_dict(),\"Results/MM_{}.pt\".format(epoch))\n",
    "    torch.save(model.state_dict(),\"Results/MM.pt\")\n",
    "    return model\n",
    "\n",
    "   \n",
    "    "
   ]
  },
  {
   "cell_type": "code",
   "execution_count": null,
   "metadata": {
    "scrolled": false
   },
   "outputs": [
    {
     "name": "stdout",
     "output_type": "stream",
     "text": [
      "Adjust lr to 0.001\n",
      "Epoch 0### Mean Train Loss:0.3572857975959778,escaped time:47.122714042663574\n",
      "Epoch 0### Mean Val Loss:0.27232661843299866, Mean metric:0.8960040211677551, escaped time:0.9011504650115967\n",
      "save best fund model\n",
      "Epoch 1### Mean Train Loss:0.270992636680603,escaped time:47.054497718811035\n",
      "Epoch 1### Mean Val Loss:0.3378552198410034, Mean metric:0.8445422053337097, escaped time:0.9030323028564453\n",
      "Epoch 2### Mean Train Loss:0.2415509670972824,escaped time:47.05922055244446\n",
      "Epoch 2### Mean Val Loss:0.26179736852645874, Mean metric:0.9177439212799072, escaped time:0.9067342281341553\n",
      "save best fund model\n",
      "Epoch 3### Mean Train Loss:0.23328740894794464,escaped time:47.06519103050232\n",
      "Epoch 3### Mean Val Loss:0.21439287066459656, Mean metric:0.9184986352920532, escaped time:0.9051392078399658\n",
      "save best fund model\n",
      "Epoch 4### Mean Train Loss:0.22802704572677612,escaped time:47.02606916427612\n",
      "Epoch 4### Mean Val Loss:0.27456551790237427, Mean metric:0.9018352627754211, escaped time:0.9039840698242188\n",
      "Epoch 5### Mean Train Loss:0.21409808099269867,escaped time:47.020251512527466\n",
      "Epoch 5### Mean Val Loss:0.20919542014598846, Mean metric:0.9200321435928345, escaped time:0.9047541618347168\n",
      "save best fund model\n",
      "Epoch 6### Mean Train Loss:0.20660044252872467,escaped time:47.03103685379028\n",
      "Epoch 6### Mean Val Loss:0.1651809960603714, Mean metric:0.9365939497947693, escaped time:0.9018435478210449\n",
      "save best fund model\n",
      "Epoch 7### Mean Train Loss:0.19427254796028137,escaped time:47.02781391143799\n",
      "Epoch 7### Mean Val Loss:0.17831026017665863, Mean metric:0.9315360188484192, escaped time:0.899183988571167\n",
      "Epoch 8### Mean Train Loss:0.19336237013339996,escaped time:47.009588956832886\n",
      "Epoch 8### Mean Val Loss:0.19210267066955566, Mean metric:0.9277891516685486, escaped time:0.9041640758514404\n",
      "Epoch 9### Mean Train Loss:0.17897994816303253,escaped time:47.00042390823364\n",
      "Epoch 9### Mean Val Loss:0.18959031999111176, Mean metric:0.9301828742027283, escaped time:0.9075446128845215\n",
      "Epoch 10### Mean Train Loss:0.1837519109249115,escaped time:47.01968598365784\n",
      "Epoch 10### Mean Val Loss:0.27428731322288513, Mean metric:0.9077371954917908, escaped time:0.9025835990905762\n",
      "Epoch 11### Mean Train Loss:0.20019714534282684,escaped time:47.02655577659607\n",
      "Epoch 11### Mean Val Loss:0.3130062520503998, Mean metric:0.8719868063926697, escaped time:0.9028337001800537\n",
      "Epoch 12### Mean Train Loss:0.19278617203235626,escaped time:46.985899925231934\n",
      "Epoch 12### Mean Val Loss:0.18610572814941406, Mean metric:0.9319654107093811, escaped time:0.9027190208435059\n",
      "adjust learnig rate from 0.001 to 0.0005\n",
      "*******\n",
      "Adjust lr to 0.0005\n",
      "Epoch 13### Mean Train Loss:0.17278268933296204,escaped time:47.004759788513184\n",
      "Epoch 13### Mean Val Loss:0.15919263660907745, Mean metric:0.9408368468284607, escaped time:0.9052140712738037\n",
      "save best fund model\n",
      "Epoch 14### Mean Train Loss:0.16268622875213623,escaped time:46.993725538253784\n",
      "Epoch 14### Mean Val Loss:0.14537636935710907, Mean metric:0.9437980055809021, escaped time:0.9031946659088135\n",
      "save best fund model\n",
      "Epoch 15### Mean Train Loss:0.16363342106342316,escaped time:67.59790301322937\n",
      "Epoch 15### Mean Val Loss:0.21420933306217194, Mean metric:0.9194846749305725, escaped time:0.9028682708740234\n",
      "Epoch 16### Mean Train Loss:0.15678375959396362,escaped time:46.99804997444153\n",
      "Epoch 16### Mean Val Loss:0.14963030815124512, Mean metric:0.9402291178703308, escaped time:0.9031875133514404\n",
      "Epoch 17### Mean Train Loss:0.15429499745368958,escaped time:47.0169403553009\n",
      "Epoch 17### Mean Val Loss:0.17989178001880646, Mean metric:0.9338892698287964, escaped time:0.8992650508880615\n",
      "Epoch 18### Mean Train Loss:0.15579886734485626,escaped time:47.0022988319397\n",
      "Epoch 18### Mean Val Loss:0.1685340702533722, Mean metric:0.9379453659057617, escaped time:0.9010169506072998\n",
      "Epoch 19### Mean Train Loss:0.15106578171253204,escaped time:46.9845929145813\n",
      "Epoch 19### Mean Val Loss:0.19702227413654327, Mean metric:0.9371758699417114, escaped time:0.9104514122009277\n",
      "Epoch 20### Mean Train Loss:0.15220479667186737,escaped time:47.01762294769287\n",
      "Epoch 20### Mean Val Loss:0.2331104427576065, Mean metric:0.9044501185417175, escaped time:0.9014954566955566\n",
      "adjust learnig rate from 0.0005 to 0.00025\n",
      "*******\n",
      "Adjust lr to 0.00025\n",
      "Epoch 21### Mean Train Loss:0.14432479441165924,escaped time:47.01092600822449\n",
      "Epoch 21### Mean Val Loss:0.18320371210575104, Mean metric:0.9352534413337708, escaped time:0.9048058986663818\n",
      "Epoch 22### Mean Train Loss:0.1393045037984848,escaped time:47.01752591133118\n",
      "Epoch 22### Mean Val Loss:0.14147664606571198, Mean metric:0.9434969425201416, escaped time:0.9047122001647949\n",
      "Epoch 23### Mean Train Loss:0.13669751584529877,escaped time:47.014047622680664\n",
      "Epoch 23### Mean Val Loss:0.14079122245311737, Mean metric:0.9443463683128357, escaped time:0.904205322265625\n",
      "save best fund model\n",
      "Epoch 24### Mean Train Loss:0.1392633020877838,escaped time:47.03763818740845\n",
      "Epoch 24### Mean Val Loss:0.1591310352087021, Mean metric:0.9425061345100403, escaped time:0.899674654006958\n",
      "Epoch 25### Mean Train Loss:0.13638728857040405,escaped time:47.0223913192749\n",
      "Epoch 25### Mean Val Loss:0.15975035727024078, Mean metric:0.9364292025566101, escaped time:0.9023153781890869\n",
      "Epoch 26### Mean Train Loss:0.13669411838054657,escaped time:47.03194785118103\n",
      "Epoch 26### Mean Val Loss:0.1520904004573822, Mean metric:0.9433295130729675, escaped time:0.9059953689575195\n",
      "Epoch 27### Mean Train Loss:0.13494142889976501,escaped time:47.01603960990906\n",
      "Epoch 27### Mean Val Loss:0.13815926015377045, Mean metric:0.9490695595741272, escaped time:0.9055807590484619\n",
      "save best fund model\n",
      "Epoch 28### Mean Train Loss:0.13215544819831848,escaped time:47.01790809631348\n",
      "Epoch 28### Mean Val Loss:0.15680308640003204, Mean metric:0.9398783445358276, escaped time:0.9044206142425537\n",
      "Epoch 29### Mean Train Loss:0.1309184581041336,escaped time:47.03051257133484\n",
      "Epoch 29### Mean Val Loss:0.15786157548427582, Mean metric:0.9437971115112305, escaped time:0.9055311679840088\n",
      "Epoch 30### Mean Train Loss:0.13223089277744293,escaped time:47.02046251296997\n",
      "Epoch 30### Mean Val Loss:0.14925286173820496, Mean metric:0.9425451159477234, escaped time:0.9070413112640381\n",
      "Epoch 31### Mean Train Loss:0.12986119091510773,escaped time:47.03577709197998\n",
      "Epoch 31### Mean Val Loss:0.13611263036727905, Mean metric:0.9469935894012451, escaped time:0.9019725322723389\n",
      "Epoch 32### Mean Train Loss:0.12920089066028595,escaped time:47.007553815841675\n",
      "Epoch 32### Mean Val Loss:0.1677783578634262, Mean metric:0.932557225227356, escaped time:0.8996889591217041\n",
      "Epoch 33### Mean Train Loss:0.1292242556810379,escaped time:47.04840397834778\n",
      "Epoch 33### Mean Val Loss:0.15668514370918274, Mean metric:0.9449062943458557, escaped time:0.9047918319702148\n",
      "adjust learnig rate from 0.00025 to 0.000125\n",
      "*******\n",
      "Adjust lr to 0.000125\n",
      "Epoch 34### Mean Train Loss:0.12411396950483322,escaped time:47.03380846977234\n",
      "Epoch 34### Mean Val Loss:0.16793633997440338, Mean metric:0.9369771480560303, escaped time:0.4409353733062744\n",
      "Epoch 35### Mean Train Loss:0.12135680764913559,escaped time:46.99745059013367\n",
      "Epoch 35### Mean Val Loss:0.18815067410469055, Mean metric:0.932381272315979, escaped time:0.9041109085083008\n",
      "Epoch 36### Mean Train Loss:0.12212108075618744,escaped time:46.992520570755005\n",
      "Epoch 36### Mean Val Loss:0.1726827323436737, Mean metric:0.940326452255249, escaped time:0.9061455726623535\n",
      "Epoch 37### Mean Train Loss:0.12040706723928452,escaped time:47.02726221084595\n",
      "Epoch 37### Mean Val Loss:0.16826070845127106, Mean metric:0.9406040906906128, escaped time:0.9021453857421875\n",
      "Epoch 38### Mean Train Loss:0.1198943555355072,escaped time:47.00624465942383\n",
      "Epoch 38### Mean Val Loss:0.15316051244735718, Mean metric:0.9443206191062927, escaped time:0.9040420055389404\n",
      "Epoch 39### Mean Train Loss:0.11899719387292862,escaped time:47.00289344787598\n",
      "Epoch 39### Mean Val Loss:0.16074198484420776, Mean metric:0.9416120052337646, escaped time:0.8999733924865723\n",
      "adjust learnig rate from 0.000125 to 6.25e-05\n",
      "*******\n",
      "Adjust lr to 6.25e-05\n",
      "Epoch 40### Mean Train Loss:0.11456168442964554,escaped time:47.01793909072876\n",
      "Epoch 40### Mean Val Loss:0.14558467268943787, Mean metric:0.9456645846366882, escaped time:0.9021241664886475\n"
     ]
    },
    {
     "name": "stdout",
     "output_type": "stream",
     "text": [
      "Epoch 41### Mean Train Loss:0.11490730196237564,escaped time:47.03143286705017\n",
      "Epoch 41### Mean Val Loss:0.17080731689929962, Mean metric:0.9395443201065063, escaped time:0.9098663330078125\n",
      "Epoch 42### Mean Train Loss:0.113365538418293,escaped time:46.99455451965332\n",
      "Epoch 42### Mean Val Loss:0.17177261412143707, Mean metric:0.9370954632759094, escaped time:0.9039907455444336\n",
      "Epoch 43### Mean Train Loss:0.1152377650141716,escaped time:47.0077064037323\n",
      "Epoch 43### Mean Val Loss:0.15040892362594604, Mean metric:0.9421871304512024, escaped time:0.9037237167358398\n",
      "Epoch 44### Mean Train Loss:0.11416857689619064,escaped time:47.00193905830383\n",
      "Epoch 44### Mean Val Loss:0.15839456021785736, Mean metric:0.9392060041427612, escaped time:0.9043722152709961\n",
      "Epoch 45### Mean Train Loss:0.1115555688738823,escaped time:47.015647888183594\n",
      "Epoch 45### Mean Val Loss:0.15298549830913544, Mean metric:0.9425675272941589, escaped time:0.9073455333709717\n",
      "adjust learnig rate from 6.25e-05 to 3.125e-05\n",
      "*******\n",
      "Adjust lr to 3.125e-05\n",
      "Epoch 46### Mean Train Loss:0.11044061928987503,escaped time:47.023871421813965\n",
      "Epoch 46### Mean Val Loss:0.16642609238624573, Mean metric:0.9374149441719055, escaped time:0.903468132019043\n",
      "Epoch 47### Mean Train Loss:0.1080719605088234,escaped time:47.02280402183533\n",
      "Epoch 47### Mean Val Loss:0.17663921415805817, Mean metric:0.9355683922767639, escaped time:0.9028685092926025\n",
      "Epoch 48### Mean Train Loss:0.10925614088773727,escaped time:47.0179717540741\n",
      "Epoch 48### Mean Val Loss:0.17191560566425323, Mean metric:0.9361408948898315, escaped time:0.9037642478942871\n",
      "Epoch 49### Mean Train Loss:0.11051434278488159,escaped time:47.03132629394531\n",
      "Epoch 49### Mean Val Loss:0.16363878548145294, Mean metric:0.9403138756752014, escaped time:0.9031124114990234\n",
      "Epoch 50### Mean Train Loss:0.10946141928434372,escaped time:47.01730251312256\n",
      "Epoch 50### Mean Val Loss:0.18764851987361908, Mean metric:0.9317297339439392, escaped time:0.90706467628479\n",
      "Epoch 51### Mean Train Loss:0.10596805065870285,escaped time:47.02523756027222\n",
      "Epoch 51### Mean Val Loss:0.18741725385189056, Mean metric:0.9340334534645081, escaped time:0.8998091220855713\n",
      "adjust learnig rate from 3.125e-05 to 1.5625e-05\n",
      "*******\n",
      "Adjust lr to 1.5625e-05\n",
      "Epoch 52### Mean Train Loss:0.10764264315366745,escaped time:47.006773948669434\n",
      "Epoch 52### Mean Val Loss:0.18037191033363342, Mean metric:0.9355332851409912, escaped time:0.9077634811401367\n",
      "Epoch 53### Mean Train Loss:0.10508597642183304,escaped time:46.9994215965271\n",
      "Epoch 53### Mean Val Loss:0.1834731549024582, Mean metric:0.9327829480171204, escaped time:0.9079225063323975\n",
      "Epoch 54### Mean Train Loss:0.10558588802814484,escaped time:47.007543325424194\n",
      "Epoch 54### Mean Val Loss:0.1827240288257599, Mean metric:0.9342073798179626, escaped time:0.9045629501342773\n",
      "Epoch 55### Mean Train Loss:0.10645779967308044,escaped time:46.99093747138977\n",
      "Epoch 55### Mean Val Loss:0.1780933439731598, Mean metric:0.9358773827552795, escaped time:0.90260910987854\n",
      "Epoch 56### Mean Train Loss:0.10660244524478912,escaped time:47.010324001312256\n",
      "Epoch 56### Mean Val Loss:0.1810561567544937, Mean metric:0.9342926740646362, escaped time:0.9036865234375\n",
      "Epoch 57### Mean Train Loss:0.10648080706596375,escaped time:47.03126358985901\n",
      "Epoch 57### Mean Val Loss:0.17153699696063995, Mean metric:0.9381085634231567, escaped time:0.9066257476806641\n",
      "adjust learnig rate from 1.5625e-05 to 7.8125e-06\n",
      "*******\n",
      "Adjust lr to 7.8125e-06\n",
      "Epoch 58### Mean Train Loss:0.10477664321660995,escaped time:46.98496127128601\n",
      "Epoch 58### Mean Val Loss:0.16699185967445374, Mean metric:0.9389232397079468, escaped time:0.9069745540618896\n",
      "Epoch 59### Mean Train Loss:0.10517210513353348,escaped time:46.99625897407532\n",
      "Epoch 59### Mean Val Loss:0.16448833048343658, Mean metric:0.9406679272651672, escaped time:0.9043464660644531\n",
      "Epoch 60### Mean Train Loss:0.10388065874576569,escaped time:46.99422311782837\n",
      "Epoch 60### Mean Val Loss:0.1746460646390915, Mean metric:0.9375001788139343, escaped time:0.9014263153076172\n",
      "Epoch 61### Mean Train Loss:0.10565139353275299,escaped time:47.007086992263794\n",
      "Epoch 61### Mean Val Loss:0.1802786886692047, Mean metric:0.935479462146759, escaped time:0.9023869037628174\n",
      "Epoch 62### Mean Train Loss:0.10399112850427628,escaped time:47.0154287815094\n",
      "Epoch 62### Mean Val Loss:0.18274006247520447, Mean metric:0.9342870116233826, escaped time:0.9028105735778809\n",
      "Epoch 63### Mean Train Loss:0.10352382808923721,escaped time:47.00029277801514\n",
      "Epoch 63### Mean Val Loss:0.17762979865074158, Mean metric:0.9357631802558899, escaped time:0.8996739387512207\n",
      "adjust learnig rate from 7.8125e-06 to 5e-06\n",
      "*******\n",
      "Adjust lr to 5e-06\n",
      "Epoch 64### Mean Train Loss:0.10437138378620148,escaped time:46.9901704788208\n",
      "Epoch 64### Mean Val Loss:0.17443794012069702, Mean metric:0.9372950792312622, escaped time:0.8988158702850342\n",
      "Epoch 65### Mean Train Loss:0.10553441196680069,escaped time:46.98727893829346\n",
      "Epoch 65### Mean Val Loss:0.17998351156711578, Mean metric:0.934855580329895, escaped time:0.9031574726104736\n",
      "Epoch 66### Mean Train Loss:0.10343898087739944,escaped time:47.02348589897156\n",
      "Epoch 66### Mean Val Loss:0.1793535053730011, Mean metric:0.935834527015686, escaped time:0.9092552661895752\n",
      "Epoch 67### Mean Train Loss:0.10235073417425156,escaped time:47.051485776901245\n",
      "Epoch 67### Mean Val Loss:0.1754527986049652, Mean metric:0.9368461966514587, escaped time:0.9088640213012695\n",
      "Epoch 68### Mean Train Loss:0.1033317893743515,escaped time:47.02637958526611\n",
      "Epoch 68### Mean Val Loss:0.18610014021396637, Mean metric:0.9344073534011841, escaped time:0.9054100513458252\n",
      "Epoch 69### Mean Train Loss:0.10359514504671097,escaped time:47.006150245666504\n",
      "Epoch 69### Mean Val Loss:0.18114350736141205, Mean metric:0.9357001781463623, escaped time:0.9050180912017822\n",
      "adjust learnig rate from 5e-06 to 5e-06\n",
      "*******\n",
      "Adjust lr to 5e-06\n",
      "Epoch 70### Mean Train Loss:0.10402233898639679,escaped time:47.00710868835449\n",
      "Epoch 70### Mean Val Loss:0.18284855782985687, Mean metric:0.9349066615104675, escaped time:0.8996353149414062\n",
      "Epoch 71### Mean Train Loss:0.10140179842710495,escaped time:47.020041704177856\n",
      "Epoch 71### Mean Val Loss:0.18073444068431854, Mean metric:0.9359581470489502, escaped time:0.9004926681518555\n",
      "Epoch 72### Mean Train Loss:0.10237853229045868,escaped time:47.00811576843262\n",
      "Epoch 72### Mean Val Loss:0.1874249279499054, Mean metric:0.9358171224594116, escaped time:0.9061479568481445\n",
      "Epoch 73### Mean Train Loss:0.10268617421388626,escaped time:47.014384508132935\n",
      "Epoch 73### Mean Val Loss:0.17889632284641266, Mean metric:0.93876713514328, escaped time:0.8993246555328369\n",
      "Epoch 74### Mean Train Loss:0.10185077041387558,escaped time:47.00309205055237\n",
      "Epoch 74### Mean Val Loss:0.18383365869522095, Mean metric:0.9353808164596558, escaped time:0.9058573246002197\n"
     ]
    }
   ],
   "source": [
    "model=main()"
   ]
  },
  {
   "cell_type": "code",
   "execution_count": 34,
   "metadata": {},
   "outputs": [
    {
     "data": {
      "text/plain": [
       "<matplotlib.legend.Legend at 0x7ff5fc0c3860>"
      ]
     },
     "execution_count": 34,
     "metadata": {},
     "output_type": "execute_result"
    },
    {
     "data": {
      "image/png": "[encoded data removed]",
      "text/plain": [
       "<Figure size 432x288 with 1 Axes>"
      ]
     },
     "metadata": {},
     "output_type": "display_data"
    }
   ],
   "source": [
    "train_loss_series = pd.Series(train_losses_history)\n",
    "val_loss_series = pd.Series(val_losses_history)\n",
    "train_loss_series.plot(label=\"train\")\n",
    "val_loss_series.plot(label=\"validation\")\n",
    "plt.legend()"
   ]
  },
  {
   "cell_type": "code",
   "execution_count": null,
   "metadata": {
    "collapsed": true
   },
   "outputs": [],
   "source": []
  },
  {
   "cell_type": "code",
   "execution_count": null,
   "metadata": {
    "collapsed": true
   },
   "outputs": [],
   "source": []
  },
  {
   "cell_type": "code",
   "execution_count": 25,
   "metadata": {
    "collapsed": true
   },
   "outputs": [],
   "source": [
    "from torch import nn\n",
    "from torch.nn import functional as F\n",
    "from torch.autograd import Variable\n",
    "import torch\n",
    "from torchvision import models\n",
    "import torchvision"
   ]
  },
  {
   "cell_type": "code",
   "execution_count": 26,
   "metadata": {
    "scrolled": false
   },
   "outputs": [
    {
     "name": "stdout",
     "output_type": "stream",
     "text": [
      "(480, 1, 101, 101)\n",
      "(480, 1, 101, 101)\n",
      "(480, 1, 101, 101)\n",
      "(480, 1, 101, 101)\n",
      "cost time: 0.9530937671661377\n"
     ]
    },
    {
     "data": {
      "application/vnd.jupyter.widget-view+json": {
       "model_id": "e3af70ea94e24f2281984a664c5ca756",
       "version_major": 2,
       "version_minor": 0
      },
      "text/plain": [
       "A Jupyter Widget"
      ]
     },
     "metadata": {},
     "output_type": "display_data"
    },
    {
     "name": "stdout",
     "output_type": "stream",
     "text": [
      "\n"
     ]
    },
    {
     "data": {
      "image/png": "[encoded data removed]",
      "text/plain": [
       "<Figure size 432x288 with 1 Axes>"
      ]
     },
     "metadata": {},
     "output_type": "display_data"
    },
    {
     "name": "stdout",
     "output_type": "stream",
     "text": [
      "(480, 1, 101, 101)\n",
      "(480, 1, 101, 101)\n",
      "(480, 1, 101, 101)\n",
      "(480, 1, 101, 101)\n",
      "cost time: 0.9381184577941895\n"
     ]
    },
    {
     "data": {
      "application/vnd.jupyter.widget-view+json": {
       "model_id": "aeb34b828cff4ef1b7fcfe81e76a18ec",
       "version_major": 2,
       "version_minor": 0
      },
      "text/plain": [
       "A Jupyter Widget"
      ]
     },
     "metadata": {},
     "output_type": "display_data"
    },
    {
     "name": "stdout",
     "output_type": "stream",
     "text": [
      "\n"
     ]
    },
    {
     "data": {
      "image/png": "[encoded data removed]",
      "text/plain": [
       "<Figure size 432x288 with 1 Axes>"
      ]
     },
     "metadata": {},
     "output_type": "display_data"
    },
    {
     "name": "stdout",
     "output_type": "stream",
     "text": [
      "(480, 1, 101, 101)\n",
      "(480, 1, 101, 101)\n",
      "(480, 1, 101, 101)\n",
      "(480, 1, 101, 101)\n",
      "cost time: 0.9447686672210693\n"
     ]
    },
    {
     "data": {
      "application/vnd.jupyter.widget-view+json": {
       "model_id": "dfd789cd60fa476bb98b8e7d65a0b84d",
       "version_major": 2,
       "version_minor": 0
      },
      "text/plain": [
       "A Jupyter Widget"
      ]
     },
     "metadata": {},
     "output_type": "display_data"
    },
    {
     "name": "stdout",
     "output_type": "stream",
     "text": [
      "\n"
     ]
    },
    {
     "data": {
      "image/png": "[encoded data removed]",
      "text/plain": [
       "<Figure size 432x288 with 1 Axes>"
      ]
     },
     "metadata": {},
     "output_type": "display_data"
    }
   ],
   "source": [
    "import os\n",
    "MODELS_NAME=os.listdir(\"Results\")\n",
    "\n",
    "for model_name in MODELS_NAME:\n",
    "    if model_name[0]!='M' and model_name[0] !='b':\n",
    "        continue\n",
    "    #model=U_net_with_residual(16)\n",
    "    model=U_net_with_residual(32)#UNetResNet(encoder_depth=34,num_classes=1,num_filters=16, dropout_2d_ration=0.8,pretrained=False)\n",
    "\n",
    "\n",
    "    state = torch.load('Results/{}'.format(model_name))#,map_location={'cuda:0': 'cpu'})  #\n",
    "    model.load_state_dict(state) #,map_location='cpu'\n",
    "\n",
    "    if torch.cuda.is_available():\n",
    "        model=model.cuda()\n",
    "    \n",
    "    \n",
    "    # ------------------------------------\n",
    "    VAL_USE_SYM_FLAG=False\n",
    "\n",
    "    x_valid_Sym=np.transpose(np.array([np.fliplr(x) for x in x_valid]),(0,3,1,2)).astype(np.float32)\n",
    "    print(x_valid_Sym.shape)\n",
    "\n",
    "    y_valid_Sym=np.zeros_like(x_valid_Sym).astype(np.float32)\n",
    "\n",
    "    salt_ID_dataset_valid_Sym = saltIDDataset(x_valid_Sym, \n",
    "                                          train=True, \n",
    "                                          preprocessed_masks=y_valid_Sym)\n",
    "\n",
    "    batch_size = 32\n",
    "\n",
    "    valid_loader_Sym = torch.utils.data.DataLoader(dataset=salt_ID_dataset_valid_Sym, \n",
    "                                               batch_size=batch_size, \n",
    "                                               shuffle=False)\n",
    "\n",
    "    mask_pred_valid_Sym = []\n",
    "    model.eval()\n",
    "    for images, masks in valid_loader_Sym:\n",
    "        images = Variable(images.cuda())\n",
    "    #     images = Variable(images)\n",
    "        y_preds = model(images)\n",
    "        y_preds=F.sigmoid(y_preds)\n",
    "\n",
    "\n",
    "        for i, _ in enumerate(images):\n",
    "            y_pred = y_preds[i] \n",
    "            y_pred = y_pred.cpu().data.numpy()\n",
    "            mask_pred_valid_Sym.append(y_pred[:,:,::-1])\n",
    "\n",
    "\n",
    "\n",
    "    mask_pred_valid_Sym=np.array(mask_pred_valid_Sym) \n",
    "    print(mask_pred_valid_Sym.shape)\n",
    "\n",
    "    VAL_USE_SYM_FLAG=True\n",
    "\n",
    "\n",
    "\n",
    "    import time\n",
    "    since=time.time()\n",
    "\n",
    "    mask_pred_valid = []\n",
    "    mask_truth_valid=[]\n",
    "\n",
    "    model.eval()\n",
    "    for images, masks in val_loader:\n",
    "        images = Variable(images.cuda())\n",
    "    #     images = Variable(images)\n",
    "        y_preds = model(images)\n",
    "        y_preds=F.sigmoid(y_preds)\n",
    "\n",
    "        for i, _ in enumerate(images):\n",
    "            y_pred = y_preds[i] \n",
    "            y_pred = y_pred.cpu().data.numpy()\n",
    "            mask_pred_valid.append(y_pred)\n",
    "            mask_truth_valid.append(masks[i].numpy())\n",
    "\n",
    "\n",
    "    mask_pred_valid=np.array(mask_pred_valid)\n",
    "    mask_truth_valid=np.array(mask_truth_valid)       \n",
    "    print(mask_truth_valid.shape)\n",
    "    print(mask_truth_valid.shape)\n",
    "\n",
    "    if VAL_USE_SYM_FLAG:\n",
    "        mask_pred_valid=0.5*(mask_pred_valid+mask_pred_valid_Sym)\n",
    "\n",
    "    print(\"cost time:\",time.time()-since)\n",
    "    \n",
    "    import gc\n",
    "    del x_valid_Sym\n",
    "    del y_valid_Sym\n",
    "    del salt_ID_dataset_valid_Sym\n",
    "    del valid_loader_Sym\n",
    "    del model\n",
    "    gc.collect()\n",
    "    \n",
    "    \n",
    "        # 将小于200个像素点的全部截掉  在测试阶段也会使用该过滤函数 \n",
    "    def filter_image(img):\n",
    "        if img.sum() < 200:\n",
    "            return np.zeros(img.shape)\n",
    "        else:\n",
    "            return img\n",
    "\n",
    "    ## Scoring for last model\n",
    "    thresholds = np.linspace(0.3, 0.7, 31)\n",
    "    ious = np.array([iou_metric(y_valid.reshape((-1, img_size_target, img_size_target)),\n",
    "                                [filter_image(img) for img in mask_pred_valid > threshold]) \n",
    "                       for threshold in tqdm_notebook(thresholds)])\n",
    "\n",
    "\n",
    "\n",
    "    threshold_best_index = np.argmax(ious) \n",
    "    iou_best = ious[threshold_best_index]\n",
    "    threshold_best = thresholds[threshold_best_index]\n",
    "\n",
    "    plt.plot(thresholds, ious)\n",
    "    plt.plot(threshold_best, iou_best, \"xr\", label=\"Best threshold\")\n",
    "    plt.xlabel(\"Threshold\")\n",
    "    plt.ylabel(\"IoU\")\n",
    "    plt.title(\"Threshold vs IoU ({}, {},{})\".format(threshold_best, iou_best,model_name))\n",
    "    plt.legend()\n",
    "    plt.show()\n",
    "    "
   ]
  },
  {
   "cell_type": "code",
   "execution_count": null,
   "metadata": {
    "collapsed": true
   },
   "outputs": [],
   "source": []
  },
  {
   "cell_type": "markdown",
   "metadata": {
    "collapsed": true
   },
   "source": [
    "# 准备测试数据并测试"
   ]
  },
  {
   "cell_type": "code",
   "execution_count": 27,
   "metadata": {
    "collapsed": true
   },
   "outputs": [],
   "source": [
    "model=U_net_with_residual(32)#UNetResNet(encoder_depth=34,num_classes=1,num_filters=16, dropout_2d_ration=0.8,pretrained=False)\n",
    "\n",
    "model_name=\"best_Gpu_model_state.pt\"\n",
    "state = torch.load('Results/{}'.format(model_name))#,map_location={'cuda:0': 'cpu'})  #\n",
    "model.load_state_dict(state) #,map_location='cpu'\n",
    "\n",
    "if torch.cuda.is_available():\n",
    "    model=model.cuda()"
   ]
  },
  {
   "cell_type": "code",
   "execution_count": 28,
   "metadata": {
    "collapsed": true
   },
   "outputs": [],
   "source": [
    "\"\"\"\n",
    "used for converting the decoded image to rle mask\n",
    "Fast compared to previous one\n",
    "\"\"\"\n",
    "def rle_encode(im):\n",
    "    '''\n",
    "    im: numpy array, 1 - mask, 0 - background\n",
    "    Returns run length as string formated\n",
    "    '''\n",
    "    pixels = im.flatten(order = 'F')\n",
    "    pixels = np.concatenate([[0], pixels, [0]])\n",
    "    runs = np.where(pixels[1:] != pixels[:-1])[0] + 1\n",
    "    runs[1::2] -= runs[::2]\n",
    "    return ' '.join(str(x) for x in runs)"
   ]
  },
  {
   "cell_type": "code",
   "execution_count": 29,
   "metadata": {},
   "outputs": [
    {
     "data": {
      "application/vnd.jupyter.widget-view+json": {
       "model_id": "17eee372a4f242f6b9416504f1ed16bd",
       "version_major": 2,
       "version_minor": 0
      },
      "text/plain": [
       "A Jupyter Widget"
      ]
     },
     "metadata": {},
     "output_type": "display_data"
    },
    {
     "name": "stdout",
     "output_type": "stream",
     "text": [
      "\n"
     ]
    }
   ],
   "source": [
    "x_test = np.array([(np.array(load_img(\"test/images/{}.png\".format(idx), color_mode=\"grayscale\"))) / 255 \n",
    "                   for idx in tqdm_notebook(test_df.index)]).reshape(-1, img_size_target, img_size_target, 1)"
   ]
  },
  {
   "cell_type": "code",
   "execution_count": 30,
   "metadata": {},
   "outputs": [
    {
     "data": {
      "text/plain": [
       "(18000, 101, 101, 1)"
      ]
     },
     "execution_count": 30,
     "metadata": {},
     "output_type": "execute_result"
    }
   ],
   "source": [
    "x_test.shape"
   ]
  },
  {
   "cell_type": "code",
   "execution_count": 31,
   "metadata": {},
   "outputs": [
    {
     "name": "stdout",
     "output_type": "stream",
     "text": [
      "(18000, 1, 101, 101)\n"
     ]
    }
   ],
   "source": [
    "x_test2=np.transpose(x_test,(0,3,1,2)).astype(np.float32)\n",
    "print(x_test2.shape)\n",
    "y_test2=np.zeros_like(x_test2).astype(np.float32)\n",
    "\n",
    "salt_ID_dataset_test = saltIDDataset(x_test2, \n",
    "                                      train=True, \n",
    "                                      preprocessed_masks=y_test2)\n",
    "\n",
    "batch_size = 32\n",
    "\n",
    "test_loader = torch.utils.data.DataLoader(dataset=salt_ID_dataset_test, \n",
    "                                           batch_size=batch_size, \n",
    "                                           shuffle=False)"
   ]
  },
  {
   "cell_type": "code",
   "execution_count": 32,
   "metadata": {},
   "outputs": [
    {
     "name": "stdout",
     "output_type": "stream",
     "text": [
      "(18000, 1, 101, 101)\n"
     ]
    }
   ],
   "source": [
    "x_test_Sym=np.transpose(np.array([np.fliplr(x) for x in x_test]),(0,3,1,2)).astype(np.float32)\n",
    "print(x_test_Sym.shape)\n",
    "\n",
    "y_test_Sym=np.zeros_like(x_test_Sym).astype(np.float32)\n",
    "\n",
    "salt_ID_dataset_test_Sym = saltIDDataset(x_test_Sym, \n",
    "                                      train=True, \n",
    "                                      preprocessed_masks=y_test_Sym)\n",
    "\n",
    "batch_size = 32\n",
    "\n",
    "test_loader_Sym = torch.utils.data.DataLoader(dataset=salt_ID_dataset_test_Sym, \n",
    "                                           batch_size=batch_size, \n",
    "                                           shuffle=False)"
   ]
  },
  {
   "cell_type": "code",
   "execution_count": 33,
   "metadata": {},
   "outputs": [
    {
     "name": "stdout",
     "output_type": "stream",
     "text": [
      "(18000, 1, 101, 101)\n"
     ]
    }
   ],
   "source": [
    "mask_pred_test_Sym = []\n",
    "\n",
    "for images, masks in test_loader_Sym:\n",
    "    images = Variable(images.cuda())\n",
    "#     images = Variable(images)\n",
    "    y_preds = model(images)\n",
    "    y_preds=torch.sigmoid(y_preds)\n",
    "    \n",
    "    \n",
    "    for i, _ in enumerate(images):\n",
    "        y_pred = y_preds[i] \n",
    "        y_pred = y_pred.cpu().data.numpy()\n",
    "        mask_pred_test_Sym.append(y_pred[:,:,::-1])\n",
    "       \n",
    "        \n",
    "        \n",
    "mask_pred_test_Sym=np.array(mask_pred_test_Sym) \n",
    "print(mask_pred_test_Sym.shape)\n"
   ]
  },
  {
   "cell_type": "code",
   "execution_count": 34,
   "metadata": {},
   "outputs": [
    {
     "name": "stdout",
     "output_type": "stream",
     "text": [
      "(18000, 1, 101, 101)\n"
     ]
    }
   ],
   "source": [
    "mask_pred_test = []\n",
    "\n",
    "for images, masks in test_loader:\n",
    "    images = Variable(images.cuda())\n",
    "#     images = Variable(images)\n",
    "    y_preds = model(images)\n",
    "    y_preds=torch.sigmoid(y_preds)\n",
    "    \n",
    "    for i, _ in enumerate(images):\n",
    "        y_pred = y_preds[i] \n",
    "        y_pred = y_pred.cpu().data.numpy()\n",
    "        mask_pred_test.append(y_pred)\n",
    "       \n",
    "\n",
    "        \n",
    "mask_pred_test=np.array(mask_pred_test) \n",
    "print(mask_pred_test.shape)\n",
    "mask_pred_test=0.5*(mask_pred_test+mask_pred_test_Sym)"
   ]
  },
  {
   "cell_type": "code",
   "execution_count": 35,
   "metadata": {
    "collapsed": true
   },
   "outputs": [],
   "source": [
    "threshold_best=0.54"
   ]
  },
  {
   "cell_type": "code",
   "execution_count": 36,
   "metadata": {},
   "outputs": [
    {
     "data": {
      "application/vnd.jupyter.widget-view+json": {
       "model_id": "c277b6a835c04a8b89604186d2b39b6a",
       "version_major": 2,
       "version_minor": 0
      },
      "text/plain": [
       "A Jupyter Widget"
      ]
     },
     "metadata": {},
     "output_type": "display_data"
    },
    {
     "name": "stdout",
     "output_type": "stream",
     "text": [
      "\n",
      "Usedtime = 5.283778190612793 s\n"
     ]
    }
   ],
   "source": [
    "import time\n",
    "t1 = time.time()\n",
    "pred_dict = {idx: rle_encode(np.round(downsample(mask_pred_test[i]) > threshold_best)) for i, idx in enumerate(tqdm_notebook(test_df.index.values))}\n",
    "t2 = time.time()\n",
    "\n",
    "print(f\"Usedtime = {t2-t1} s\")"
   ]
  },
  {
   "cell_type": "code",
   "execution_count": 37,
   "metadata": {
    "collapsed": true
   },
   "outputs": [],
   "source": [
    "sub = pd.DataFrame.from_dict(pred_dict,orient='index')\n",
    "sub.index.names = ['id']\n",
    "sub.columns = ['rle_mask']\n",
    "sub.to_csv('submission_SSS.csv')"
   ]
  },
  {
   "cell_type": "code",
   "execution_count": null,
   "metadata": {
    "collapsed": true
   },
   "outputs": [],
   "source": []
  },
  {
   "cell_type": "code",
   "execution_count": null,
   "metadata": {
    "collapsed": true
   },
   "outputs": [],
   "source": []
  },
  {
   "cell_type": "code",
   "execution_count": null,
   "metadata": {
    "collapsed": true
   },
   "outputs": [],
   "source": []
  },
  {
   "cell_type": "markdown",
   "metadata": {
    "collapsed": true
   },
   "source": [
    "# CRF后处理(CPU模式下运行)"
   ]
  },
  {
   "cell_type": "markdown",
   "metadata": {},
   "source": [
    "### 安装pydensecrf   \n",
    "```shell\n",
    "apt-get uppdate\n",
    "source etc/profile \n",
    "conda install gxx_linux-64\n",
    "pip install pydensecrf\n",
    "```"
   ]
  },
  {
   "cell_type": "code",
   "execution_count": 4,
   "metadata": {
    "collapsed": true
   },
   "outputs": [],
   "source": [
    "import numpy as np\n",
    "import pydensecrf.densecrf as dcrf\n",
    "from skimage.io import imread, imsave\n",
    "from pydensecrf.utils import unary_from_labels, create_pairwise_bilateral\n",
    "from skimage.color import gray2rgb\n",
    "from skimage.color import rgb2gray\n",
    "import matplotlib.pyplot as plt\n",
    "import pandas as pd\n",
    "from tqdm import tqdm_notebook\n",
    "%matplotlib inline"
   ]
  },
  {
   "cell_type": "code",
   "execution_count": 5,
   "metadata": {
    "collapsed": true
   },
   "outputs": [],
   "source": [
    "def rle_decode(rle_mask):\n",
    "    '''\n",
    "    rle_mask: run-length as string formated (start length)\n",
    "    shape: (height,width) of array to return \n",
    "    Returns numpy array, 1 - mask, 0 - background\n",
    "\n",
    "    '''\n",
    "    s = rle_mask.split()\n",
    "    starts, lengths = [np.asarray(x, dtype=int) for x in (s[0:][::2], s[1:][::2])]\n",
    "    starts -= 1\n",
    "    ends = starts + lengths\n",
    "    img = np.zeros(101*101, dtype=np.uint8)\n",
    "    for lo, hi in zip(starts, ends):\n",
    "        img[lo:hi] = 1\n",
    "    return img.reshape(101,101)"
   ]
  },
  {
   "cell_type": "code",
   "execution_count": 6,
   "metadata": {},
   "outputs": [
    {
     "data": {
      "image/png": "[encoded data removed]",
      "text/plain": [
       "<Figure size 2160x1080 with 6 Axes>"
      ]
     },
     "metadata": {},
     "output_type": "display_data"
    }
   ],
   "source": [
    "\"\"\"\n",
    "reading and decoding the submission \n",
    "\n",
    "\"\"\"\n",
    "df = pd.read_csv('submission_solution5.csv')\n",
    "i = 0\n",
    "j = 0\n",
    "plt.figure(figsize=(30,15))\n",
    "plt.subplots_adjust(bottom=0.2, top=0.8, hspace=0.2)  #adjust this to change vertical and horiz. spacings..\n",
    "# Visualizing the predicted outputs\n",
    "while True:\n",
    "    if str(df.loc[i,'rle_mask'])!=str(np.nan):        \n",
    "        decoded_mask = rle_decode(df.loc[i,'rle_mask'])\n",
    "        plt.subplot(1,6,j+1)\n",
    "        plt.imshow(decoded_mask)\n",
    "        plt.title('ID: '+df.loc[i,'id'])\n",
    "        j = j + 1\n",
    "        if j>5:\n",
    "            break\n",
    "    i = i + 1"
   ]
  },
  {
   "cell_type": "markdown",
   "metadata": {},
   "source": [
    "# Function to apply CRF"
   ]
  },
  {
   "cell_type": "code",
   "execution_count": 7,
   "metadata": {
    "collapsed": true
   },
   "outputs": [],
   "source": [
    "#Original_image = Image which has to labelled\n",
    "#Mask image = Which has been labelled by some technique..\n",
    "def crf(original_image, mask_img):\n",
    "    \n",
    "    # Converting annotated image to RGB if it is Gray scale\n",
    "    if(len(mask_img.shape)<3):\n",
    "        mask_img = gray2rgb(mask_img)\n",
    "\n",
    "#     #Converting the annotations RGB color to single 32 bit integer\n",
    "    annotated_label = mask_img[:,:,0] + (mask_img[:,:,1]<<8) + (mask_img[:,:,2]<<16)\n",
    "    \n",
    "#     # Convert the 32bit integer color to 0,1, 2, ... labels.\n",
    "    colors, labels = np.unique(annotated_label, return_inverse=True)\n",
    "\n",
    "    n_labels = 2\n",
    "    \n",
    "    #Setting up the CRF model\n",
    "    d = dcrf.DenseCRF2D(original_image.shape[1], original_image.shape[0], n_labels)\n",
    "\n",
    "    # get unary potentials (neg log probability)\n",
    "    U = unary_from_labels(labels, n_labels, gt_prob=0.7, zero_unsure=False)\n",
    "    d.setUnaryEnergy(U)\n",
    "\n",
    "    # This adds the color-independent term, features are the locations only.\n",
    "    d.addPairwiseGaussian(sxy=(3, 3), compat=3, kernel=dcrf.DIAG_KERNEL,\n",
    "                      normalization=dcrf.NORMALIZE_SYMMETRIC)\n",
    "        \n",
    "    #Run Inference for 10 steps \n",
    "    Q = d.inference(10)\n",
    "\n",
    "    # Find out the most probable class for each pixel.\n",
    "    MAP = np.argmax(Q, axis=0)\n",
    "\n",
    "    return MAP.reshape((original_image.shape[0],original_image.shape[1]))"
   ]
  },
  {
   "cell_type": "code",
   "execution_count": 8,
   "metadata": {
    "collapsed": true
   },
   "outputs": [],
   "source": [
    "test_path = 'TestData/images/'"
   ]
  },
  {
   "cell_type": "markdown",
   "metadata": {
    "collapsed": true
   },
   "source": [
    "# Visualizing the effect of applying CRF"
   ]
  },
  {
   "cell_type": "code",
   "execution_count": 9,
   "metadata": {},
   "outputs": [
    {
     "data": {
      "image/png": "[encoded data removed]",
      "text/plain": [
       "<Figure size 2160x2160 with 24 Axes>"
      ]
     },
     "metadata": {},
     "output_type": "display_data"
    }
   ],
   "source": [
    "\"\"\"\n",
    "visualizing the effect of applying CRF\n",
    "\n",
    "\"\"\"\n",
    "np.random.seed(100)\n",
    "nImgs = 8\n",
    "i = np.random.randint(1000)\n",
    "j = 1\n",
    "plt.figure(figsize=(30,30))\n",
    "while True:\n",
    "    if str(df.loc[i,'rle_mask'])!=str(np.nan):        \n",
    "        decoded_mask = rle_decode(df.loc[i,'rle_mask'])        \n",
    "        orig_img = imread(test_path+df.loc[i,'id']+'.png')\n",
    "        #Applying CRF on FCN-16 annotated image\n",
    "        crf_output = crf(orig_img,decoded_mask)\n",
    "        plt.subplot(nImgs,4,4*j-3)\n",
    "        plt.imshow(orig_img)\n",
    "        plt.title('Original image')\n",
    "        plt.subplot(nImgs,4,4*j-2)\n",
    "        plt.imshow(np.fliplr(np.rot90(decoded_mask,k=3)))\n",
    "        plt.title('Original Mask')\n",
    "        plt.subplot(nImgs,4,4*j-1)\n",
    "        plt.imshow(np.fliplr(np.rot90(crf_output,k=3)))\n",
    "        plt.title('Mask after CRF')\n",
    "        if j == nImgs:\n",
    "            break\n",
    "        else:\n",
    "            j = j + 1\n",
    "    i = i + 1\n",
    "plt.tight_layout()"
   ]
  },
  {
   "cell_type": "code",
   "execution_count": 10,
   "metadata": {
    "collapsed": true
   },
   "outputs": [],
   "source": [
    "\"\"\"\n",
    "used for converting the decoded image to rle mask\n",
    "\n",
    "\"\"\"\n",
    "def rle_encode(im):\n",
    "    '''\n",
    "    im: numpy array, 1 - mask, 0 - background\n",
    "    Returns run length as string formated\n",
    "    '''\n",
    "    pixels = im.flatten()\n",
    "    pixels = np.concatenate([[0], pixels, [0]])\n",
    "    runs = np.where(pixels[1:] != pixels[:-1])[0] + 1\n",
    "    runs[1::2] -= runs[::2]\n",
    "    return ' '.join(str(x) for x in runs)"
   ]
  },
  {
   "cell_type": "code",
   "execution_count": 12,
   "metadata": {},
   "outputs": [
    {
     "data": {
      "application/vnd.jupyter.widget-view+json": {
       "model_id": "cdd63cc50fe4449b9ca39d6a9f26f29d",
       "version_major": 2,
       "version_minor": 0
      },
      "text/plain": [
       "A Jupyter Widget"
      ]
     },
     "metadata": {},
     "output_type": "display_data"
    },
    {
     "name": "stdout",
     "output_type": "stream",
     "text": [
      "\n"
     ]
    }
   ],
   "source": [
    "\"\"\"\n",
    "Applying CRF on the predicted mask \n",
    "\n",
    "\"\"\"\n",
    "for i in tqdm_notebook(range(df.shape[0])):\n",
    "    if str(df.loc[i,'rle_mask'])!=str(np.nan):        \n",
    "        decoded_mask = rle_decode(df.loc[i,'rle_mask'])        \n",
    "        orig_img = imread(test_path+df.loc[i,'id']+'.png')        \n",
    "        crf_output = crf(orig_img,decoded_mask)\n",
    "        df.loc[i,'rle_mask'] = rle_encode(crf_output)"
   ]
  },
  {
   "cell_type": "code",
   "execution_count": 13,
   "metadata": {
    "collapsed": true
   },
   "outputs": [],
   "source": [
    "df.to_csv('crf_correction.csv',index=False)"
   ]
  },
  {
   "cell_type": "code",
   "execution_count": null,
   "metadata": {
    "collapsed": true
   },
   "outputs": [],
   "source": []
  },
  {
   "cell_type": "code",
   "execution_count": null,
   "metadata": {
    "collapsed": true
   },
   "outputs": [],
   "source": []
  },
  {
   "cell_type": "markdown",
   "metadata": {},
   "source": [
    "# FAQ:"
   ]
  },
  {
   "cell_type": "markdown",
   "metadata": {},
   "source": [
    "## [Dice loss 与 F1 score的关系](https://dev.to/andys0975/what-is-dice-loss-for-image-segmentation-3p85)"
   ]
  },
  {
   "cell_type": "code",
   "execution_count": null,
   "metadata": {
    "collapsed": true
   },
   "outputs": [],
   "source": []
  }
 ],
 "metadata": {
  "kernelspec": {
   "display_name": "Python 3",
   "language": "python",
   "name": "python3"
  },
  "language_info": {
   "codemirror_mode": {
    "name": "ipython",
    "version": 3
   },
   "file_extension": ".py",
   "mimetype": "text/x-python",
   "name": "python",
   "nbconvert_exporter": "python",
   "pygments_lexer": "ipython3",
   "version": "3.6.2"
  }
 },
 "nbformat": 4,
 "nbformat_minor": 2
}
