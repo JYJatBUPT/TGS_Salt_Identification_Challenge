{
 "cells": [
  {
   "cell_type": "markdown",
   "metadata": {},
   "source": [
    "# <center>关于语义分割的竞赛"
   ]
  },
  {
   "cell_type": "markdown",
   "metadata": {},
   "source": [
    "# 语义分割顶尖模型:  \n",
    "[01 TernausNet: U-Net with VGG11 Encoder Pre-Trained on ImageNet for Image Segmentation](https://github.com/ternaus/TernausNet)  "
   ]
  },
  {
   "cell_type": "code",
   "execution_count": null,
   "metadata": {
    "collapsed": true
   },
   "outputs": [],
   "source": []
  },
  {
   "cell_type": "markdown",
   "metadata": {},
   "source": [
    "# [Kaggle地址](https://www.kaggle.com/c/tgs-salt-identification-challenge)"
   ]
  },
  {
   "cell_type": "markdown",
   "metadata": {},
   "source": [
    "![](http://op4a94iq8.bkt.clouddn.com/18-8-26/84871738.jpg)"
   ]
  },
  {
   "cell_type": "markdown",
   "metadata": {
    "collapsed": true
   },
   "source": [
    "# 背景"
   ]
  },
  {
   "cell_type": "markdown",
   "metadata": {
    "collapsed": true
   },
   "source": [
    "<font size=4.5 color=blue>使用反射地震学或地震反射收集地震数据。该方法需要受控的地震能量源，例如压缩空气或地震振动器，并且传感器记录地下岩石界面的反射。然后处理记录的数据以创建地球内部的3D视图。反射地震学类似于X射线，声纳和回声定位。\n",
    "\n",
    "通过对来自岩石边界的反射进行成像来产生地震图像。地震图像显示了不同岩石类型之间的界限。理论上，反射强度与界面两侧物理性质的差异成正比。虽然地震图像显示了岩石边界，但它们并没有对岩石本身说太多;有些岩石易于识别，有些岩石很难识别。\n",
    "\n",
    "世界上有几个地区的地下有大量的盐。地震成像的挑战之一是识别地下部分是盐。盐具有使其既简单又难以识别的特征。盐密度通常为2.14克/立方厘米，低于大多数周围的岩石。盐的地震速度为4.5千米/秒，通常比周围的岩石快。这种差异在盐 - 沉积物界面处产生了明显的反射。通常盐是无定形岩石，没有太多的内部结构。这意味着盐中通常没有太大的反射率，除非其中有沉积物。盐的异常高的地震速度可能产生地震成像的问题。"
   ]
  },
  {
   "cell_type": "markdown",
   "metadata": {
    "collapsed": true
   },
   "source": [
    "# 数据"
   ]
  },
  {
   "cell_type": "markdown",
   "metadata": {
    "collapsed": true
   },
   "source": [
    "<font size=4.5 color=blue>数据是在地下随机选择的各个位置处选择的一组图像。 图像为101 x 101像素，每个像素分为盐或沉积物。 除了地震图像之外，还为每个图像提供成像位置的深度。 竞赛的目标是划分含盐区域。"
   ]
  },
  {
   "cell_type": "markdown",
   "metadata": {},
   "source": [
    "## 初步感受训练数据"
   ]
  },
  {
   "cell_type": "code",
   "execution_count": 5,
   "metadata": {
    "collapsed": true
   },
   "outputs": [],
   "source": [
    "import numpy as np\n",
    "import cv2\n",
    "import matplotlib.pyplot as plt\n"
   ]
  },
  {
   "cell_type": "markdown",
   "metadata": {},
   "source": [
    "### 滑动长度的分割标准信息"
   ]
  },
  {
   "cell_type": "markdown",
   "metadata": {},
   "source": [
    "![](http://op4a94iq8.bkt.clouddn.com/18-8-26/90635054.jpg)"
   ]
  },
  {
   "cell_type": "markdown",
   "metadata": {},
   "source": [
    "### 101x101=10201维  按照（start_pixel_position, length_of_encode）编码白色区域， 如果没有白色区域，则不需要编码，编码为空   \n",
    "### 按照先从上到下，再从左到右编码 The pixels are one-indexed and numbered from top to bottom, then left to right: 1 is pixel (1,1), 2 is pixel (2,1), etc."
   ]
  },
  {
   "cell_type": "code",
   "execution_count": 2,
   "metadata": {},
   "outputs": [
    {
     "ename": "SyntaxError",
     "evalue": "invalid syntax (<ipython-input-2-4b7c26eb5933>, line 1)",
     "output_type": "error",
     "traceback": [
      "\u001b[0;36m  File \u001b[0;32m\"<ipython-input-2-4b7c26eb5933>\"\u001b[0;36m, line \u001b[0;32m1\u001b[0m\n\u001b[0;31m    1 46 102 46 203 46 304 46 405 47 506 47 607 47 708 47 809 47 910 47 1011 47 1112 47 1213 47 1314 47 1415 48 1516 48 1617 48 1718 49 1819 50 1920 50 2021 51 2122 53 2223 55 2324 58 2425 60 2526 63 2627 65 2728 67 2829 69 2930 72 3031 74 3132 76 3233 77 3334 79 3436 80 3539 79 3641 80 3744 79 3847 78 3950 77 4053 77 4155 77 4258 76 4361 76 4463 76 4566 76 4668 76 4769 78 4871 79 4972 79 5073 79 5174 79 5274 80 5375 80 5475 81 5575 82 5676 82 5776 83 5877 83 5977 84 6079 83 6180 83 6282 82 6385 80 6489 77 6593 74 6697 71 6802 67 6906 64 7011 60 7114 58 7217 56 7320 54 7423 52 7525 51 7628 49 7730 48 7832 47 7934 46 8036 45 8138 44 8240 43 8341 43 8443 42 8545 41 8646 41 8747 41 8849 40 8950 40 9051 40 9153 39 9254 39 9356 38 9458 37 9560 36 9661 36 9763 35 9865 34 9966 34 10067 34 10168 34\u001b[0m\n\u001b[0m       ^\u001b[0m\n\u001b[0;31mSyntaxError\u001b[0m\u001b[0;31m:\u001b[0m invalid syntax\n"
     ]
    }
   ],
   "source": [
    "1 46 102 46 203 46 304 46 405 47 506 47 607 47 708 47 809 47 910 47 1011 47 1112 47 1213 47 1314 47 1415 48 1516 48 1617 48 1718 49 1819 50 1920 50 2021 51 2122 53 2223 55 2324 58 2425 60 2526 63 2627 65 2728 67 2829 69 2930 72 3031 74 3132 76 3233 77 3334 79 3436 80 3539 79 3641 80 3744 79 3847 78 3950 77 4053 77 4155 77 4258 76 4361 76 4463 76 4566 76 4668 76 4769 78 4871 79 4972 79 5073 79 5174 79 5274 80 5375 80 5475 81 5575 82 5676 82 5776 83 5877 83 5977 84 6079 83 6180 83 6282 82 6385 80 6489 77 6593 74 6697 71 6802 67 6906 64 7011 60 7114 58 7217 56 7320 54 7423 52 7525 51 7628 49 7730 48 7832 47 7934 46 8036 45 8138 44 8240 43 8341 43 8443 42 8545 41 8646 41 8747 41 8849 40 8950 40 9051 40 9153 39 9254 39 9356 38 9458 37 9560 36 9661 36 9763 35 9865 34 9966 34 10067 34 10168 34"
   ]
  },
  {
   "cell_type": "code",
   "execution_count": null,
   "metadata": {
    "collapsed": true
   },
   "outputs": [],
   "source": []
  },
  {
   "cell_type": "markdown",
   "metadata": {},
   "source": [
    "# [参考解决方案1](https://github.com/neptune-ml/open-solution-salt-detection)"
   ]
  },
  {
   "cell_type": "code",
   "execution_count": null,
   "metadata": {
    "collapsed": true
   },
   "outputs": [],
   "source": []
  },
  {
   "cell_type": "markdown",
   "metadata": {
    "collapsed": true
   },
   "source": [
    "## [最后采用CRF做精度后处理](https://www.kaggle.com/lpachuong/apply-crf-unet-bn-diceloss)"
   ]
  },
  {
   "cell_type": "code",
   "execution_count": null,
   "metadata": {
    "collapsed": true
   },
   "outputs": [],
   "source": []
  },
  {
   "cell_type": "markdown",
   "metadata": {},
   "source": [
    "# FAQ:"
   ]
  },
  {
   "cell_type": "markdown",
   "metadata": {},
   "source": []
  },
  {
   "cell_type": "markdown",
   "metadata": {},
   "source": [
    "![](http://op4a94iq8.bkt.clouddn.com/18-8-27/62342417.jpg)"
   ]
  },
  {
   "cell_type": "code",
   "execution_count": null,
   "metadata": {
    "collapsed": true
   },
   "outputs": [],
   "source": []
  },
  {
   "cell_type": "code",
   "execution_count": null,
   "metadata": {
    "collapsed": true
   },
   "outputs": [],
   "source": []
  },
  {
   "cell_type": "markdown",
   "metadata": {},
   "source": [
    "True Positive （真正, TP）被模型预测为正的正样本；\n",
    "\n",
    "True Negative（真负 , TN）被模型预测为负的负样本 ；\n",
    "\n",
    "False Positive （假正, FP）被模型预测为正的负样本；\n",
    "\n",
    "False Negative（假负 , FN）被模型预测为负的正样本； ~\n",
    "![](http://op4a94iq8.bkt.clouddn.com/18-8-22/4131338.jpg)"
   ]
  },
  {
   "cell_type": "code",
   "execution_count": null,
   "metadata": {
    "collapsed": true
   },
   "outputs": [],
   "source": []
  },
  {
   "cell_type": "markdown",
   "metadata": {},
   "source": [
    "预配置:在cv2导入前，依次运行以下命令：  \n",
    "apt-get update   \n",
    "apt-get install -y python-qt4   "
   ]
  },
  {
   "cell_type": "code",
   "execution_count": null,
   "metadata": {
    "collapsed": true
   },
   "outputs": [],
   "source": []
  }
 ],
 "metadata": {
  "kernelspec": {
   "display_name": "Python 3",
   "language": "python",
   "name": "python3"
  },
  "language_info": {
   "codemirror_mode": {
    "name": "ipython",
    "version": 3
   },
   "file_extension": ".py",
   "mimetype": "text/x-python",
   "name": "python",
   "nbconvert_exporter": "python",
   "pygments_lexer": "ipython3",
   "version": "3.6.2"
  }
 },
 "nbformat": 4,
 "nbformat_minor": 2
}
